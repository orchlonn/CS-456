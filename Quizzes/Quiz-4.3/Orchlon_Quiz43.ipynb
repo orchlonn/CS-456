{
 "cells": [
  {
   "cell_type": "code",
   "execution_count": 5,
   "metadata": {},
   "outputs": [],
   "source": [
    "import pandas as pd\n",
    "import numpy as np\n",
    "import glob\n",
    "import matplotlib.pyplot as plt"
   ]
  },
  {
   "cell_type": "code",
   "execution_count": 6,
   "metadata": {},
   "outputs": [
    {
     "data": {
      "text/plain": [
       "['New_books.csv']"
      ]
     },
     "execution_count": 6,
     "metadata": {},
     "output_type": "execute_result"
    }
   ],
   "source": [
    "glob.glob('*.csv')"
   ]
  },
  {
   "cell_type": "markdown",
   "metadata": {},
   "source": [
    "## Load data"
   ]
  },
  {
   "cell_type": "code",
   "execution_count": 7,
   "metadata": {},
   "outputs": [
    {
     "data": {
      "text/html": [
       "<div>\n",
       "<style scoped>\n",
       "    .dataframe tbody tr th:only-of-type {\n",
       "        vertical-align: middle;\n",
       "    }\n",
       "\n",
       "    .dataframe tbody tr th {\n",
       "        vertical-align: top;\n",
       "    }\n",
       "\n",
       "    .dataframe thead th {\n",
       "        text-align: right;\n",
       "    }\n",
       "</style>\n",
       "<table border=\"1\" class=\"dataframe\">\n",
       "  <thead>\n",
       "    <tr style=\"text-align: right;\">\n",
       "      <th></th>\n",
       "      <th>Place of Publication</th>\n",
       "      <th>Date of Publication</th>\n",
       "      <th>Publisher</th>\n",
       "      <th>Title</th>\n",
       "      <th>Author</th>\n",
       "      <th>Flickr URL</th>\n",
       "    </tr>\n",
       "  </thead>\n",
       "  <tbody>\n",
       "    <tr>\n",
       "      <th>0</th>\n",
       "      <td>London</td>\n",
       "      <td>1879</td>\n",
       "      <td>S. Tinsley &amp; Co.</td>\n",
       "      <td>Walter Forbes</td>\n",
       "      <td>AA</td>\n",
       "      <td>http://www.flickr.com/photos/britishlibrary/ta...</td>\n",
       "    </tr>\n",
       "    <tr>\n",
       "      <th>1</th>\n",
       "      <td>London</td>\n",
       "      <td>1868</td>\n",
       "      <td>Virtue &amp; Co.</td>\n",
       "      <td>All For Greed</td>\n",
       "      <td>A. A A.</td>\n",
       "      <td>http://www.flickr.com/photos/britishlibrary/ta...</td>\n",
       "    </tr>\n",
       "    <tr>\n",
       "      <th>2</th>\n",
       "      <td>London</td>\n",
       "      <td>1869</td>\n",
       "      <td>Bradbury, Evans &amp; Co.</td>\n",
       "      <td>Love The Avenger</td>\n",
       "      <td>A. A A.</td>\n",
       "      <td>http://www.flickr.com/photos/britishlibrary/ta...</td>\n",
       "    </tr>\n",
       "    <tr>\n",
       "      <th>3</th>\n",
       "      <td>London</td>\n",
       "      <td>1851</td>\n",
       "      <td>James Darling</td>\n",
       "      <td>Welsh Sketches, Chiefly Ecclesiastical, To The...</td>\n",
       "      <td>E. S A.</td>\n",
       "      <td>http://www.flickr.com/photos/britishlibrary/ta...</td>\n",
       "    </tr>\n",
       "    <tr>\n",
       "      <th>4</th>\n",
       "      <td>London</td>\n",
       "      <td>1857</td>\n",
       "      <td>Wertheim &amp; Macintosh</td>\n",
       "      <td>The World In Which I Live, And My Place In It</td>\n",
       "      <td>E. S A.</td>\n",
       "      <td>http://www.flickr.com/photos/britishlibrary/ta...</td>\n",
       "    </tr>\n",
       "  </tbody>\n",
       "</table>\n",
       "</div>"
      ],
      "text/plain": [
       "  Place of Publication Date of Publication              Publisher  \\\n",
       "0               London               1879        S. Tinsley & Co.   \n",
       "1               London                1868           Virtue & Co.   \n",
       "2               London                1869  Bradbury, Evans & Co.   \n",
       "3               London                1851          James Darling   \n",
       "4               London                1857   Wertheim & Macintosh   \n",
       "\n",
       "                                               Title    Author  \\\n",
       "0                                      Walter Forbes        AA   \n",
       "1                                      All For Greed   A. A A.   \n",
       "2                                   Love The Avenger   A. A A.   \n",
       "3  Welsh Sketches, Chiefly Ecclesiastical, To The...   E. S A.   \n",
       "4      The World In Which I Live, And My Place In It   E. S A.   \n",
       "\n",
       "                                          Flickr URL  \n",
       "0  http://www.flickr.com/photos/britishlibrary/ta...  \n",
       "1  http://www.flickr.com/photos/britishlibrary/ta...  \n",
       "2  http://www.flickr.com/photos/britishlibrary/ta...  \n",
       "3  http://www.flickr.com/photos/britishlibrary/ta...  \n",
       "4  http://www.flickr.com/photos/britishlibrary/ta...  "
      ]
     },
     "execution_count": 7,
     "metadata": {},
     "output_type": "execute_result"
    }
   ],
   "source": [
    "cleaned_books_df = pd.read_csv('New_books.csv')\n",
    "cleaned_books_df.head()"
   ]
  },
  {
   "cell_type": "code",
   "execution_count": 8,
   "metadata": {},
   "outputs": [
    {
     "data": {
      "text/html": [
       "<div>\n",
       "<style scoped>\n",
       "    .dataframe tbody tr th:only-of-type {\n",
       "        vertical-align: middle;\n",
       "    }\n",
       "\n",
       "    .dataframe tbody tr th {\n",
       "        vertical-align: top;\n",
       "    }\n",
       "\n",
       "    .dataframe thead th {\n",
       "        text-align: right;\n",
       "    }\n",
       "</style>\n",
       "<table border=\"1\" class=\"dataframe\">\n",
       "  <thead>\n",
       "    <tr style=\"text-align: right;\">\n",
       "      <th></th>\n",
       "      <th>Place of Publication</th>\n",
       "      <th>Date of Publication</th>\n",
       "      <th>Publisher</th>\n",
       "      <th>Title</th>\n",
       "      <th>Author</th>\n",
       "      <th>Flickr URL</th>\n",
       "    </tr>\n",
       "  </thead>\n",
       "  <tbody>\n",
       "    <tr>\n",
       "      <th>count</th>\n",
       "      <td>8287</td>\n",
       "      <td>7320</td>\n",
       "      <td>4092</td>\n",
       "      <td>8274</td>\n",
       "      <td>6509</td>\n",
       "      <td>8287</td>\n",
       "    </tr>\n",
       "    <tr>\n",
       "      <th>unique</th>\n",
       "      <td>1192</td>\n",
       "      <td>403</td>\n",
       "      <td>1989</td>\n",
       "      <td>8031</td>\n",
       "      <td>4949</td>\n",
       "      <td>8287</td>\n",
       "    </tr>\n",
       "    <tr>\n",
       "      <th>top</th>\n",
       "      <td>London</td>\n",
       "      <td>1897</td>\n",
       "      <td>Macmillan &amp; Co.</td>\n",
       "      <td>Poems</td>\n",
       "      <td>William Shakespeare</td>\n",
       "      <td>http://www.flickr.com/photos/britishlibrary/ta...</td>\n",
       "    </tr>\n",
       "    <tr>\n",
       "      <th>freq</th>\n",
       "      <td>4219</td>\n",
       "      <td>174</td>\n",
       "      <td>85</td>\n",
       "      <td>10</td>\n",
       "      <td>48</td>\n",
       "      <td>1</td>\n",
       "    </tr>\n",
       "  </tbody>\n",
       "</table>\n",
       "</div>"
      ],
      "text/plain": [
       "       Place of Publication Date of Publication        Publisher  Title  \\\n",
       "count                  8287                7320             4092   8274   \n",
       "unique                 1192                 403             1989   8031   \n",
       "top                  London                1897  Macmillan & Co.  Poems   \n",
       "freq                   4219                 174               85     10   \n",
       "\n",
       "                      Author  \\\n",
       "count                   6509   \n",
       "unique                  4949   \n",
       "top      William Shakespeare   \n",
       "freq                      48   \n",
       "\n",
       "                                               Flickr URL  \n",
       "count                                                8287  \n",
       "unique                                               8287  \n",
       "top     http://www.flickr.com/photos/britishlibrary/ta...  \n",
       "freq                                                    1  "
      ]
     },
     "execution_count": 8,
     "metadata": {},
     "output_type": "execute_result"
    }
   ],
   "source": [
    "cleaned_books_df.describe()"
   ]
  },
  {
   "cell_type": "markdown",
   "metadata": {},
   "source": [
    "## 1. Get the top 5 publishers and their published number.\n",
    "To understanding Market Dynamics, identifying the top publishers helps understand the publishing market's dynamics during a specific period. It can indicate which publishers were dominant and how the publishing landscape might have been shaped by their activities."
   ]
  },
  {
   "cell_type": "code",
   "execution_count": 9,
   "metadata": {},
   "outputs": [
    {
     "data": {
      "text/plain": [
       "Publisher\n",
       "Macmillan & Co.        85\n",
       "London                 69\n",
       "Privately printed      53\n",
       "Longmans & Co.         52\n",
       "Hurst & Blackett       51\n",
       "                       ..\n",
       "Archibald Constable     1\n",
       "J. Heaton & Son         1\n",
       "Bowen-Merrill Co.       1\n",
       "Robert Triphook         1\n",
       "Mackenzie & Dent        1\n",
       "Name: count, Length: 1989, dtype: int64"
      ]
     },
     "execution_count": 9,
     "metadata": {},
     "output_type": "execute_result"
    }
   ],
   "source": [
    "cleaned_books_df['Publisher'].value_counts()"
   ]
  },
  {
   "cell_type": "code",
   "execution_count": 10,
   "metadata": {},
   "outputs": [
    {
     "data": {
      "text/plain": [
       "Publisher\n",
       "Macmillan & Co.      85\n",
       "London               69\n",
       "Privately printed    53\n",
       "Longmans & Co.       52\n",
       "Hurst & Blackett     51\n",
       "Name: count, dtype: int64"
      ]
     },
     "execution_count": 10,
     "metadata": {},
     "output_type": "execute_result"
    }
   ],
   "source": [
    "n = 5\n",
    "publisher_list = cleaned_books_df['Publisher'].value_counts()[:n]\n",
    "publisher_list"
   ]
  },
  {
   "cell_type": "code",
   "execution_count": 11,
   "metadata": {},
   "outputs": [
    {
     "data": {
      "text/plain": [
       "(Index(['Macmillan & Co.', 'London', 'Privately printed', 'Longmans & Co.',\n",
       "        'Hurst & Blackett'],\n",
       "       dtype='object', name='Publisher'),\n",
       " [85, 69, 53, 52, 51])"
      ]
     },
     "execution_count": 11,
     "metadata": {},
     "output_type": "execute_result"
    }
   ],
   "source": [
    "publisher_list.index, publisher_list.to_list()"
   ]
  },
  {
   "cell_type": "code",
   "execution_count": 12,
   "metadata": {},
   "outputs": [
    {
     "data": {
      "text/plain": [
       "<BarContainer object of 5 artists>"
      ]
     },
     "execution_count": 12,
     "metadata": {},
     "output_type": "execute_result"
    },
    {
     "data": {
      "image/png": "[encoded data removed]",
      "text/plain": [
       "<Figure size 640x480 with 1 Axes>"
      ]
     },
     "metadata": {},
     "output_type": "display_data"
    }
   ],
   "source": [
    "plt.bar(publisher_list.index,publisher_list.to_list())"
   ]
  },
  {
   "cell_type": "code",
   "execution_count": 13,
   "metadata": {},
   "outputs": [
    {
     "data": {
      "image/png": "[encoded data removed]",
      "text/plain": [
       "<Figure size 800x600 with 1 Axes>"
      ]
     },
     "metadata": {},
     "output_type": "display_data"
    }
   ],
   "source": [
    "# Creating a bar graph\n",
    "plt.figure(figsize=(8,6))\n",
    "\n",
    "# load your data\n",
    "cleaned_books_df = pd.read_csv('New_books.csv')\n",
    "publisher_counts = cleaned_books_df['Publisher'].value_counts().head(5)\n",
    "\n",
    "# bar plot\n",
    "bars = plt.bar(publisher_counts.index, publisher_counts.values, color='steelblue', label='Published items')\n",
    "# plt.xticks(rotation=45, ha='right')\n",
    "\n",
    "# annotate each bar with its count\n",
    "for rect, count in zip(bars, publisher_counts.values):\n",
    "    height = rect.get_height()\n",
    "    plt.text(rect.get_x() + rect.get_width()/2, height, str(count), ha='center', va='bottom', fontsize=11)\n",
    "\n",
    "plt.legend()\n",
    "plt.title('Get the top 5 publishers and their published number.',fontsize=18)\n",
    "plt.xlabel('Publisher',fontsize=17)\n",
    "plt.ylabel('Number of Published Items',fontsize=16)\n",
    "plt.grid(axis='y')\n",
    "\n",
    "plt.show()"
   ]
  },
  {
   "cell_type": "code",
   "execution_count": null,
   "metadata": {},
   "outputs": [],
   "source": []
  },
  {
   "cell_type": "code",
   "execution_count": null,
   "metadata": {},
   "outputs": [],
   "source": []
  },
  {
   "cell_type": "markdown",
   "metadata": {},
   "source": [
    "## Practice 1\n",
    "### 1.1 Identify the top five publishers with the greatest number of books published. \n",
    "### 1.2 Ascertain the year in which each of these publishers achieved their highest sales, along with the total number of books they published in that particular year.\n"
   ]
  },
  {
   "cell_type": "code",
   "execution_count": 121,
   "metadata": {},
   "outputs": [
    {
     "data": {
      "text/plain": [
       "Publisher\n",
       "Macmillan & Co.      85\n",
       "London               69\n",
       "Privately printed    53\n",
       "Longmans & Co.       52\n",
       "Hurst & Blackett     51\n",
       "Name: count, dtype: int64"
      ]
     },
     "execution_count": 121,
     "metadata": {},
     "output_type": "execute_result"
    }
   ],
   "source": [
    "publisher_list"
   ]
  },
  {
   "cell_type": "code",
   "execution_count": 122,
   "metadata": {
    "scrolled": true
   },
   "outputs": [
    {
     "data": {
      "text/html": [
       "<div>\n",
       "<style scoped>\n",
       "    .dataframe tbody tr th:only-of-type {\n",
       "        vertical-align: middle;\n",
       "    }\n",
       "\n",
       "    .dataframe tbody tr th {\n",
       "        vertical-align: top;\n",
       "    }\n",
       "\n",
       "    .dataframe thead th {\n",
       "        text-align: right;\n",
       "    }\n",
       "</style>\n",
       "<table border=\"1\" class=\"dataframe\">\n",
       "  <thead>\n",
       "    <tr style=\"text-align: right;\">\n",
       "      <th></th>\n",
       "      <th>Place of Publication</th>\n",
       "      <th>Date of Publication</th>\n",
       "      <th>Publisher</th>\n",
       "      <th>Title</th>\n",
       "      <th>Author</th>\n",
       "      <th>Flickr URL</th>\n",
       "    </tr>\n",
       "  </thead>\n",
       "  <tbody>\n",
       "    <tr>\n",
       "      <th>0</th>\n",
       "      <td>London</td>\n",
       "      <td>1879</td>\n",
       "      <td>S. Tinsley &amp; Co.</td>\n",
       "      <td>Walter Forbes</td>\n",
       "      <td>AA</td>\n",
       "      <td>http://www.flickr.com/photos/britishlibrary/ta...</td>\n",
       "    </tr>\n",
       "    <tr>\n",
       "      <th>1</th>\n",
       "      <td>London</td>\n",
       "      <td>1868</td>\n",
       "      <td>Virtue &amp; Co.</td>\n",
       "      <td>All For Greed</td>\n",
       "      <td>A. A A.</td>\n",
       "      <td>http://www.flickr.com/photos/britishlibrary/ta...</td>\n",
       "    </tr>\n",
       "    <tr>\n",
       "      <th>2</th>\n",
       "      <td>London</td>\n",
       "      <td>1869</td>\n",
       "      <td>Bradbury, Evans &amp; Co.</td>\n",
       "      <td>Love The Avenger</td>\n",
       "      <td>A. A A.</td>\n",
       "      <td>http://www.flickr.com/photos/britishlibrary/ta...</td>\n",
       "    </tr>\n",
       "    <tr>\n",
       "      <th>3</th>\n",
       "      <td>London</td>\n",
       "      <td>1851</td>\n",
       "      <td>James Darling</td>\n",
       "      <td>Welsh Sketches, Chiefly Ecclesiastical, To The...</td>\n",
       "      <td>E. S A.</td>\n",
       "      <td>http://www.flickr.com/photos/britishlibrary/ta...</td>\n",
       "    </tr>\n",
       "    <tr>\n",
       "      <th>4</th>\n",
       "      <td>London</td>\n",
       "      <td>1857</td>\n",
       "      <td>Wertheim &amp; Macintosh</td>\n",
       "      <td>The World In Which I Live, And My Place In It</td>\n",
       "      <td>E. S A.</td>\n",
       "      <td>http://www.flickr.com/photos/britishlibrary/ta...</td>\n",
       "    </tr>\n",
       "    <tr>\n",
       "      <th>...</th>\n",
       "      <td>...</td>\n",
       "      <td>...</td>\n",
       "      <td>...</td>\n",
       "      <td>...</td>\n",
       "      <td>...</td>\n",
       "      <td>...</td>\n",
       "    </tr>\n",
       "    <tr>\n",
       "      <th>8282</th>\n",
       "      <td>London</td>\n",
       "      <td>1838</td>\n",
       "      <td>NaN</td>\n",
       "      <td>The Parochial History Of Cornwall, Founded On</td>\n",
       "      <td>afterwards GILBERT Giddy</td>\n",
       "      <td>http://www.flickr.com/photos/britishlibrary/ta...</td>\n",
       "    </tr>\n",
       "    <tr>\n",
       "      <th>8283</th>\n",
       "      <td>Derby</td>\n",
       "      <td>1831</td>\n",
       "      <td>M. Mozley &amp; Son</td>\n",
       "      <td>The History And Gazetteer Of The County Of D</td>\n",
       "      <td>Stephen  Glover</td>\n",
       "      <td>http://www.flickr.com/photos/britishlibrary/ta...</td>\n",
       "    </tr>\n",
       "    <tr>\n",
       "      <th>8284</th>\n",
       "      <td>London</td>\n",
       "      <td>0</td>\n",
       "      <td>T. Cadell and W. Davies</td>\n",
       "      <td>Magna Britannia; Being A Concise Topographical...</td>\n",
       "      <td>Daniel  Lysons</td>\n",
       "      <td>http://www.flickr.com/photos/britishlibrary/ta...</td>\n",
       "    </tr>\n",
       "    <tr>\n",
       "      <th>8285</th>\n",
       "      <td>Newcastle-upon-Tyne</td>\n",
       "      <td>1834</td>\n",
       "      <td>Mackenzie &amp; Dent</td>\n",
       "      <td>An Historical, Topographical And Descriptive V...</td>\n",
       "      <td>E. (Eneas) Mackenzie</td>\n",
       "      <td>http://www.flickr.com/photos/britishlibrary/ta...</td>\n",
       "    </tr>\n",
       "    <tr>\n",
       "      <th>8286</th>\n",
       "      <td>London</td>\n",
       "      <td>1834</td>\n",
       "      <td>NaN</td>\n",
       "      <td>Collectanea Topographica Et Genealogica</td>\n",
       "      <td>NaN</td>\n",
       "      <td>http://www.flickr.com/photos/britishlibrary/ta...</td>\n",
       "    </tr>\n",
       "  </tbody>\n",
       "</table>\n",
       "<p>8287 rows × 6 columns</p>\n",
       "</div>"
      ],
      "text/plain": [
       "     Place of Publication  Date of Publication                Publisher  \\\n",
       "0                  London                 1879         S. Tinsley & Co.   \n",
       "1                  London                 1868             Virtue & Co.   \n",
       "2                  London                 1869    Bradbury, Evans & Co.   \n",
       "3                  London                 1851            James Darling   \n",
       "4                  London                 1857     Wertheim & Macintosh   \n",
       "...                   ...                  ...                      ...   \n",
       "8282               London                 1838                      NaN   \n",
       "8283                Derby                 1831          M. Mozley & Son   \n",
       "8284               London                    0  T. Cadell and W. Davies   \n",
       "8285  Newcastle-upon-Tyne                 1834         Mackenzie & Dent   \n",
       "8286               London                 1834                      NaN   \n",
       "\n",
       "                                                  Title  \\\n",
       "0                                         Walter Forbes   \n",
       "1                                         All For Greed   \n",
       "2                                      Love The Avenger   \n",
       "3     Welsh Sketches, Chiefly Ecclesiastical, To The...   \n",
       "4         The World In Which I Live, And My Place In It   \n",
       "...                                                 ...   \n",
       "8282      The Parochial History Of Cornwall, Founded On   \n",
       "8283       The History And Gazetteer Of The County Of D   \n",
       "8284  Magna Britannia; Being A Concise Topographical...   \n",
       "8285  An Historical, Topographical And Descriptive V...   \n",
       "8286            Collectanea Topographica Et Genealogica   \n",
       "\n",
       "                         Author  \\\n",
       "0                            AA   \n",
       "1                       A. A A.   \n",
       "2                       A. A A.   \n",
       "3                       E. S A.   \n",
       "4                       E. S A.   \n",
       "...                         ...   \n",
       "8282   afterwards GILBERT Giddy   \n",
       "8283            Stephen  Glover   \n",
       "8284             Daniel  Lysons   \n",
       "8285       E. (Eneas) Mackenzie   \n",
       "8286                        NaN   \n",
       "\n",
       "                                             Flickr URL  \n",
       "0     http://www.flickr.com/photos/britishlibrary/ta...  \n",
       "1     http://www.flickr.com/photos/britishlibrary/ta...  \n",
       "2     http://www.flickr.com/photos/britishlibrary/ta...  \n",
       "3     http://www.flickr.com/photos/britishlibrary/ta...  \n",
       "4     http://www.flickr.com/photos/britishlibrary/ta...  \n",
       "...                                                 ...  \n",
       "8282  http://www.flickr.com/photos/britishlibrary/ta...  \n",
       "8283  http://www.flickr.com/photos/britishlibrary/ta...  \n",
       "8284  http://www.flickr.com/photos/britishlibrary/ta...  \n",
       "8285  http://www.flickr.com/photos/britishlibrary/ta...  \n",
       "8286  http://www.flickr.com/photos/britishlibrary/ta...  \n",
       "\n",
       "[8287 rows x 6 columns]"
      ]
     },
     "execution_count": 122,
     "metadata": {},
     "output_type": "execute_result"
    }
   ],
   "source": [
    "# Selecting the data for the chosen publisher \"Macmillan & Co.\"\n",
    "cleaned_books_df[cleaned_books_df['Publisher'] == 'Macmillan & Co.']\n",
    "cleaned_books_df"
   ]
  },
  {
   "cell_type": "code",
   "execution_count": 123,
   "metadata": {},
   "outputs": [
    {
     "data": {
      "text/plain": [
       "[Date of Publication\n",
       " 1896    16\n",
       " Name: count, dtype: int64,\n",
       " Date of Publication\n",
       " 0    15\n",
       " Name: count, dtype: int64,\n",
       " Date of Publication\n",
       " 0    5\n",
       " Name: count, dtype: int64,\n",
       " Date of Publication\n",
       " 1889    6\n",
       " Name: count, dtype: int64,\n",
       " Date of Publication\n",
       " 1888    3\n",
       " Name: count, dtype: int64]"
      ]
     },
     "execution_count": 123,
     "metadata": {},
     "output_type": "execute_result"
    }
   ],
   "source": [
    "best_sellers_each_year = []\n",
    "for publisher in publisher_list.index.to_list():\n",
    "    best_sellers_each_year.append(cleaned_books_df[cleaned_books_df['Publisher'] == publisher]['Date of Publication'].value_counts()[:1])\n",
    "\n",
    "best_sellers_each_year"
   ]
  },
  {
   "cell_type": "code",
   "execution_count": 17,
   "metadata": {},
   "outputs": [
    {
     "data": {
      "image/png": "[encoded data removed]",
      "text/plain": [
       "<Figure size 800x600 with 1 Axes>"
      ]
     },
     "metadata": {},
     "output_type": "display_data"
    }
   ],
   "source": [
    "\n",
    "# Creating a bar graph\n",
    "plt.figure(figsize=(8,6))\n",
    "\n",
    "# get the top 5 publishers and their published number in each year.\n",
    "publisher_sales_counts = [int(s.max()) for s in best_sellers_each_year if len(s) > 0]\n",
    "# get the year of the top 5 publishers' highest sales.\n",
    "publisher_best_seller_years = [int(s.idxmax()) for s in best_sellers_each_year if len(s) > 0]\n",
    "\n",
    "#Your code:\n",
    "bars = plt.bar(publisher_list.index.to_list(), publisher_sales_counts, color = 'steelblue', label = 'Published items')\n",
    "\n",
    "# Annotating each bar with the corresponding most publish number of items\n",
    "# Your code:\n",
    "for rect, count in zip(bars, publisher_best_seller_years):\n",
    "    height = rect.get_height()\n",
    "    plt.text(rect.get_x() + rect.get_width()/2, height, str(count), ha='center', va='bottom', fontsize=11)\n",
    "\n",
    "plt.legend()\n",
    "plt.title('Get the top 5 publisher and their published number in each year.',fontsize=14)\n",
    "plt.xlabel('Publisher',fontsize=17)\n",
    "plt.ylabel('Number of Published Items',fontsize=16)\n",
    "plt.grid(axis='y')\n",
    "\n",
    "plt.show()\n",
    "\n"
   ]
  },
  {
   "cell_type": "code",
   "execution_count": null,
   "metadata": {},
   "outputs": [],
   "source": []
  },
  {
   "cell_type": "markdown",
   "metadata": {},
   "source": [
    "## 2. Get the 5 most published place\n",
    "Reason: For contemporary publishers, marketers, and authors, understanding historical publishing centers can provide insights into established markets and potential opportunities for new ventures or expansions."
   ]
  },
  {
   "cell_type": "code",
   "execution_count": 18,
   "metadata": {},
   "outputs": [
    {
     "data": {
      "text/html": [
       "<div>\n",
       "<style scoped>\n",
       "    .dataframe tbody tr th:only-of-type {\n",
       "        vertical-align: middle;\n",
       "    }\n",
       "\n",
       "    .dataframe tbody tr th {\n",
       "        vertical-align: top;\n",
       "    }\n",
       "\n",
       "    .dataframe thead th {\n",
       "        text-align: right;\n",
       "    }\n",
       "</style>\n",
       "<table border=\"1\" class=\"dataframe\">\n",
       "  <thead>\n",
       "    <tr style=\"text-align: right;\">\n",
       "      <th></th>\n",
       "      <th>Place of Publication</th>\n",
       "      <th>Date of Publication</th>\n",
       "      <th>Publisher</th>\n",
       "      <th>Title</th>\n",
       "      <th>Author</th>\n",
       "      <th>Flickr URL</th>\n",
       "    </tr>\n",
       "  </thead>\n",
       "  <tbody>\n",
       "    <tr>\n",
       "      <th>0</th>\n",
       "      <td>London</td>\n",
       "      <td>1879</td>\n",
       "      <td>S. Tinsley &amp; Co.</td>\n",
       "      <td>Walter Forbes</td>\n",
       "      <td>AA</td>\n",
       "      <td>http://www.flickr.com/photos/britishlibrary/ta...</td>\n",
       "    </tr>\n",
       "    <tr>\n",
       "      <th>1</th>\n",
       "      <td>London</td>\n",
       "      <td>1868</td>\n",
       "      <td>Virtue &amp; Co.</td>\n",
       "      <td>All For Greed</td>\n",
       "      <td>A. A A.</td>\n",
       "      <td>http://www.flickr.com/photos/britishlibrary/ta...</td>\n",
       "    </tr>\n",
       "    <tr>\n",
       "      <th>2</th>\n",
       "      <td>London</td>\n",
       "      <td>1869</td>\n",
       "      <td>Bradbury, Evans &amp; Co.</td>\n",
       "      <td>Love The Avenger</td>\n",
       "      <td>A. A A.</td>\n",
       "      <td>http://www.flickr.com/photos/britishlibrary/ta...</td>\n",
       "    </tr>\n",
       "    <tr>\n",
       "      <th>3</th>\n",
       "      <td>London</td>\n",
       "      <td>1851</td>\n",
       "      <td>James Darling</td>\n",
       "      <td>Welsh Sketches, Chiefly Ecclesiastical, To The...</td>\n",
       "      <td>E. S A.</td>\n",
       "      <td>http://www.flickr.com/photos/britishlibrary/ta...</td>\n",
       "    </tr>\n",
       "    <tr>\n",
       "      <th>4</th>\n",
       "      <td>London</td>\n",
       "      <td>1857</td>\n",
       "      <td>Wertheim &amp; Macintosh</td>\n",
       "      <td>The World In Which I Live, And My Place In It</td>\n",
       "      <td>E. S A.</td>\n",
       "      <td>http://www.flickr.com/photos/britishlibrary/ta...</td>\n",
       "    </tr>\n",
       "  </tbody>\n",
       "</table>\n",
       "</div>"
      ],
      "text/plain": [
       "  Place of Publication Date of Publication              Publisher  \\\n",
       "0               London               1879        S. Tinsley & Co.   \n",
       "1               London                1868           Virtue & Co.   \n",
       "2               London                1869  Bradbury, Evans & Co.   \n",
       "3               London                1851          James Darling   \n",
       "4               London                1857   Wertheim & Macintosh   \n",
       "\n",
       "                                               Title    Author  \\\n",
       "0                                      Walter Forbes        AA   \n",
       "1                                      All For Greed   A. A A.   \n",
       "2                                   Love The Avenger   A. A A.   \n",
       "3  Welsh Sketches, Chiefly Ecclesiastical, To The...   E. S A.   \n",
       "4      The World In Which I Live, And My Place In It   E. S A.   \n",
       "\n",
       "                                          Flickr URL  \n",
       "0  http://www.flickr.com/photos/britishlibrary/ta...  \n",
       "1  http://www.flickr.com/photos/britishlibrary/ta...  \n",
       "2  http://www.flickr.com/photos/britishlibrary/ta...  \n",
       "3  http://www.flickr.com/photos/britishlibrary/ta...  \n",
       "4  http://www.flickr.com/photos/britishlibrary/ta...  "
      ]
     },
     "execution_count": 18,
     "metadata": {},
     "output_type": "execute_result"
    }
   ],
   "source": [
    "cleaned_books_df.head()"
   ]
  },
  {
   "cell_type": "code",
   "execution_count": 22,
   "metadata": {},
   "outputs": [
    {
     "data": {
      "text/html": [
       "<div>\n",
       "<style scoped>\n",
       "    .dataframe tbody tr th:only-of-type {\n",
       "        vertical-align: middle;\n",
       "    }\n",
       "\n",
       "    .dataframe tbody tr th {\n",
       "        vertical-align: top;\n",
       "    }\n",
       "\n",
       "    .dataframe thead th {\n",
       "        text-align: right;\n",
       "    }\n",
       "</style>\n",
       "<table border=\"1\" class=\"dataframe\">\n",
       "  <thead>\n",
       "    <tr style=\"text-align: right;\">\n",
       "      <th></th>\n",
       "      <th>Place of Publication</th>\n",
       "      <th>Date of Publication</th>\n",
       "      <th>Publisher</th>\n",
       "      <th>Title</th>\n",
       "      <th>Author</th>\n",
       "      <th>Flickr URL</th>\n",
       "    </tr>\n",
       "  </thead>\n",
       "  <tbody>\n",
       "    <tr>\n",
       "      <th>count</th>\n",
       "      <td>8287</td>\n",
       "      <td>7320</td>\n",
       "      <td>4092</td>\n",
       "      <td>8274</td>\n",
       "      <td>6509</td>\n",
       "      <td>8287</td>\n",
       "    </tr>\n",
       "    <tr>\n",
       "      <th>unique</th>\n",
       "      <td>1192</td>\n",
       "      <td>403</td>\n",
       "      <td>1989</td>\n",
       "      <td>8031</td>\n",
       "      <td>4949</td>\n",
       "      <td>8287</td>\n",
       "    </tr>\n",
       "    <tr>\n",
       "      <th>top</th>\n",
       "      <td>London</td>\n",
       "      <td>1897</td>\n",
       "      <td>Macmillan &amp; Co.</td>\n",
       "      <td>Poems</td>\n",
       "      <td>William Shakespeare</td>\n",
       "      <td>http://www.flickr.com/photos/britishlibrary/ta...</td>\n",
       "    </tr>\n",
       "    <tr>\n",
       "      <th>freq</th>\n",
       "      <td>4219</td>\n",
       "      <td>174</td>\n",
       "      <td>85</td>\n",
       "      <td>10</td>\n",
       "      <td>48</td>\n",
       "      <td>1</td>\n",
       "    </tr>\n",
       "  </tbody>\n",
       "</table>\n",
       "</div>"
      ],
      "text/plain": [
       "       Place of Publication Date of Publication        Publisher  Title  \\\n",
       "count                  8287                7320             4092   8274   \n",
       "unique                 1192                 403             1989   8031   \n",
       "top                  London                1897  Macmillan & Co.  Poems   \n",
       "freq                   4219                 174               85     10   \n",
       "\n",
       "                      Author  \\\n",
       "count                   6509   \n",
       "unique                  4949   \n",
       "top      William Shakespeare   \n",
       "freq                      48   \n",
       "\n",
       "                                               Flickr URL  \n",
       "count                                                8287  \n",
       "unique                                               8287  \n",
       "top     http://www.flickr.com/photos/britishlibrary/ta...  \n",
       "freq                                                    1  "
      ]
     },
     "execution_count": 22,
     "metadata": {},
     "output_type": "execute_result"
    }
   ],
   "source": [
    "cleaned_books_df.describe()"
   ]
  },
  {
   "cell_type": "code",
   "execution_count": null,
   "metadata": {},
   "outputs": [],
   "source": []
  },
  {
   "cell_type": "code",
   "execution_count": 138,
   "metadata": {},
   "outputs": [
    {
     "data": {
      "text/plain": [
       "{'London': 4219,\n",
       " 'Paris': 479,\n",
       " 'Edinburgh': 208,\n",
       " 'New York': 177,\n",
       " 'Leipzig': 119,\n",
       " 'Others': np.int64(3085)}"
      ]
     },
     "execution_count": 138,
     "metadata": {},
     "output_type": "execute_result"
    }
   ],
   "source": [
    "# create publish_place_data\n",
    "def get_publish_place_data(n, df):\n",
    "    # n: Number of target searches\n",
    "    # df: input dataframe\n",
    "    # Your code:\n",
    "    publisher_place_list = cleaned_books_df['Place of Publication'].value_counts()[:n]\n",
    "    others_place_number = cleaned_books_df['Place of Publication'].value_counts()[n:].sum()\n",
    "\n",
    "    dic = {}\n",
    "    for pub, item in zip(publisher_place_list.index, publisher_place_list):\n",
    "        dic[pub] = item\n",
    "    dic[\"Others\"] = others_place_number\n",
    "\n",
    "    return dic\n",
    "\n",
    "get_publish_place_data(5, cleaned_books_df)\n"
   ]
  },
  {
   "cell_type": "code",
   "execution_count": 139,
   "metadata": {},
   "outputs": [
    {
     "name": "stdout",
     "output_type": "stream",
     "text": [
      "['London', 'Paris', 'Edinburgh', 'New York', 'Leipzig', 'Others']\n",
      "[4219, 479, 208, 177, 119, np.int64(3085)]\n"
     ]
    },
    {
     "data": {
      "image/png": "[encoded data removed]",
      "text/plain": [
       "<Figure size 800x800 with 1 Axes>"
      ]
     },
     "metadata": {},
     "output_type": "display_data"
    }
   ],
   "source": [
    "# Pie Chart Analysis:\n",
    "\n",
    "# Sample data provided earlier (assuming the same structure as the actual dataset)\n",
    "place_of_data = get_publish_place_data(5, cleaned_books_df)\n",
    "\n",
    "# Extracting data for pie chart\n",
    "places = list(place_of_data.keys())\n",
    "publications = [place_of_data[place] for place in places]\n",
    "print(places)\n",
    "print(publications)\n",
    "\n",
    "# Creating a pie chart\n",
    "plt.figure(figsize=(8,8))\n",
    "# Your Pie chart code:\n",
    "plt.pie(publications, labels=places, autopct=\"%1.1f%%\", startangle=140, textprops={'fontsize':15})\n",
    "\n",
    "plt.title('Distribution of Publications by Top 5 places', fontsize=20)\n",
    "plt.show()\n"
   ]
  },
  {
   "cell_type": "code",
   "execution_count": null,
   "metadata": {},
   "outputs": [],
   "source": []
  },
  {
   "cell_type": "markdown",
   "metadata": {},
   "source": [
    "### 3.1 Demo for  `.groupby`  function"
   ]
  },
  {
   "cell_type": "code",
   "execution_count": 140,
   "metadata": {},
   "outputs": [
    {
     "data": {
      "text/html": [
       "<div>\n",
       "<style scoped>\n",
       "    .dataframe tbody tr th:only-of-type {\n",
       "        vertical-align: middle;\n",
       "    }\n",
       "\n",
       "    .dataframe tbody tr th {\n",
       "        vertical-align: top;\n",
       "    }\n",
       "\n",
       "    .dataframe thead th {\n",
       "        text-align: right;\n",
       "    }\n",
       "</style>\n",
       "<table border=\"1\" class=\"dataframe\">\n",
       "  <thead>\n",
       "    <tr style=\"text-align: right;\">\n",
       "      <th></th>\n",
       "      <th>Category</th>\n",
       "      <th>Values</th>\n",
       "    </tr>\n",
       "  </thead>\n",
       "  <tbody>\n",
       "    <tr>\n",
       "      <th>0</th>\n",
       "      <td>A</td>\n",
       "      <td>10</td>\n",
       "    </tr>\n",
       "    <tr>\n",
       "      <th>1</th>\n",
       "      <td>B</td>\n",
       "      <td>20</td>\n",
       "    </tr>\n",
       "    <tr>\n",
       "      <th>2</th>\n",
       "      <td>A</td>\n",
       "      <td>30</td>\n",
       "    </tr>\n",
       "    <tr>\n",
       "      <th>3</th>\n",
       "      <td>B</td>\n",
       "      <td>40</td>\n",
       "    </tr>\n",
       "  </tbody>\n",
       "</table>\n",
       "</div>"
      ],
      "text/plain": [
       "  Category  Values\n",
       "0        A      10\n",
       "1        B      20\n",
       "2        A      30\n",
       "3        B      40"
      ]
     },
     "execution_count": 140,
     "metadata": {},
     "output_type": "execute_result"
    }
   ],
   "source": [
    "# Sample DataFrame\n",
    "df = pd.DataFrame({'Category': ['A', 'B', 'A', 'B'],\n",
    "                   'Values': [10, 20, 30, 40]})\n",
    "\n",
    "df"
   ]
  },
  {
   "cell_type": "code",
   "execution_count": 141,
   "metadata": {},
   "outputs": [
    {
     "name": "stdout",
     "output_type": "stream",
     "text": [
      "Category\n",
      "A    2\n",
      "B    2\n",
      "dtype: int64\n"
     ]
    }
   ],
   "source": [
    "# Grouping by 'Category' and calculating the size of each group\n",
    "grouped = df.groupby('Category').size()\n",
    "\n",
    "print(grouped)"
   ]
  },
  {
   "cell_type": "code",
   "execution_count": 142,
   "metadata": {},
   "outputs": [
    {
     "name": "stdout",
     "output_type": "stream",
     "text": [
      "          Values\n",
      "Category        \n",
      "A             40\n",
      "B             60\n"
     ]
    }
   ],
   "source": [
    "# Grouping by 'Category' and calculating the mean of each group\n",
    "grouped = df.groupby('Category').sum()\n",
    "\n",
    "print(grouped)"
   ]
  },
  {
   "cell_type": "markdown",
   "metadata": {},
   "source": [
    "## 3. Show the yearly trend in the number of publications"
   ]
  },
  {
   "cell_type": "markdown",
   "metadata": {},
   "source": [
    "### 3.2 Use `.groupby` on Books data"
   ]
  },
  {
   "cell_type": "code",
   "execution_count": 143,
   "metadata": {
    "scrolled": true
   },
   "outputs": [
    {
     "data": {
      "text/html": [
       "<div>\n",
       "<style scoped>\n",
       "    .dataframe tbody tr th:only-of-type {\n",
       "        vertical-align: middle;\n",
       "    }\n",
       "\n",
       "    .dataframe tbody tr th {\n",
       "        vertical-align: top;\n",
       "    }\n",
       "\n",
       "    .dataframe thead th {\n",
       "        text-align: right;\n",
       "    }\n",
       "</style>\n",
       "<table border=\"1\" class=\"dataframe\">\n",
       "  <thead>\n",
       "    <tr style=\"text-align: right;\">\n",
       "      <th></th>\n",
       "      <th>Place of Publication</th>\n",
       "      <th>Date of Publication</th>\n",
       "      <th>Publisher</th>\n",
       "      <th>Title</th>\n",
       "      <th>Author</th>\n",
       "      <th>Flickr URL</th>\n",
       "    </tr>\n",
       "  </thead>\n",
       "  <tbody>\n",
       "    <tr>\n",
       "      <th>0</th>\n",
       "      <td>London</td>\n",
       "      <td>1879</td>\n",
       "      <td>S. Tinsley &amp; Co.</td>\n",
       "      <td>Walter Forbes</td>\n",
       "      <td>AA</td>\n",
       "      <td>http://www.flickr.com/photos/britishlibrary/ta...</td>\n",
       "    </tr>\n",
       "    <tr>\n",
       "      <th>1</th>\n",
       "      <td>London</td>\n",
       "      <td>1868</td>\n",
       "      <td>Virtue &amp; Co.</td>\n",
       "      <td>All For Greed</td>\n",
       "      <td>A. A A.</td>\n",
       "      <td>http://www.flickr.com/photos/britishlibrary/ta...</td>\n",
       "    </tr>\n",
       "    <tr>\n",
       "      <th>2</th>\n",
       "      <td>London</td>\n",
       "      <td>1869</td>\n",
       "      <td>Bradbury, Evans &amp; Co.</td>\n",
       "      <td>Love The Avenger</td>\n",
       "      <td>A. A A.</td>\n",
       "      <td>http://www.flickr.com/photos/britishlibrary/ta...</td>\n",
       "    </tr>\n",
       "    <tr>\n",
       "      <th>3</th>\n",
       "      <td>London</td>\n",
       "      <td>1851</td>\n",
       "      <td>James Darling</td>\n",
       "      <td>Welsh Sketches, Chiefly Ecclesiastical, To The...</td>\n",
       "      <td>E. S A.</td>\n",
       "      <td>http://www.flickr.com/photos/britishlibrary/ta...</td>\n",
       "    </tr>\n",
       "    <tr>\n",
       "      <th>4</th>\n",
       "      <td>London</td>\n",
       "      <td>1857</td>\n",
       "      <td>Wertheim &amp; Macintosh</td>\n",
       "      <td>The World In Which I Live, And My Place In It</td>\n",
       "      <td>E. S A.</td>\n",
       "      <td>http://www.flickr.com/photos/britishlibrary/ta...</td>\n",
       "    </tr>\n",
       "  </tbody>\n",
       "</table>\n",
       "</div>"
      ],
      "text/plain": [
       "  Place of Publication  Date of Publication              Publisher  \\\n",
       "0               London                 1879       S. Tinsley & Co.   \n",
       "1               London                 1868           Virtue & Co.   \n",
       "2               London                 1869  Bradbury, Evans & Co.   \n",
       "3               London                 1851          James Darling   \n",
       "4               London                 1857   Wertheim & Macintosh   \n",
       "\n",
       "                                               Title    Author  \\\n",
       "0                                      Walter Forbes        AA   \n",
       "1                                      All For Greed   A. A A.   \n",
       "2                                   Love The Avenger   A. A A.   \n",
       "3  Welsh Sketches, Chiefly Ecclesiastical, To The...   E. S A.   \n",
       "4      The World In Which I Live, And My Place In It   E. S A.   \n",
       "\n",
       "                                          Flickr URL  \n",
       "0  http://www.flickr.com/photos/britishlibrary/ta...  \n",
       "1  http://www.flickr.com/photos/britishlibrary/ta...  \n",
       "2  http://www.flickr.com/photos/britishlibrary/ta...  \n",
       "3  http://www.flickr.com/photos/britishlibrary/ta...  \n",
       "4  http://www.flickr.com/photos/britishlibrary/ta...  "
      ]
     },
     "execution_count": 143,
     "metadata": {},
     "output_type": "execute_result"
    }
   ],
   "source": [
    "cleaned_books_df.head()"
   ]
  },
  {
   "cell_type": "code",
   "execution_count": 144,
   "metadata": {},
   "outputs": [
    {
     "data": {
      "text/plain": [
       "0       1879\n",
       "1       1868\n",
       "2       1869\n",
       "3       1851\n",
       "4       1857\n",
       "        ... \n",
       "8282    1838\n",
       "8283    1831\n",
       "8284       0\n",
       "8285    1834\n",
       "8286    1834\n",
       "Name: Date of Publication, Length: 8287, dtype: int64"
      ]
     },
     "execution_count": 144,
     "metadata": {},
     "output_type": "execute_result"
    }
   ],
   "source": [
    "cleaned_books_df['Date of Publication']"
   ]
  },
  {
   "cell_type": "code",
   "execution_count": 145,
   "metadata": {},
   "outputs": [
    {
     "data": {
      "text/plain": [
       "Date of Publication\n",
       "0       967\n",
       "17        1\n",
       "30        1\n",
       "112       1\n",
       "1510      1\n",
       "       ... \n",
       "1898    140\n",
       "1899    132\n",
       "1900      1\n",
       "1911      1\n",
       "1915      1\n",
       "Length: 258, dtype: int64"
      ]
     },
     "execution_count": 145,
     "metadata": {},
     "output_type": "execute_result"
    }
   ],
   "source": [
    "yearly_publication_counts = cleaned_books_df.groupby('Date of Publication').size()\n",
    "yearly_publication_counts"
   ]
  },
  {
   "cell_type": "code",
   "execution_count": 146,
   "metadata": {
    "scrolled": true
   },
   "outputs": [
    {
     "name": "stdout",
     "output_type": "stream",
     "text": [
      "0 <class 'int'>\n",
      "17 <class 'int'>\n",
      "30 <class 'int'>\n",
      "112 <class 'int'>\n",
      "1510 <class 'int'>\n",
      "1540 <class 'int'>\n",
      "1570 <class 'int'>\n",
      "1592 <class 'int'>\n",
      "1602 <class 'int'>\n",
      "1607 <class 'int'>\n",
      "1625 <class 'int'>\n",
      "1628 <class 'int'>\n",
      "1631 <class 'int'>\n",
      "1632 <class 'int'>\n",
      "1633 <class 'int'>\n",
      "1635 <class 'int'>\n",
      "1637 <class 'int'>\n",
      "1638 <class 'int'>\n",
      "1639 <class 'int'>\n",
      "1640 <class 'int'>\n",
      "1641 <class 'int'>\n",
      "1647 <class 'int'>\n",
      "1648 <class 'int'>\n",
      "1651 <class 'int'>\n",
      "1653 <class 'int'>\n",
      "1654 <class 'int'>\n",
      "1656 <class 'int'>\n",
      "1657 <class 'int'>\n",
      "1658 <class 'int'>\n",
      "1660 <class 'int'>\n",
      "1661 <class 'int'>\n",
      "1662 <class 'int'>\n",
      "1663 <class 'int'>\n",
      "1664 <class 'int'>\n",
      "1667 <class 'int'>\n",
      "1670 <class 'int'>\n",
      "1671 <class 'int'>\n",
      "1672 <class 'int'>\n",
      "1673 <class 'int'>\n",
      "1674 <class 'int'>\n",
      "1675 <class 'int'>\n",
      "1676 <class 'int'>\n",
      "1677 <class 'int'>\n",
      "1678 <class 'int'>\n",
      "1679 <class 'int'>\n",
      "1680 <class 'int'>\n",
      "1681 <class 'int'>\n",
      "1682 <class 'int'>\n",
      "1683 <class 'int'>\n",
      "1684 <class 'int'>\n",
      "1685 <class 'int'>\n",
      "1686 <class 'int'>\n",
      "1687 <class 'int'>\n",
      "1688 <class 'int'>\n",
      "1689 <class 'int'>\n",
      "1690 <class 'int'>\n",
      "1691 <class 'int'>\n",
      "1692 <class 'int'>\n",
      "1693 <class 'int'>\n",
      "1694 <class 'int'>\n",
      "1695 <class 'int'>\n",
      "1696 <class 'int'>\n",
      "1697 <class 'int'>\n",
      "1698 <class 'int'>\n",
      "1699 <class 'int'>\n",
      "1700 <class 'int'>\n",
      "1701 <class 'int'>\n",
      "1702 <class 'int'>\n",
      "1703 <class 'int'>\n",
      "1704 <class 'int'>\n",
      "1705 <class 'int'>\n",
      "1707 <class 'int'>\n",
      "1708 <class 'int'>\n",
      "1709 <class 'int'>\n",
      "1710 <class 'int'>\n",
      "1713 <class 'int'>\n",
      "1716 <class 'int'>\n",
      "1717 <class 'int'>\n",
      "1718 <class 'int'>\n",
      "1719 <class 'int'>\n",
      "1720 <class 'int'>\n",
      "1721 <class 'int'>\n",
      "1722 <class 'int'>\n",
      "1724 <class 'int'>\n",
      "1725 <class 'int'>\n",
      "1728 <class 'int'>\n",
      "1729 <class 'int'>\n",
      "1731 <class 'int'>\n",
      "1732 <class 'int'>\n",
      "1733 <class 'int'>\n",
      "1734 <class 'int'>\n",
      "1735 <class 'int'>\n",
      "1736 <class 'int'>\n",
      "1737 <class 'int'>\n",
      "1738 <class 'int'>\n",
      "1739 <class 'int'>\n",
      "1740 <class 'int'>\n",
      "1741 <class 'int'>\n",
      "1742 <class 'int'>\n",
      "1743 <class 'int'>\n",
      "1744 <class 'int'>\n",
      "1746 <class 'int'>\n",
      "1747 <class 'int'>\n",
      "1748 <class 'int'>\n",
      "1749 <class 'int'>\n",
      "1750 <class 'int'>\n",
      "1751 <class 'int'>\n",
      "1752 <class 'int'>\n",
      "1753 <class 'int'>\n",
      "1754 <class 'int'>\n",
      "1755 <class 'int'>\n",
      "1756 <class 'int'>\n",
      "1757 <class 'int'>\n",
      "1758 <class 'int'>\n",
      "1759 <class 'int'>\n",
      "1760 <class 'int'>\n",
      "1761 <class 'int'>\n",
      "1762 <class 'int'>\n",
      "1763 <class 'int'>\n",
      "1764 <class 'int'>\n",
      "1765 <class 'int'>\n",
      "1766 <class 'int'>\n",
      "1767 <class 'int'>\n",
      "1768 <class 'int'>\n",
      "1769 <class 'int'>\n",
      "1770 <class 'int'>\n",
      "1771 <class 'int'>\n",
      "1772 <class 'int'>\n",
      "1773 <class 'int'>\n",
      "1774 <class 'int'>\n",
      "1775 <class 'int'>\n",
      "1776 <class 'int'>\n",
      "1777 <class 'int'>\n",
      "1778 <class 'int'>\n",
      "1779 <class 'int'>\n",
      "1780 <class 'int'>\n",
      "1781 <class 'int'>\n",
      "1782 <class 'int'>\n",
      "1783 <class 'int'>\n",
      "1784 <class 'int'>\n",
      "1785 <class 'int'>\n",
      "1786 <class 'int'>\n",
      "1787 <class 'int'>\n",
      "1788 <class 'int'>\n",
      "1789 <class 'int'>\n",
      "1790 <class 'int'>\n",
      "1791 <class 'int'>\n",
      "1792 <class 'int'>\n",
      "1793 <class 'int'>\n",
      "1794 <class 'int'>\n",
      "1795 <class 'int'>\n",
      "1796 <class 'int'>\n",
      "1797 <class 'int'>\n",
      "1798 <class 'int'>\n",
      "1799 <class 'int'>\n",
      "1800 <class 'int'>\n",
      "1801 <class 'int'>\n",
      "1802 <class 'int'>\n",
      "1803 <class 'int'>\n",
      "1804 <class 'int'>\n",
      "1805 <class 'int'>\n",
      "1806 <class 'int'>\n",
      "1807 <class 'int'>\n",
      "1808 <class 'int'>\n",
      "1809 <class 'int'>\n",
      "1810 <class 'int'>\n",
      "1811 <class 'int'>\n",
      "1812 <class 'int'>\n",
      "1813 <class 'int'>\n",
      "1814 <class 'int'>\n",
      "1815 <class 'int'>\n",
      "1816 <class 'int'>\n",
      "1817 <class 'int'>\n",
      "1818 <class 'int'>\n",
      "1819 <class 'int'>\n",
      "1820 <class 'int'>\n",
      "1821 <class 'int'>\n",
      "1822 <class 'int'>\n",
      "1823 <class 'int'>\n",
      "1824 <class 'int'>\n",
      "1825 <class 'int'>\n",
      "1826 <class 'int'>\n",
      "1827 <class 'int'>\n",
      "1828 <class 'int'>\n",
      "1829 <class 'int'>\n",
      "1830 <class 'int'>\n",
      "1831 <class 'int'>\n",
      "1832 <class 'int'>\n",
      "1833 <class 'int'>\n",
      "1834 <class 'int'>\n",
      "1835 <class 'int'>\n",
      "1836 <class 'int'>\n",
      "1837 <class 'int'>\n",
      "1838 <class 'int'>\n",
      "1839 <class 'int'>\n",
      "1840 <class 'int'>\n",
      "1841 <class 'int'>\n",
      "1842 <class 'int'>\n",
      "1843 <class 'int'>\n",
      "1844 <class 'int'>\n",
      "1845 <class 'int'>\n",
      "1846 <class 'int'>\n",
      "1847 <class 'int'>\n",
      "1848 <class 'int'>\n",
      "1849 <class 'int'>\n",
      "1850 <class 'int'>\n",
      "1851 <class 'int'>\n",
      "1852 <class 'int'>\n",
      "1853 <class 'int'>\n",
      "1854 <class 'int'>\n",
      "1855 <class 'int'>\n",
      "1856 <class 'int'>\n",
      "1857 <class 'int'>\n",
      "1858 <class 'int'>\n",
      "1859 <class 'int'>\n",
      "1860 <class 'int'>\n",
      "1861 <class 'int'>\n",
      "1862 <class 'int'>\n",
      "1863 <class 'int'>\n",
      "1864 <class 'int'>\n",
      "1865 <class 'int'>\n",
      "1866 <class 'int'>\n",
      "1867 <class 'int'>\n",
      "1868 <class 'int'>\n",
      "1869 <class 'int'>\n",
      "1870 <class 'int'>\n",
      "1871 <class 'int'>\n",
      "1872 <class 'int'>\n",
      "1873 <class 'int'>\n",
      "1874 <class 'int'>\n",
      "1875 <class 'int'>\n",
      "1876 <class 'int'>\n",
      "1877 <class 'int'>\n",
      "1878 <class 'int'>\n",
      "1879 <class 'int'>\n",
      "1880 <class 'int'>\n",
      "1881 <class 'int'>\n",
      "1882 <class 'int'>\n",
      "1883 <class 'int'>\n",
      "1884 <class 'int'>\n",
      "1885 <class 'int'>\n",
      "1886 <class 'int'>\n",
      "1887 <class 'int'>\n",
      "1888 <class 'int'>\n",
      "1889 <class 'int'>\n",
      "1890 <class 'int'>\n",
      "1891 <class 'int'>\n",
      "1892 <class 'int'>\n",
      "1893 <class 'int'>\n",
      "1894 <class 'int'>\n",
      "1895 <class 'int'>\n",
      "1896 <class 'int'>\n",
      "1897 <class 'int'>\n",
      "1898 <class 'int'>\n",
      "1899 <class 'int'>\n",
      "1900 <class 'int'>\n",
      "1911 <class 'int'>\n",
      "1915 <class 'int'>\n"
     ]
    }
   ],
   "source": [
    "for i in yearly_publication_counts.index:\n",
    "    print(i,type(i))"
   ]
  },
  {
   "cell_type": "code",
   "execution_count": null,
   "metadata": {},
   "outputs": [],
   "source": []
  },
  {
   "cell_type": "code",
   "execution_count": 152,
   "metadata": {
    "scrolled": true
   },
   "outputs": [
    {
     "ename": "TypeError",
     "evalue": "'int' object is not subscriptable",
     "output_type": "error",
     "traceback": [
      "\u001b[31m---------------------------------------------------------------------------\u001b[39m",
      "\u001b[31mTypeError\u001b[39m                                 Traceback (most recent call last)",
      "\u001b[36mCell\u001b[39m\u001b[36m \u001b[39m\u001b[32mIn[152]\u001b[39m\u001b[32m, line 2\u001b[39m\n\u001b[32m      1\u001b[39m \u001b[38;5;28;01mfor\u001b[39;00m i \u001b[38;5;129;01min\u001b[39;00m yearly_publication_counts.index:\n\u001b[32m----> \u001b[39m\u001b[32m2\u001b[39m     \u001b[38;5;28mprint\u001b[39m(i,\u001b[43mclean_year\u001b[49m\u001b[43m(\u001b[49m\u001b[43mi\u001b[49m\u001b[43m)\u001b[49m)\n",
      "\u001b[36mCell\u001b[39m\u001b[36m \u001b[39m\u001b[32mIn[149]\u001b[39m\u001b[32m, line 5\u001b[39m, in \u001b[36mclean_year\u001b[39m\u001b[34m(year)\u001b[39m\n\u001b[32m      3\u001b[39m \u001b[38;5;28;01mif\u001b[39;00m year == \u001b[33m'\u001b[39m\u001b[33mnan\u001b[39m\u001b[33m'\u001b[39m:\n\u001b[32m      4\u001b[39m     \u001b[38;5;28;01mreturn\u001b[39;00m \u001b[33m'\u001b[39m\u001b[33m0\u001b[39m\u001b[33m'\u001b[39m\n\u001b[32m----> \u001b[39m\u001b[32m5\u001b[39m \u001b[38;5;28;01mif\u001b[39;00m \u001b[43myear\u001b[49m\u001b[43m[\u001b[49m\u001b[32;43m0\u001b[39;49m\u001b[43m]\u001b[49m!=\u001b[33m'\u001b[39m\u001b[33m1\u001b[39m\u001b[33m'\u001b[39m:\n\u001b[32m      6\u001b[39m     year=year[year.find(\u001b[33m'\u001b[39m\u001b[33m1\u001b[39m\u001b[33m'\u001b[39m):]\n\u001b[32m      7\u001b[39m \u001b[38;5;28;01mif\u001b[39;00m \u001b[33m'\u001b[39m\u001b[33m \u001b[39m\u001b[33m'\u001b[39m \u001b[38;5;129;01min\u001b[39;00m year:\n",
      "\u001b[31mTypeError\u001b[39m: 'int' object is not subscriptable"
     ]
    }
   ],
   "source": [
    "for i in yearly_publication_counts.index:\n",
    "    print(i,clean_year(i))"
   ]
  },
  {
   "cell_type": "code",
   "execution_count": 153,
   "metadata": {},
   "outputs": [
    {
     "data": {
      "text/html": [
       "<div>\n",
       "<style scoped>\n",
       "    .dataframe tbody tr th:only-of-type {\n",
       "        vertical-align: middle;\n",
       "    }\n",
       "\n",
       "    .dataframe tbody tr th {\n",
       "        vertical-align: top;\n",
       "    }\n",
       "\n",
       "    .dataframe thead th {\n",
       "        text-align: right;\n",
       "    }\n",
       "</style>\n",
       "<table border=\"1\" class=\"dataframe\">\n",
       "  <thead>\n",
       "    <tr style=\"text-align: right;\">\n",
       "      <th></th>\n",
       "      <th>Place of Publication</th>\n",
       "      <th>Date of Publication</th>\n",
       "      <th>Publisher</th>\n",
       "      <th>Title</th>\n",
       "      <th>Author</th>\n",
       "      <th>Flickr URL</th>\n",
       "    </tr>\n",
       "  </thead>\n",
       "  <tbody>\n",
       "    <tr>\n",
       "      <th>0</th>\n",
       "      <td>London</td>\n",
       "      <td>1879</td>\n",
       "      <td>S. Tinsley &amp; Co.</td>\n",
       "      <td>Walter Forbes</td>\n",
       "      <td>AA</td>\n",
       "      <td>http://www.flickr.com/photos/britishlibrary/ta...</td>\n",
       "    </tr>\n",
       "    <tr>\n",
       "      <th>1</th>\n",
       "      <td>London</td>\n",
       "      <td>1868</td>\n",
       "      <td>Virtue &amp; Co.</td>\n",
       "      <td>All For Greed</td>\n",
       "      <td>A. A A.</td>\n",
       "      <td>http://www.flickr.com/photos/britishlibrary/ta...</td>\n",
       "    </tr>\n",
       "    <tr>\n",
       "      <th>2</th>\n",
       "      <td>London</td>\n",
       "      <td>1869</td>\n",
       "      <td>Bradbury, Evans &amp; Co.</td>\n",
       "      <td>Love The Avenger</td>\n",
       "      <td>A. A A.</td>\n",
       "      <td>http://www.flickr.com/photos/britishlibrary/ta...</td>\n",
       "    </tr>\n",
       "    <tr>\n",
       "      <th>3</th>\n",
       "      <td>London</td>\n",
       "      <td>1851</td>\n",
       "      <td>James Darling</td>\n",
       "      <td>Welsh Sketches, Chiefly Ecclesiastical, To The...</td>\n",
       "      <td>E. S A.</td>\n",
       "      <td>http://www.flickr.com/photos/britishlibrary/ta...</td>\n",
       "    </tr>\n",
       "    <tr>\n",
       "      <th>4</th>\n",
       "      <td>London</td>\n",
       "      <td>1857</td>\n",
       "      <td>Wertheim &amp; Macintosh</td>\n",
       "      <td>The World In Which I Live, And My Place In It</td>\n",
       "      <td>E. S A.</td>\n",
       "      <td>http://www.flickr.com/photos/britishlibrary/ta...</td>\n",
       "    </tr>\n",
       "  </tbody>\n",
       "</table>\n",
       "</div>"
      ],
      "text/plain": [
       "  Place of Publication  Date of Publication              Publisher  \\\n",
       "0               London                 1879       S. Tinsley & Co.   \n",
       "1               London                 1868           Virtue & Co.   \n",
       "2               London                 1869  Bradbury, Evans & Co.   \n",
       "3               London                 1851          James Darling   \n",
       "4               London                 1857   Wertheim & Macintosh   \n",
       "\n",
       "                                               Title    Author  \\\n",
       "0                                      Walter Forbes        AA   \n",
       "1                                      All For Greed   A. A A.   \n",
       "2                                   Love The Avenger   A. A A.   \n",
       "3  Welsh Sketches, Chiefly Ecclesiastical, To The...   E. S A.   \n",
       "4      The World In Which I Live, And My Place In It   E. S A.   \n",
       "\n",
       "                                          Flickr URL  \n",
       "0  http://www.flickr.com/photos/britishlibrary/ta...  \n",
       "1  http://www.flickr.com/photos/britishlibrary/ta...  \n",
       "2  http://www.flickr.com/photos/britishlibrary/ta...  \n",
       "3  http://www.flickr.com/photos/britishlibrary/ta...  \n",
       "4  http://www.flickr.com/photos/britishlibrary/ta...  "
      ]
     },
     "execution_count": 153,
     "metadata": {},
     "output_type": "execute_result"
    }
   ],
   "source": [
    "def clean_year(year):\n",
    "    \n",
    "    if year == 'nan':\n",
    "        return '0'\n",
    "    if year[0]!='1':\n",
    "        year=year[year.find('1'):]\n",
    "    if ' ' in year:\n",
    "        year=year[:year.find(' ')]\n",
    "    if '/' in year:\n",
    "        year=year[:year.find('/')]\n",
    "    if '?' in year:\n",
    "        year = year[:year.find('?')]\n",
    "    if ']' in year:\n",
    "        year = year[:year.find(']')]\n",
    "    if '.' in year:\n",
    "        year = year[:year.find('.')]\n",
    "\n",
    "    if year.isdigit():\n",
    "        year = int(year)\n",
    "    else:\n",
    "        year = 30\n",
    "\n",
    "    return year\n",
    "\n",
    "cleaned_books_df['Date of Publication'] = cleaned_books_df['Date of Publication'].astype(str)\n",
    "cleaned_books_df['Date of Publication'] = cleaned_books_df['Date of Publication'].apply(clean_year)\n",
    "cleaned_books_df['Date of Publication'] = cleaned_books_df['Date of Publication'].astype(int)\n",
    "cleaned_books_df.head()"
   ]
  },
  {
   "cell_type": "markdown",
   "metadata": {},
   "source": [
    "### Get line plot "
   ]
  },
  {
   "cell_type": "code",
   "execution_count": 154,
   "metadata": {},
   "outputs": [
    {
     "data": {
      "image/png": "[encoded data removed]",
      "text/plain": [
       "<Figure size 1000x600 with 1 Axes>"
      ]
     },
     "metadata": {},
     "output_type": "display_data"
    }
   ],
   "source": [
    "# Scatter Plot Analysis: Year of Publication vs. Number of Publications\n",
    "\n",
    "# Grouping the data by 'Date of Publication' to count the number of publications each year\n",
    "testdata = cleaned_books_df[cleaned_books_df['Date of Publication']>1000]\n",
    "yearly_Publication_count = testdata.groupby('Date of Publication').size()\n",
    "\n",
    "# Sorting the data by year (index of the grouped data)\n",
    "sorted_years = yearly_Publication_count.sort_index()\n",
    "\n",
    "# Creating a scatter plot\n",
    "plt.figure(figsize=(10,6))\n",
    "plt.scatter(sorted_years.index,sorted_years,color='blue')\n",
    "\n",
    "\n",
    "plt.title('Year of Publication vs. Number of Publications',fontsize=18)\n",
    "plt.xlabel('Year of Publication',fontsize=17)\n",
    "plt.ylabel('Number of publications',fontsize=16)\n",
    "plt.grid(axis='y')\n",
    "\n",
    "plt.show()\n",
    "\n",
    "# A line graph to show the yearly trend in the number of publications."
   ]
  },
  {
   "cell_type": "code",
   "execution_count": null,
   "metadata": {},
   "outputs": [],
   "source": []
  },
  {
   "cell_type": "markdown",
   "metadata": {},
   "source": [
    "## Practice 2\n",
    "### Identify the top five publishers with their publicated books during 1800 - 1900. (line graph)\n"
   ]
  },
  {
   "cell_type": "code",
   "execution_count": 155,
   "metadata": {},
   "outputs": [
    {
     "data": {
      "text/plain": [
       "Publisher\n",
       "Macmillan & Co.      85\n",
       "London               69\n",
       "Privately printed    53\n",
       "Longmans & Co.       52\n",
       "Hurst & Blackett     51\n",
       "Name: count, dtype: int64"
      ]
     },
     "execution_count": 155,
     "metadata": {},
     "output_type": "execute_result"
    }
   ],
   "source": [
    "publish_list = cleaned_books_df['Publisher'].value_counts()[:5]\n",
    "publish_list"
   ]
  },
  {
   "cell_type": "code",
   "execution_count": 156,
   "metadata": {
    "scrolled": true
   },
   "outputs": [
    {
     "data": {
      "text/plain": [
       "Date of Publication\n",
       "1857     1\n",
       "1859     1\n",
       "1862     1\n",
       "1864     1\n",
       "1869     1\n",
       "1870     1\n",
       "1873     1\n",
       "1874     2\n",
       "1875     1\n",
       "1876     1\n",
       "1880     3\n",
       "1881     1\n",
       "1882     2\n",
       "1883     1\n",
       "1884     4\n",
       "1885     2\n",
       "1886     4\n",
       "1887     2\n",
       "1888     1\n",
       "1889     2\n",
       "1890     3\n",
       "1891     1\n",
       "1892     1\n",
       "1893     5\n",
       "1894     2\n",
       "1895     8\n",
       "1896    16\n",
       "1897     6\n",
       "1898     7\n",
       "1899     3\n",
       "dtype: int64"
      ]
     },
     "execution_count": 156,
     "metadata": {},
     "output_type": "execute_result"
    }
   ],
   "source": [
    "dfA = cleaned_books_df[cleaned_books_df['Publisher'] ==publish_list.index[0]]\n",
    "filerdf = dfA[(dfA['Date of Publication']>=1800) & (dfA['Date of Publication']<=1900)]\n",
    "yearly_counts = filerdf.groupby('Date of Publication').size()\n",
    "\n",
    "yearly_counts.sort_index()"
   ]
  },
  {
   "cell_type": "code",
   "execution_count": 158,
   "metadata": {
    "scrolled": true
   },
   "outputs": [
    {
     "data": {
      "text/plain": [
       "{'Macmillan & Co.': Date of Publication\n",
       " 1857     1\n",
       " 1859     1\n",
       " 1862     1\n",
       " 1864     1\n",
       " 1869     1\n",
       " 1870     1\n",
       " 1873     1\n",
       " 1874     2\n",
       " 1875     1\n",
       " 1876     1\n",
       " 1880     3\n",
       " 1881     1\n",
       " 1882     2\n",
       " 1883     1\n",
       " 1884     4\n",
       " 1885     2\n",
       " 1886     4\n",
       " 1887     2\n",
       " 1888     1\n",
       " 1889     2\n",
       " 1890     3\n",
       " 1891     1\n",
       " 1892     1\n",
       " 1893     5\n",
       " 1894     2\n",
       " 1895     8\n",
       " 1896    16\n",
       " 1897     6\n",
       " 1898     7\n",
       " 1899     3\n",
       " dtype: int64,\n",
       " 'London': Date of Publication\n",
       " 1802    1\n",
       " 1803    1\n",
       " 1805    1\n",
       " 1806    2\n",
       " 1807    1\n",
       " 1819    1\n",
       " 1820    1\n",
       " 1845    1\n",
       " 1846    1\n",
       " 1848    1\n",
       " 1850    1\n",
       " 1853    1\n",
       " 1854    1\n",
       " 1858    1\n",
       " 1862    1\n",
       " 1865    2\n",
       " 1866    3\n",
       " 1867    1\n",
       " 1869    1\n",
       " 1871    1\n",
       " 1872    1\n",
       " 1875    1\n",
       " 1880    1\n",
       " 1885    1\n",
       " 1886    1\n",
       " 1888    2\n",
       " 1889    1\n",
       " 1890    2\n",
       " 1891    1\n",
       " 1892    1\n",
       " 1895    1\n",
       " 1896    2\n",
       " 1897    2\n",
       " 1898    3\n",
       " dtype: int64,\n",
       " 'Privately printed': Date of Publication\n",
       " 1800    1\n",
       " 1804    1\n",
       " 1806    1\n",
       " 1807    1\n",
       " 1823    1\n",
       " 1829    1\n",
       " 1830    2\n",
       " 1835    1\n",
       " 1836    1\n",
       " 1837    2\n",
       " 1843    1\n",
       " 1844    1\n",
       " 1850    2\n",
       " 1852    3\n",
       " 1853    1\n",
       " 1856    1\n",
       " 1859    2\n",
       " 1860    1\n",
       " 1861    1\n",
       " 1866    1\n",
       " 1869    1\n",
       " 1870    1\n",
       " 1871    1\n",
       " 1874    1\n",
       " 1876    1\n",
       " 1877    2\n",
       " 1880    3\n",
       " 1881    1\n",
       " 1882    1\n",
       " 1883    2\n",
       " 1884    1\n",
       " 1886    2\n",
       " 1887    1\n",
       " 1890    1\n",
       " 1895    1\n",
       " 1897    1\n",
       " dtype: int64,\n",
       " 'Longmans & Co.': Date of Publication\n",
       " 1834    1\n",
       " 1839    1\n",
       " 1864    1\n",
       " 1868    1\n",
       " 1873    1\n",
       " 1876    1\n",
       " 1877    1\n",
       " 1878    1\n",
       " 1882    1\n",
       " 1884    1\n",
       " 1885    2\n",
       " 1886    2\n",
       " 1887    3\n",
       " 1888    3\n",
       " 1889    6\n",
       " 1891    2\n",
       " 1892    3\n",
       " 1893    3\n",
       " 1894    4\n",
       " 1895    4\n",
       " 1896    5\n",
       " 1897    4\n",
       " 1898    1\n",
       " dtype: int64,\n",
       " 'Hurst & Blackett': Date of Publication\n",
       " 1853    1\n",
       " 1854    1\n",
       " 1855    1\n",
       " 1856    3\n",
       " 1857    1\n",
       " 1858    1\n",
       " 1859    1\n",
       " 1860    3\n",
       " 1861    2\n",
       " 1862    3\n",
       " 1863    3\n",
       " 1864    1\n",
       " 1865    1\n",
       " 1866    2\n",
       " 1867    2\n",
       " 1869    2\n",
       " 1870    2\n",
       " 1871    1\n",
       " 1875    1\n",
       " 1876    1\n",
       " 1877    1\n",
       " 1878    1\n",
       " 1880    3\n",
       " 1881    1\n",
       " 1882    1\n",
       " 1884    1\n",
       " 1885    1\n",
       " 1888    3\n",
       " 1889    1\n",
       " 1893    1\n",
       " 1897    2\n",
       " 1899    1\n",
       " dtype: int64}"
      ]
     },
     "execution_count": 158,
     "metadata": {},
     "output_type": "execute_result"
    }
   ],
   "source": [
    "def filter_topX_publisher_in_1800_1900(n, df):\n",
    "    # n: Number of target searches\n",
    "    # df: input dataframe\n",
    "    # Your code:\n",
    "    dic_res = {}\n",
    "    publish_list = cleaned_books_df['Publisher'].value_counts()[:n]\n",
    "    for publisher in publish_list.index:\n",
    "        dfA = cleaned_books_df[cleaned_books_df['Publisher'] == publisher]\n",
    "        filerdf = dfA[(dfA['Date of Publication'] >= 1800) & (dfA['Date of Publication'] <= 1900)]\n",
    "        yearly_counts = filerdf.groupby('Date of Publication').size()\n",
    "        sorted_years = yearly_counts.sort_index()\n",
    "        dic_res[publisher] = sorted_years\n",
    "\n",
    "    return dic_res\n",
    "\n",
    "filter_topX_publisher_in_1800_1900(5, cleaned_books_df)\n"
   ]
  },
  {
   "cell_type": "code",
   "execution_count": 159,
   "metadata": {},
   "outputs": [
    {
     "data": {
      "image/png": "[encoded data removed]",
      "text/plain": [
       "<Figure size 1000x600 with 1 Axes>"
      ]
     },
     "metadata": {},
     "output_type": "display_data"
    }
   ],
   "source": [
    "# Extracting publishers, publish years, and publish items\n",
    "publisher_data_dic = filter_topX_publisher_in_1800_1900(5,cleaned_books_df)\n",
    "\n",
    "# Creating a line graph\n",
    "plt.figure(figsize=(10, 6))\n",
    "\n",
    "for pub,years_data in publisher_data_dic.items():\n",
    "#     print(pub,years_data)\n",
    "    plt.plot(years_data.index, years_data, '-', label=pub)\n",
    "\n",
    "# plt.plot(yearly_publication_counts.index, yearly_publication_counts, color='blue')\n",
    "plt.title('Year of Publication vs. Number of Publications')\n",
    "plt.xlabel('Year of Publication')\n",
    "plt.ylabel('Number of Publications')\n",
    "# plt.xticks([1500,1550,1600,1650,1700,1750,1800,1850,1900],\n",
    "#            ['1890','1891','1892','1893','1894','1895','1896','1897','1898',],fontsize = 15)\n",
    "plt.legend()\n",
    "plt.grid(axis='y')\n",
    "plt.show()"
   ]
  },
  {
   "cell_type": "markdown",
   "metadata": {},
   "source": [
    "### Compute the cumulative sum of Publications. (Please watch the tutorial)"
   ]
  },
  {
   "cell_type": "code",
   "execution_count": 160,
   "metadata": {},
   "outputs": [
    {
     "data": {
      "image/png": "[encoded data removed]",
      "text/plain": [
       "<Figure size 1000x600 with 1 Axes>"
      ]
     },
     "metadata": {},
     "output_type": "display_data"
    }
   ],
   "source": [
    "publisher_data_dic = filter_topX_publisher_in_1800_1900(5, cleaned_books_df)\n",
    "plt.figure(figsize=(10, 6))\n",
    "\n",
    "for pub,years_data in publisher_data_dic.items():\n",
    "    years_data = np.cumsum(years_data)\n",
    "    plt.plot(years_data.index, years_data, '-', label=pub)\n",
    "\n",
    "plt. title('Year of Publication vs. Number of Publications') \n",
    "plt.xlabel('Year of Publication') \n",
    "plt.ylabel( 'Number of Publications')\n",
    "plt. legend ( )\n",
    "plt.grid(axis='y')\n",
    "plt. show()"
   ]
  }
 ],
 "metadata": {
  "kernelspec": {
   "display_name": "Python 3",
   "language": "python",
   "name": "python3"
  },
  "language_info": {
   "codemirror_mode": {
    "name": "ipython",
    "version": 3
   },
   "file_extension": ".py",
   "mimetype": "text/x-python",
   "name": "python",
   "nbconvert_exporter": "python",
   "pygments_lexer": "ipython3",
   "version": "3.13.7"
  }
 },
 "nbformat": 4,
 "nbformat_minor": 4
}
