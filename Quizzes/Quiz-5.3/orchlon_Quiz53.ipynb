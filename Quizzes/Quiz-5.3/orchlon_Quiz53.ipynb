{
 "cells": [
  {
   "cell_type": "markdown",
   "id": "ef8ae016-17a4-4f45-8b0b-8c0504ef0390",
   "metadata": {},
   "source": [
    "# 🧾 Apriori Algorithm: From Concept to Code\n",
    "\n",
    "**Goal:** Learn what Apriori is, how it works, why its results make sense in data mining, and how to interpret frequent itemsets and association rules in Python.\n",
    "\n",
    "**You will:**\n",
    "1) Build a small transaction dataset  \n",
    "2) One-hot encode it for Apriori  \n",
    "3) Mine frequent itemsets with different supports  \n",
    "4) Generate association rules and filter by confidence/lift  \n",
    "5) Interpret results and run “what-if” experiments\n"
   ]
  },
  {
   "cell_type": "code",
   "execution_count": null,
   "id": "cbe4ff61-0c3f-43e6-b466-8e47bd92263f",
   "metadata": {},
   "outputs": [],
   "source": []
  },
  {
   "cell_type": "markdown",
   "id": "a64b8954-d2a6-4209-bc2d-36c13e0fe27e",
   "metadata": {},
   "source": [
    "## 0. Setup & Imports\n",
    "\n",
    "We’ll use `pandas` for data handling and `mlxtend` for Apriori and association rule helpers.  \n",
    "If `mlxtend` isn’t installed, run the cell below.\n"
   ]
  },
  {
   "cell_type": "code",
   "execution_count": null,
   "id": "611e5376-5ce8-4b3a-b91d-4c18b97defec",
   "metadata": {},
   "outputs": [],
   "source": [
    "# If needed, uncomment to install:\n",
    "# !pip install -q mlxtend\n",
    "\n",
    "import pandas as pd\n",
    "from mlxtend.frequent_patterns import apriori, association_rules\n",
    "from mlxtend.preprocessing import TransactionEncoder\n",
    "\n",
    "pd.set_option(\"display.max_colwidth\", None)\n"
   ]
  },
  {
   "cell_type": "markdown",
   "id": "f49c901b-5073-41ea-8905-9aed26faad4b",
   "metadata": {},
   "source": [
    "## 1. What is Apriori? (Concept)\n",
    "\n",
    "**Apriori** is a frequent itemset mining algorithm. It relies on the **Apriori property**:\n",
    "\n",
    "> If an itemset is frequent, **all of its subsets** must also be frequent.  \n",
    "> Contraposition: If an itemset is **not** frequent, none of its supersets can be frequent.\n",
    "\n",
    "**Pipeline:**\n",
    "1. Count support for single items; keep those ≥ `min_support`.\n",
    "2. Join them to form 2-item candidates; count support; prune.\n",
    "3. Repeat for size 3, 4, … until no more frequent sets.\n",
    "4. Generate **association rules** from frequent itemsets and evaluate with **confidence** and **lift**.\n",
    "\n",
    "- **Support**: fraction of transactions containing an itemset.  \n",
    "- **Confidence**: P(consequent | antecedent).  \n",
    "- **Lift**: Confidence divided by the baseline frequency of the consequent; >1 means positive association beyond chance.\n",
    "- \n",
    "## 2. Build a Small Transaction Dataset\n",
    "\n",
    "We’ll start with a toy “market basket” dataset. Feel free to edit or expand.\n",
    "\n"
   ]
  },
  {
   "cell_type": "code",
   "execution_count": null,
   "id": "1fc10378-1753-4bb9-a557-e7aff88a7d39",
   "metadata": {},
   "outputs": [],
   "source": [
    "transactions = [\n",
    "    ['milk', 'bread', 'eggs'],\n",
    "    ['milk', 'bread'],\n",
    "    ['milk', 'diapers', 'beer', 'bread'],\n",
    "    ['bread', 'diapers', 'beer', 'cola'],\n",
    "    ['milk', 'bread', 'diapers', 'beer'],\n",
    "    ['milk', 'eggs'],\n",
    "    ['bread', 'eggs'],\n",
    "    ['milk', 'cola', 'chips'],\n",
    "    ['bread', 'butter'],\n",
    "    ['milk', 'butter', 'bread'],\n",
    "]\n",
    "\n",
    "print(f\"Number of transactions: {len(transactions)}\")\n",
    "for i, t in enumerate(transactions[:5], start=1):\n",
    "    print(f\"T{i}: {t}\")\n"
   ]
  },
  {
   "cell_type": "markdown",
   "id": "a4a7045b-6530-40bb-ace7-d0c388d7335c",
   "metadata": {},
   "source": [
    "## 3. One-Hot Encode the Transactions\n",
    "\n",
    "`mlxtend`’s `TransactionEncoder` converts a list of lists into a boolean (0/1) matrix that Apriori expects.\n"
   ]
  },
  {
   "cell_type": "code",
   "execution_count": null,
   "id": "eb7ecd92-2874-4b93-8b01-1af17bd72da4",
   "metadata": {},
   "outputs": [],
   "source": [
    "# Your code:\n",
    "\n"
   ]
  },
  {
   "cell_type": "markdown",
   "id": "356465fd-ddaf-4088-89cc-49febadda26b",
   "metadata": {},
   "source": [
    "## 4. Mine Frequent Itemsets with Apriori\n",
    "\n",
    "Start with a reasonable `min_support`.  \n",
    "Try changing it (e.g., `0.3`, `0.5`, `0.6`) and see how the results change.\n"
   ]
  },
  {
   "cell_type": "code",
   "execution_count": null,
   "id": "1ec617ff-cbc5-4fcc-a332-44429da14d4f",
   "metadata": {},
   "outputs": [],
   "source": [
    "min_support = 0.3  # <-- experiment here\n",
    "\n",
    "frequent_itemsets = apriori(\n",
    "    df,\n",
    "    min_support=min_support,\n",
    "    use_colnames=True  # show item labels instead of column indices\n",
    ")\n",
    "# Sort by length then support for readability\n",
    "# Your code:\n",
    "\n",
    "print(f\"Frequent itemsets with min_support = {min_support}:\")\n",
    "display(frequent_itemsets)\n"
   ]
  },
  {
   "cell_type": "code",
   "execution_count": null,
   "id": "ee481797-47cf-476b-b535-bc361953b599",
   "metadata": {},
   "outputs": [],
   "source": [
    "min_support = 0.5  # <-- experiment here\n",
    "\n",
    "frequent_itemsets = apriori(\n",
    "    df,\n",
    "    min_support=min_support,\n",
    "    use_colnames=True  # show item labels instead of column indices\n",
    ")\n",
    "# Sort by length then support for readability\n",
    "# Your code:\n",
    "\n",
    "print(f\"Frequent itemsets with min_support = {min_support}:\")\n",
    "display(frequent_itemsets)"
   ]
  },
  {
   "cell_type": "code",
   "execution_count": null,
   "id": "c0e4716c-9ca6-4ea5-ab78-6356a4051076",
   "metadata": {},
   "outputs": [],
   "source": [
    "min_support = 0.6  # <-- experiment here\n",
    "\n",
    "frequent_itemsets = apriori(\n",
    "    df,\n",
    "    min_support=min_support,\n",
    "    use_colnames=True  # show item labels instead of column indices\n",
    ")\n",
    "# Sort by length then support for readability\n",
    "# Your code:\n",
    "\n",
    "print(f\"Frequent itemsets with min_support = {min_support}:\")\n",
    "display(frequent_itemsets)"
   ]
  },
  {
   "cell_type": "markdown",
   "id": "d99735d7-8204-4271-b0de-00d9330a28e2",
   "metadata": {},
   "source": [
    "### Why these results match Apriori\n",
    "- Itemsets appear only if **all their subsets** were also frequent at previous levels.\n",
    "- Lowering `min_support` admits more itemsets (including larger ones), while raising it prunes aggressively.\n",
    "\n",
    "## 5. Generate Association Rules\n",
    "\n",
    "We convert frequent itemsets into rules and compute **confidence** and **lift**.  \n",
    "Filter rules to show only informative ones (e.g., confidence ≥ 0.6).\n"
   ]
  },
  {
   "cell_type": "code",
   "execution_count": null,
   "id": "75f4c53d-4722-4458-a1a8-9b3924c523b1",
   "metadata": {},
   "outputs": [],
   "source": [
    "\n",
    "rules = association_rules(\n",
    "    # Your code:\n",
    "    \n",
    ").sort_values([\"confidence\", \"lift\"], ascending=False)\n",
    "\n",
    "print(\"All rules (filtered by confidence >= 0.6):\")\n",
    "cols_to_show = [\"antecedents\", \"consequents\", \"support\", \"confidence\", \"lift\",]\n",
    "display(rules[cols_to_show].reset_index(drop=True))\n"
   ]
  },
  {
   "cell_type": "markdown",
   "id": "a0c8bab0-c277-41a5-933b-f6bda3684921",
   "metadata": {},
   "source": [
    "### Interpreting the metrics\n",
    "- **support**: fraction of all transactions containing `antecedents ∪ consequents`\n",
    "- **confidence**: P(consequents | antecedents)\n",
    "- **lift**: confidence / support(consequents).  \n",
    "  - If **lift > 1** → positive association beyond chance  \n",
    "  - If **lift ≈ 1** → independent  \n",
    "  - If **lift < 1** → negative association\n",
    "\n",
    "## 7. Focus on High-Value Rules\n",
    "\n",
    "Let’s filter to rules with **lift > 1** (stronger than chance) and **confidence ≥ 0.7**.\n"
   ]
  },
  {
   "cell_type": "code",
   "execution_count": null,
   "id": "0cfa5948-a7a4-4c61-8522-82fc61d094e0",
   "metadata": {},
   "outputs": [],
   "source": [
    "lift_min = 1.0\n",
    "conf_min = 0.7\n",
    "\n",
    "strong_rules = rules.query(\"lift > @lift_min and confidence >= @conf_min\") \\\n",
    "                    .sort_values([\"lift\",\"confidence\"], ascending=False)\n",
    "\n",
    "print(f\"Rules with lift > {lift_min} and confidence >= {conf_min}:\")\n",
    "display(strong_rules[cols_to_show].reset_index(drop=True))\n"
   ]
  },
  {
   "cell_type": "code",
   "execution_count": null,
   "id": "762cf62d-996d-4dcf-bdaa-e1dd5a7ba0b6",
   "metadata": {},
   "outputs": [],
   "source": []
  },
  {
   "cell_type": "markdown",
   "id": "2d7293bc-a75d-4e94-b3af-663ca74cd27e",
   "metadata": {},
   "source": [
    "# Implementing Apriori algorithm in Python\n",
    "\n",
    "[Apriori Algorithm](https://www.geeksforgeeks.org/machine-learning/apriori-algorithm/) is a machine learning algorithm used for market basket analysis. It helps to find associations or relationships between items in large transactional datasets. A common real-world application is product recommendation where items are suggested to users based on their shopping cart contents. Companies like Walmart have used this algorithm to improve product suggestions and drive sales.\n",
    "\n",
    "In this article we’ll do step-by-step implementation of the Apriori algorithm in Python using the mlxtend library.\n",
    "\n",
    "### Step 1: Importing Required Libraries\n",
    "Before we begin we need to import the necessary Python libraries like Pandas , Numpy and mlxtend."
   ]
  },
  {
   "cell_type": "code",
   "execution_count": null,
   "id": "1ea21fd1-831a-4621-8665-b35a6f31a4c9",
   "metadata": {},
   "outputs": [],
   "source": [
    "import numpy as np\n",
    "import pandas as pd\n",
    "from mlxtend.frequent_patterns import apriori, association_rules"
   ]
  },
  {
   "cell_type": "markdown",
   "id": "007a2cea-3308-4903-b556-3ffe889c8411",
   "metadata": {},
   "source": [
    "### Step 2: Loading and exploring the data\n",
    "We start by loading a popular groceries dataset. This dataset contains customer transactions with details like customer ID, transaction date, and the item purchased."
   ]
  },
  {
   "cell_type": "code",
   "execution_count": null,
   "id": "54a96ebb-2179-43ee-ab31-479106d10191",
   "metadata": {},
   "outputs": [],
   "source": [
    "import pandas as pd\n",
    "df = pd.read_csv(\"Groceries_dataset.csv\")\n",
    "print(df.head())"
   ]
  },
  {
   "cell_type": "markdown",
   "id": "8d2c3edd-8ed9-465a-bf11-090024d46a1b",
   "metadata": {},
   "source": [
    "Each row represents one item in a customer's basket on a given date.\n",
    "To use the Apriori algorithm we must convert this into full transactions per customer per visit."
   ]
  },
  {
   "cell_type": "markdown",
   "id": "d49f57ae-b043-42d2-8cae-5fbac5b512ce",
   "metadata": {},
   "source": [
    "### Step 3: Group Items by Transaction\n",
    "We group items purchased together by the same customer on the same day to form one transaction."
   ]
  },
  {
   "cell_type": "code",
   "execution_count": null,
   "id": "fbee9807-8a35-49ea-a73e-5da085560de4",
   "metadata": {
    "scrolled": true
   },
   "outputs": [],
   "source": [
    "basket = df.groupby(['Member_number', 'Date'])['itemDescription'].apply(list).reset_index()\n",
    "transactions = basket['itemDescription'].tolist()\n",
    "print(transactions)"
   ]
  },
  {
   "cell_type": "markdown",
   "id": "7e542902-70b0-4bfe-b766-d70414ce0ca1",
   "metadata": {},
   "source": [
    "### Step 4: Convert to One-Hot Format\n",
    "Apriori needs data in True/False format like Did the item appear in the basket?. We use Transaction Encoder for this:\n"
   ]
  },
  {
   "cell_type": "code",
   "execution_count": null,
   "id": "b04367b9-e675-4500-bae1-7771a3dc2810",
   "metadata": {},
   "outputs": [],
   "source": [
    "from mlxtend.preprocessing import TransactionEncoder\n",
    "# Your code:\n"
   ]
  },
  {
   "cell_type": "markdown",
   "id": "691d4880-e87a-40ce-a5c8-1740f5c07d40",
   "metadata": {},
   "source": [
    "### Step 5: Run Apriori Algorithm\n",
    "Now we find frequent itemsets combinations of items that often occur together. Here min_support=0.01 means itemsets that appear in at least 1% of transactions. This gives us common combinations of items."
   ]
  },
  {
   "cell_type": "code",
   "execution_count": null,
   "id": "e58122ad-2e9f-4df2-8cad-4b3a112e9931",
   "metadata": {},
   "outputs": [],
   "source": [
    "from mlxtend.frequent_patterns import apriori\n",
    "# Your code:\n"
   ]
  },
  {
   "cell_type": "markdown",
   "id": "e3cacc2e-9ee2-47bf-be12-ad9c3da33fea",
   "metadata": {},
   "source": [
    "### Step 6: Generate Association Rules\n",
    "Now we find rules like If bread and butter are bought, milk is also likely to be bought.\n",
    "\n",
    "- Support: How often the rule appears in the dataset.\n",
    "- Confidence: Probability of buying item B if item A is bought.\n",
    "- Lift: Strength of the rule over random chance. (>1 means it's a good rule)"
   ]
  },
  {
   "cell_type": "code",
   "execution_count": null,
   "id": "ba9015bb-a5a1-4698-96a3-4718743ccb0c",
   "metadata": {},
   "outputs": [],
   "source": [
    "from mlxtend.frequent_patterns import association_rules\n",
    "rules = association_rules(frequent_itemsets, metric=\"confidence\", min_threshold=0.1)\n",
    "rules = rules[rules['antecedents'].apply(lambda x: len(x) >= 1) & rules['consequents'].apply(lambda x: len(x) >= 1)]\n",
    "print(\"Association Rules:\", rules.shape[0])\n",
    "rules[['antecedents', 'consequents', 'support', 'confidence', 'lift']].head(5)"
   ]
  },
  {
   "cell_type": "markdown",
   "id": "0eab8701-9e61-4fbe-8fae-4001ae37a3c0",
   "metadata": {},
   "source": [
    "### Step 7: Visualize the Most Popular Items\n",
    "Let’s see which items are most frequently bought:"
   ]
  },
  {
   "cell_type": "code",
   "execution_count": null,
   "id": "38c22046-adae-4c2b-bb38-657317269a6c",
   "metadata": {},
   "outputs": [],
   "source": [
    "import matplotlib.pyplot as plt\n",
    "top_items = df['itemDescription'].value_counts().head(10)\n",
    "\n",
    "#Please add your name on title\n",
    "top_items.plot(kind='bar', title='<Your Name>+ Top 10 Most Purchased Items')\n",
    "\n",
    "#Please set fontsize\n",
    "plt.xlabel(\"Item\", fontsize)\n",
    "plt.ylabel(\"Count\",fontsize)\n",
    "plt.show()"
   ]
  },
  {
   "cell_type": "markdown",
   "id": "1e48ffa4-e766-49bb-bb47-b83c0498be0f",
   "metadata": {},
   "source": [
    "As shown in the above output Whole milk is the most frequently bought item, followed by other vegetables, rolls/bun and soda."
   ]
  },
  {
   "cell_type": "code",
   "execution_count": null,
   "id": "96bb2a5f-37ca-4675-9aaa-7cd61c2d128e",
   "metadata": {},
   "outputs": [],
   "source": []
  }
 ],
 "metadata": {
  "kernelspec": {
   "display_name": "Python 3 (ipykernel)",
   "language": "python",
   "name": "python3"
  },
  "language_info": {
   "codemirror_mode": {
    "name": "ipython",
    "version": 3
   },
   "file_extension": ".py",
   "mimetype": "text/x-python",
   "name": "python",
   "nbconvert_exporter": "python",
   "pygments_lexer": "ipython3",
   "version": "3.11.8"
  }
 },
 "nbformat": 4,
 "nbformat_minor": 5
}
