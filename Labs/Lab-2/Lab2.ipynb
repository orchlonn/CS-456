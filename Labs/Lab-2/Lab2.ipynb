{
 "cells": [
  {
   "cell_type": "markdown",
   "id": "e762c7d3",
   "metadata": {},
   "source": [
    "# Lab-2 project - Clean and fix data\n",
    "### Team member(s):\n",
    "- Orchlon Chinbat (50291063)\n",
    "### Submission date:\n",
    "- 10/13/2026\n",
    "\n",
    "## Introduction\n",
    "We have three types of files: CSV, JSON, and TXT. Each of these files is corrupted, and our goal is to first read them and then handle the damaged data. We’ll use different methods to process each file, but ultimately, all of them will be displayed in a Pandas DataFrame. After cleaning and fixing the data, we’ll save the combined results into a single CSV file named Result_Combine.csv.\n"
   ]
  },
  {
   "cell_type": "markdown",
   "id": "74a1f0ef",
   "metadata": {},
   "source": [
    "# Read CSV data"
   ]
  },
  {
   "cell_type": "code",
   "execution_count": null,
   "id": "8de995fa",
   "metadata": {},
   "outputs": [],
   "source": [
    "import pandas as pd \n",
    "file_path = 'fortune500.csv'\n",
    "dataframe_csv =pd.read_csv(file_path)\n",
    "\n",
    "# Display the rows of the DataFrame. But it show an error because the file is damaged. Damaged data is the data that has less or more than 5 elements (columns) and some data is missing.\n",
    "dataframe_csv "
   ]
  },
  {
   "cell_type": "markdown",
   "id": "9ad08200",
   "metadata": {},
   "source": [
    "# Handle damaged CSV data"
   ]
  },
  {
   "cell_type": "code",
   "execution_count": null,
   "id": "be5b396f",
   "metadata": {},
   "outputs": [],
   "source": [
    "# Now we need to handle the damaged CSV data.\n",
    "import csv\n",
    "\n",
    "file_path = 'fortune500.csv'\n",
    "\n",
    "\n",
    "index = 0\n",
    "title = []\n",
    "good_data = []\n",
    "bad_data = []\n",
    "\n",
    "with open(file_path, mode='r', encoding='utf-8') as file:\n",
    "    csv_reader = csv.reader(file)\n",
    "    for row in csv_reader:\n",
    "        if index == 0:\n",
    "            print(row)\n",
    "            # First index (row) is the title in our csv file\n",
    "            title = row\n",
    "        index += 1\n",
    "        # The row has 5 elements and not the first index (row), we can consider it as good data and add it to the good_data list\n",
    "        if len(row) == 5 and index != 1:\n",
    "            good_data.append(row)\n",
    "        else:\n",
    "            bad_data.append(row)\n",
    "\n",
    "good_data"
   ]
  },
  {
   "cell_type": "code",
   "execution_count": null,
   "id": "ad0b41f6",
   "metadata": {},
   "outputs": [],
   "source": [
    "# Now the good data is in the good_data list, we can put it into a dataframe\n",
    "csv_df = pd.DataFrame(good_data,columns = title)\n",
    "\n",
    "# Display the DataFrame\n",
    "csv_df"
   ]
  },
  {
   "cell_type": "markdown",
   "id": "d3a61361",
   "metadata": {},
   "source": [
    "# Read JSON data"
   ]
  },
  {
   "cell_type": "code",
   "execution_count": null,
   "id": "495a11a6",
   "metadata": {},
   "outputs": [],
   "source": [
    "file_path = 'lines.json'\n",
    "dataframe_json =pd.read_json(file_path)\n",
    "\n",
    "# Display the rows of the DataFrame. But it show an error because the file is damaged.\n",
    "dataframe_json"
   ]
  },
  {
   "cell_type": "markdown",
   "id": "dcf88b19",
   "metadata": {},
   "source": [
    "# Handle damaged JSON data"
   ]
  },
  {
   "cell_type": "code",
   "execution_count": null,
   "id": "ec2d7187",
   "metadata": {},
   "outputs": [],
   "source": [
    "import json\n",
    "\n",
    "file_path = 'lines.json'\n",
    "data = []\n",
    "titles = ['Year', 'Rank', 'Company', 'Revenue (in millions)', 'Profit (in millions)'] \n",
    "\n",
    "with open(file_path, 'r') as file:\n",
    "    for line in file:\n",
    "        try:\n",
    "            json_data = json.loads(line)\n",
    "            # Check if the json_data is a dictionary\n",
    "            for key in titles:\n",
    "                # If the key is not in the json_data, add it with None value\n",
    "                if key not in json_data:\n",
    "                    json_data[key] = None\n",
    "                    \n",
    "            # Add the json_data to the data list\n",
    "            data.append(json_data)\n",
    "\n",
    "        except json.JSONDecodeError:\n",
    "            print(f\"Invalid JSON data: {line}\")"
   ]
  },
  {
   "cell_type": "code",
   "execution_count": null,
   "id": "ec80bef7",
   "metadata": {},
   "outputs": [],
   "source": [
    "# Now the good data is in the good_data list, we can put it into a dataframe\n",
    "json_df = pd.DataFrame(good_data,columns = title)\n",
    "\n",
    "# Display the DataFrame\n",
    "json_df"
   ]
  },
  {
   "cell_type": "markdown",
   "id": "b90c0143",
   "metadata": {},
   "source": [
    "# Read txt data"
   ]
  },
  {
   "cell_type": "code",
   "execution_count": null,
   "id": "c24514a8",
   "metadata": {},
   "outputs": [],
   "source": [
    "file_path = 'unstructureddata.txt'  \n",
    "\n",
    "# Function to process a block of text and return a dictionary\n",
    "def process_block(block):\n",
    "    entity = {}\n",
    "    for item in block: \n",
    "        key, value = item.split(\":\")\n",
    "        entity[key] = value\n",
    "    return entity\n",
    "\n",
    "# Read and process the file\n",
    "current_data = []\n",
    "result = []\n",
    "with open(file_path,'r') as file:\n",
    "    for line in file:\n",
    "        # Your code\n",
    "        if line.strip() == \"\":\n",
    "            dfcontent = process_block(current_data)\n",
    "            result.append(dfcontent)\n",
    "            current_data = []\n",
    "        else:\n",
    "            current_data.append(line.strip())\n",
    "\n",
    "# Print the first 3 rows of the result\n",
    "print(result[:3])"
   ]
  },
  {
   "cell_type": "markdown",
   "id": "9ec1f6d5",
   "metadata": {},
   "source": [
    "# Handle damaged txt data"
   ]
  },
  {
   "cell_type": "code",
   "execution_count": null,
   "id": "39b4c4a8",
   "metadata": {},
   "outputs": [],
   "source": [
    "file_path = 'unstructureddata.txt'\n",
    "\n",
    "expected_columns = ['Year', 'Rank', 'Company', 'Revenue (in millions)', 'Profit (in millions)']\n",
    "\n",
    "current_data = []\n",
    "result = []\n",
    "\n",
    "# Function to process a block of text and return a dictionary\n",
    "def process_block_with_damaged(block):\n",
    "    entity = {key: None for key in expected_columns}\n",
    "    #Your code:\n",
    "    for item in block:\n",
    "        if \": \" in item:\n",
    "            key, value = item.split(\": \")\n",
    "            if key in entity:\n",
    "                entity[key] = value\n",
    "    \n",
    "    return entity\n",
    "\n",
    "with open(file_path, 'r')as file:\n",
    "    for line in file:\n",
    "        if line.strip() == \"\":\n",
    "            processed_data = process_block_with_damaged(current_data)\n",
    "            result.append(processed_data)\n",
    "            current_data = []\n",
    "        else:\n",
    "            current_data.append(line.strip())"
   ]
  },
  {
   "cell_type": "code",
   "execution_count": null,
   "id": "d3f5423d",
   "metadata": {},
   "outputs": [],
   "source": [
    "# Now the good data is in the result list, we can put it into a dataframe\n",
    "txt_df = pd.DataFrame(result)\n",
    "\n",
    "# Display the DataFrame\n",
    "txt_df"
   ]
  },
  {
   "cell_type": "markdown",
   "id": "5f86bc8b",
   "metadata": {},
   "source": [
    "# Data integration, integrating all three types of data to Results_Combine"
   ]
  },
  {
   "cell_type": "code",
   "execution_count": null,
   "id": "c9c549b5",
   "metadata": {},
   "outputs": [],
   "source": [
    "# Write the combined data to a new CSV file\n",
    "output_path = 'Results_Combine.csv'\n",
    "\n",
    "# Write the combined data to a new CSV file\n",
    "with open(output_path, 'w', encoding='utf-8') as f:\n",
    "    # Write the JSON data to the file\n",
    "    f.write(json_df.to_csv(index=False, header=False))\n",
    "    # Write the TXT data to the file\n",
    "    f.write(txt_df.to_csv(index=False))\n",
    "    # Write the CSV data to the file\n",
    "    f.write(csv_df.to_csv(index=False))\n"
   ]
  }
 ],
 "metadata": {
  "kernelspec": {
   "display_name": "Python 3",
   "language": "python",
   "name": "python3"
  },
  "language_info": {
   "codemirror_mode": {
    "name": "ipython",
    "version": 3
   },
   "file_extension": ".py",
   "mimetype": "text/x-python",
   "name": "python",
   "nbconvert_exporter": "python",
   "pygments_lexer": "ipython3",
   "version": "3.13.7"
  }
 },
 "nbformat": 4,
 "nbformat_minor": 5
}
