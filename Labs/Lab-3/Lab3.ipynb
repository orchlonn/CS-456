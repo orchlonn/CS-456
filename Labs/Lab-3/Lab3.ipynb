{
 "cells": [
  {
   "cell_type": "markdown",
   "id": "cdc23cf5",
   "metadata": {},
   "source": [
    "# Lab-3 project - Vehicle Data Analysis and Visualization\n",
    "### Team member(s):\n",
    "- Orchlon Chinbat (50291063)\n",
    "### Submission date:\n",
    "- 10/19/2026\n",
    "\n",
    "## Introduction\n",
    "We are working with a large CSV file containing traffic violation records from Washington, D.C., covering the years 2013 to 2016. The dataset consists of 803,060 entries in total. Our goal is to analyze this data and present the results through various charts and graphs.\n",
    "\n",
    "During the analysis phase, we will identify the vehicle with the 6th newest model year (along with its maximum year and price) and the one with the 4th oldest model year (along with its minimum year and price). We will also detect and count all missing values, display them, and save the cleaned data into a new CSV file.\n",
    "\n",
    "After cleaning, we will create at least five distinct visualizations to highlight statistical insights and key findings. These graphs may include comparisons such as maximum year or price against vehicle make or model, with each visualization accompanied by a markdown explanation describing what it represents.\n"
   ]
  },
  {
   "cell_type": "markdown",
   "id": "79438d5f",
   "metadata": {},
   "source": [
    "# Part 1: Data analysis section"
   ]
  },
  {
   "cell_type": "markdown",
   "id": "324959c3",
   "metadata": {},
   "source": [
    "We are finding the 6th newest production year among all vehicles, then within that year, determine the vehicle(s) that have the highest price."
   ]
  },
  {
   "cell_type": "code",
   "execution_count": null,
   "id": "545aa6b1",
   "metadata": {
    "vscode": {
     "languageId": "plaintext"
    }
   },
   "outputs": [],
   "source": []
  }
 ],
 "metadata": {
  "language_info": {
   "name": "python"
  }
 },
 "nbformat": 4,
 "nbformat_minor": 5
}
