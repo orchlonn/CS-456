{
 "cells": [
  {
   "cell_type": "markdown",
   "id": "403361d3",
   "metadata": {},
   "source": [
    "# Lab-3 project - Vehicle Data Analysis and Visualization\n",
    "### Team member(s):\n",
    "- Orchlon Chinbat (50291063)\n",
    "### Submission date:\n",
    "- 10/19/2026\n",
    "\n",
    "## Introduction\n",
    "We are working with a large CSV file containing traffic violation records from Washington, D.C., covering the years 2013 to 2016. The dataset consists of 803,060 entries in total. Our goal is to analyze this data and present the results through various charts and graphs.\n",
    "\n",
    "During the analysis phase, we will identify the vehicle with the 6th newest model year (along with its maximum year and price) and the one with the 4th oldest model year (along with its minimum year and price). We will also detect and count all missing values, display them, and save the cleaned data into a new CSV file.\n",
    "\n",
    "After cleaning, we will create at least five distinct visualizations to highlight statistical insights and key findings. These graphs may include comparisons such as maximum year or price against vehicle make or model, with each visualization accompanied by a markdown explanation describing what it represents.\n"
   ]
  },
  {
   "cell_type": "markdown",
   "id": "07fb5bed",
   "metadata": {},
   "source": [
    "# Part 1: Data analysis section"
   ]
  },
  {
   "cell_type": "markdown",
   "id": "0cf575b9",
   "metadata": {},
   "source": [
    "### Find the 6th newest production year among all vehicles, then within that year, determine the vehicle(s) that have the highest price."
   ]
  },
  {
   "cell_type": "code",
   "execution_count": 30,
   "id": "f3f386f3",
   "metadata": {},
   "outputs": [
    {
     "name": "stderr",
     "output_type": "stream",
     "text": [
      "/var/folders/tp/hsjvvm555fxbfhgx00h95ymm0000gn/T/ipykernel_7218/133203310.py:4: DtypeWarning: Columns (5) have mixed types. Specify dtype option on import or set low_memory=False.\n",
      "  df = pd.read_csv('vehicles_data.csv', encoding = \"ISO-8859-1\")\n"
     ]
    },
    {
     "data": {
      "text/plain": [
       "np.float64(2020.0)"
      ]
     },
     "execution_count": 30,
     "metadata": {},
     "output_type": "execute_result"
    }
   ],
   "source": [
    "import pandas as pd\n",
    "\n",
    "# Read the CSV file\n",
    "df = pd.read_csv('vehicles_data.csv', encoding = \"ISO-8859-1\")\n",
    "\n",
    "# Convert Year to numeric, coercing errors to NaN\n",
    "df['Year'] = pd.to_numeric(df['Year'], errors='coerce')\n",
    "\n",
    "# Filter out unrealistic years (keep only years between 1900 and 2025)\n",
    "df_year_clean = df[(df['Year'] >= 1900) & (df['Year'] <= 2025)].copy()\n",
    "\n",
    "# We already cleaned up the years, but it is not unique and sorted. So make it unique and sorted.\n",
    "df_sorted_unique_years = sorted(df_year_clean['Year'].unique(), reverse=True)\n",
    "\n",
    "# Get the 6th newest year\n",
    "sixth_newest_year = df_sorted_unique_years[5]\n",
    "sixth_newest_year\n"
   ]
  },
  {
   "cell_type": "markdown",
   "id": "e9f6b87e",
   "metadata": {},
   "source": [
    "We found the 6th newest year, now we need to find the vehicle(s) with the highest price in that year."
   ]
  },
  {
   "cell_type": "code",
   "execution_count": 69,
   "id": "133ab60e",
   "metadata": {},
   "outputs": [
    {
     "data": {
      "text/html": [
       "<div>\n",
       "<style scoped>\n",
       "    .dataframe tbody tr th:only-of-type {\n",
       "        vertical-align: middle;\n",
       "    }\n",
       "\n",
       "    .dataframe tbody tr th {\n",
       "        vertical-align: top;\n",
       "    }\n",
       "\n",
       "    .dataframe thead th {\n",
       "        text-align: right;\n",
       "    }\n",
       "</style>\n",
       "<table border=\"1\" class=\"dataframe\">\n",
       "  <thead>\n",
       "    <tr style=\"text-align: right;\">\n",
       "      <th></th>\n",
       "      <th>Date Of Stop</th>\n",
       "      <th>Time Of Stop</th>\n",
       "      <th>Description</th>\n",
       "      <th>Location</th>\n",
       "      <th>VehicleType</th>\n",
       "      <th>Year</th>\n",
       "      <th>Make</th>\n",
       "      <th>Model</th>\n",
       "      <th>Color</th>\n",
       "      <th>Violation Type</th>\n",
       "      <th>Race</th>\n",
       "      <th>Gender</th>\n",
       "      <th>Price</th>\n",
       "    </tr>\n",
       "  </thead>\n",
       "  <tbody>\n",
       "    <tr>\n",
       "      <th>103322</th>\n",
       "      <td>8/23/15</td>\n",
       "      <td>21:53:00</td>\n",
       "      <td>FAILURE TO DISPLAY TWO LIGHTED FRONT LAMPS WHE...</td>\n",
       "      <td>RIVER RD / CARDEROCK SPRINGS DR</td>\n",
       "      <td>02 - Automobile</td>\n",
       "      <td>2020.0</td>\n",
       "      <td>HONDA</td>\n",
       "      <td>CIVI</td>\n",
       "      <td>SILVER</td>\n",
       "      <td>Warning</td>\n",
       "      <td>BLACK</td>\n",
       "      <td>M</td>\n",
       "      <td>9322.0</td>\n",
       "    </tr>\n",
       "  </tbody>\n",
       "</table>\n",
       "</div>"
      ],
      "text/plain": [
       "       Date Of Stop Time Of Stop  \\\n",
       "103322      8/23/15     21:53:00   \n",
       "\n",
       "                                              Description  \\\n",
       "103322  FAILURE TO DISPLAY TWO LIGHTED FRONT LAMPS WHE...   \n",
       "\n",
       "                               Location      VehicleType    Year   Make Model  \\\n",
       "103322  RIVER RD / CARDEROCK SPRINGS DR  02 - Automobile  2020.0  HONDA  CIVI   \n",
       "\n",
       "         Color Violation Type   Race Gender   Price  \n",
       "103322  SILVER        Warning  BLACK      M  9322.0  "
      ]
     },
     "execution_count": 69,
     "metadata": {},
     "output_type": "execute_result"
    }
   ],
   "source": [
    "# Find the vehicle(s) with the highest price in the 6th newest year\n",
    "sixth_newest_year_cars_df = df_year_clean[(df_year_clean['Year'] == sixth_newest_year)]\n",
    "\n",
    "# Find the maximum price for vehicles of this year\n",
    "sixth_newest_most_expensive = sixth_newest_year_cars_df['Price'].max()\n",
    "\n",
    "# Find the vehicle(s) with the maximum price\n",
    "sixth_newest_expensive_df = sixth_newest_year_cars_df[(sixth_newest_year_cars_df['Price'] == sixth_newest_most_expensive)]\n",
    "\n",
    "sixth_newest_expensive_df\n"
   ]
  },
  {
   "cell_type": "markdown",
   "id": "4f7b3a93",
   "metadata": {},
   "source": [
    "### Identify the vehicle(s) with the 4th oldest production year and determining their minimum price."
   ]
  },
  {
   "cell_type": "code",
   "execution_count": 70,
   "id": "351cc249",
   "metadata": {},
   "outputs": [
    {
     "data": {
      "text/html": [
       "<div>\n",
       "<style scoped>\n",
       "    .dataframe tbody tr th:only-of-type {\n",
       "        vertical-align: middle;\n",
       "    }\n",
       "\n",
       "    .dataframe tbody tr th {\n",
       "        vertical-align: top;\n",
       "    }\n",
       "\n",
       "    .dataframe thead th {\n",
       "        text-align: right;\n",
       "    }\n",
       "</style>\n",
       "<table border=\"1\" class=\"dataframe\">\n",
       "  <thead>\n",
       "    <tr style=\"text-align: right;\">\n",
       "      <th></th>\n",
       "      <th>Date Of Stop</th>\n",
       "      <th>Time Of Stop</th>\n",
       "      <th>Description</th>\n",
       "      <th>Location</th>\n",
       "      <th>VehicleType</th>\n",
       "      <th>Year</th>\n",
       "      <th>Make</th>\n",
       "      <th>Model</th>\n",
       "      <th>Color</th>\n",
       "      <th>Violation Type</th>\n",
       "      <th>Race</th>\n",
       "      <th>Gender</th>\n",
       "      <th>Price</th>\n",
       "    </tr>\n",
       "  </thead>\n",
       "  <tbody>\n",
       "    <tr>\n",
       "      <th>746093</th>\n",
       "      <td>3/24/14</td>\n",
       "      <td>22:11:00</td>\n",
       "      <td>DRIVER FAILURE TO OBEY PROPERLY PLACED TRAFFIC...</td>\n",
       "      <td>GEORGIA AND UNIVERSITY BLVD</td>\n",
       "      <td>02 - Automobile</td>\n",
       "      <td>1925.0</td>\n",
       "      <td>HONDA</td>\n",
       "      <td>CIVIC</td>\n",
       "      <td>GRAY</td>\n",
       "      <td>Warning</td>\n",
       "      <td>WHITE</td>\n",
       "      <td>F</td>\n",
       "      <td>500.0</td>\n",
       "    </tr>\n",
       "  </tbody>\n",
       "</table>\n",
       "</div>"
      ],
      "text/plain": [
       "       Date Of Stop Time Of Stop  \\\n",
       "746093      3/24/14     22:11:00   \n",
       "\n",
       "                                              Description  \\\n",
       "746093  DRIVER FAILURE TO OBEY PROPERLY PLACED TRAFFIC...   \n",
       "\n",
       "                           Location      VehicleType    Year   Make  Model  \\\n",
       "746093  GEORGIA AND UNIVERSITY BLVD  02 - Automobile  1925.0  HONDA  CIVIC   \n",
       "\n",
       "       Color Violation Type   Race Gender  Price  \n",
       "746093  GRAY        Warning  WHITE      F  500.0  "
      ]
     },
     "execution_count": 70,
     "metadata": {},
     "output_type": "execute_result"
    }
   ],
   "source": [
    "# Find 4th oldest year\n",
    "fourth_oldest_year = sorted(df_year_clean['Year'].unique(), reverse=False)[3]\n",
    "\n",
    "# Find the vehicle(s) with the 4th oldest production year\n",
    "fourth_oldest_cars_df = df_year_clean[(df_year_clean['Year'] == fourth_oldest_year)]\n",
    "\n",
    "# Find the minimum price for vehicles of this year\n",
    "fourth_oldest_min_price = fourth_oldest_cars_df['Price'].min()\n",
    "\n",
    "# Find the vehicle(s) with the minimum price\n",
    "fourth_min_price_car_df = fourth_oldest_cars_df[(fourth_oldest_cars_df['Price'] == fourth_oldest_min_price)]\n",
    "\n",
    "fourth_min_price_car_df"
   ]
  },
  {
   "cell_type": "markdown",
   "id": "3c5af522",
   "metadata": {},
   "source": [
    "### Identify and count the number of missing values."
   ]
  },
  {
   "cell_type": "code",
   "execution_count": 83,
   "id": "9ba293f5",
   "metadata": {},
   "outputs": [],
   "source": [
    "# Count missing values for each column\n",
    "missing_values = df.isnull().sum()\n",
    "# Calculate the percentage of missing values for each column\n",
    "missing_percentage = ((df.isnull().sum() / len(df)) * 100).round(2)\n",
    "\n",
    "# Calculate the total number of missing values\n",
    "total_missing_value = missing_values.sum()\n",
    "\n",
    "# Find the rows with missing values\n",
    "rows_with_missing = df[df.isnull().any(axis=1)]\n"
   ]
  },
  {
   "cell_type": "markdown",
   "id": "a7e09a50",
   "metadata": {},
   "source": [
    "### Converting all my findings into a data frame table and printing it."
   ]
  },
  {
   "cell_type": "code",
   "execution_count": 107,
   "id": "877c4e84",
   "metadata": {},
   "outputs": [
    {
     "name": "stdout",
     "output_type": "stream",
     "text": [
      "\n",
      "VEHICLE ANALYSIS PREVIEW\n",
      "                    Analysis_Type    Vehicle_Type  Make   Year Model  Color  Price  Year_Rank\n",
      " 6th Newest Year - Most Expensive 02 - Automobile HONDA 2020.0  CIVI SILVER 9322.0 6th Newest\n",
      "4th Oldest Year - Least Expensive 02 - Automobile HONDA 1925.0 CIVIC   GRAY  500.0 4th Oldest\n",
      "\n",
      "\n",
      "MISSING VALUES ANALYSIS PREVIEW\n",
      "   Column_Name  Missing_Count  Missing_Percentage  Total_Records  Complete_Records\n",
      "  Date Of Stop              0                0.00         803889            803889\n",
      "  Time Of Stop              0                0.00         803889            803889\n",
      "   Description              5                0.00         803889            803884\n",
      "      Location            831                0.10         803889            803058\n",
      "   VehicleType            829                0.10         803889            803060\n",
      "          Year           6844                0.85         803889            797045\n",
      "          Make            872                0.11         803889            803017\n",
      "         Model            956                0.12         803889            802933\n",
      "         Color          10939                1.36         803889            792950\n",
      "Violation Type            829                0.10         803889            803060\n",
      "          Race            829                0.10         803889            803060\n",
      "        Gender           1658                0.21         803889            802231\n",
      "         Price           1658                0.21         803889            802231\n",
      " TOTAL_DATASET          26250                0.25         803889            777639\n"
     ]
    }
   ],
   "source": [
    "# Create separate CSV files for different analysis results\n",
    "\n",
    "# 1. Vehicle Analysis Results (6th newest and 4th oldest)\n",
    "vehicle_results = []\n",
    "\n",
    "# Add 6th newest vehicle information\n",
    "for idx, row in sixth_newest_expensive_df.iterrows():\n",
    "    vehicle_results.append({\n",
    "        'Analysis_Type': '6th Newest Year - Most Expensive',\n",
    "        'Vehicle_Type': row['VehicleType'],\n",
    "        'Make': row['Make'],\n",
    "        'Year': row['Year'],\n",
    "        'Model': row['Model'],\n",
    "        'Color': row['Color'],\n",
    "        'Price': row['Price'],\n",
    "        'Year_Rank': '6th Newest',\n",
    "    })\n",
    "\n",
    "# Add 4th oldest vehicle information\n",
    "for idx, row in fourth_min_price_car_df.iterrows():\n",
    "    vehicle_results.append({\n",
    "        'Analysis_Type': '4th Oldest Year - Least Expensive',\n",
    "        'Vehicle_Type': row['VehicleType'],\n",
    "        'Make': row['Make'],\n",
    "        'Year': row['Year'],\n",
    "        'Model': row['Model'],\n",
    "        'Color': row['Color'],\n",
    "        'Price': row['Price'],\n",
    "        'Year_Rank': '4th Oldest',\n",
    "    })\n",
    "\n",
    "# Create vehicle analysis dataframe\n",
    "vehicle_df = pd.DataFrame(vehicle_results)\n",
    "\n",
    "# 2. Missing Values Analysis Results\n",
    "missing_results = []\n",
    "\n",
    "# Add missing values summary for each column\n",
    "for col, missing_count, missing_pct in zip(missing_values.index, missing_values.values, missing_percentage.values):\n",
    "    missing_results.append({\n",
    "        'Column_Name': col,\n",
    "        'Missing_Count': missing_count,\n",
    "        'Missing_Percentage': missing_pct,\n",
    "        'Total_Records': len(df),\n",
    "        'Complete_Records': len(df) - missing_count,\n",
    "    })\n",
    "\n",
    "# Add overall summary\n",
    "missing_results.append({\n",
    "    'Column_Name': 'TOTAL_DATASET',\n",
    "    'Missing_Count': total_missing_value,\n",
    "    'Missing_Percentage': round((total_missing_value / (len(df) * len(df.columns))) * 100, 2),\n",
    "    'Total_Records': len(df),\n",
    "    'Complete_Records': len(df) - total_missing_value,\n",
    "})\n",
    "\n",
    "# Create missing values dataframe\n",
    "missing_df = pd.DataFrame(missing_results)\n",
    "\n",
    "\n",
    "# Display preview of both files\n",
    "print(\"\\nVEHICLE ANALYSIS PREVIEW\")\n",
    "print(vehicle_df.to_string(index=False))\n",
    "\n",
    "print(\"\\n\\nMISSING VALUES ANALYSIS PREVIEW\")\n",
    "print(missing_df.to_string(index=False))\n"
   ]
  },
  {
   "cell_type": "markdown",
   "id": "217cbe29",
   "metadata": {},
   "source": [
    "### Save the analysis results to CSV file"
   ]
  },
  {
   "cell_type": "code",
   "execution_count": 109,
   "id": "a10be9c3",
   "metadata": {},
   "outputs": [
    {
     "name": "stdout",
     "output_type": "stream",
     "text": [
      "Vehicle analysis results saved to 'lab3_vehicle_analysis.csv'\n",
      "Missing values analysis saved to 'lab3_missing_values_analysis.csv'\n"
     ]
    }
   ],
   "source": [
    "# Create separate CSV files for different analysis results\n",
    "\n",
    "# 1. Vehicle Analysis Results (6th newest and 4th oldest)\n",
    "vehicle_results = []\n",
    "\n",
    "# Add 6th newest vehicle information\n",
    "for idx, row in sixth_newest_expensive_df.iterrows():\n",
    "    vehicle_results.append({\n",
    "        'Analysis_Type': '6th Newest Year - Most Expensive',\n",
    "        'Vehicle_Type': row['VehicleType'],\n",
    "        'Make': row['Make'],\n",
    "        'Year': row['Year'],\n",
    "        'Model': row['Model'],\n",
    "        'Color': row['Color'],\n",
    "        'Price': row['Price'],\n",
    "    })\n",
    "\n",
    "# Add 4th oldest vehicle information\n",
    "for idx, row in fourth_min_price_car_df.iterrows():\n",
    "    vehicle_results.append({\n",
    "        'Analysis_Type': '4th Oldest Year - Least Expensive',\n",
    "        'Vehicle_Type': row['VehicleType'],\n",
    "        'Make': row['Make'],\n",
    "        'Year': row['Year'],\n",
    "        'Model': row['Model'],\n",
    "        'Color': row['Color'],\n",
    "        'Price': row['Price'],\n",
    "    })\n",
    "\n",
    "# Create vehicle analysis dataframe\n",
    "vehicle_df = pd.DataFrame(vehicle_results)\n",
    "\n",
    "# 2. Missing Values Analysis Results\n",
    "missing_results = []\n",
    "\n",
    "# Add missing values summary for each column\n",
    "for col, missing_count, missing_pct in zip(missing_values.index, missing_values.values, missing_percentage.values):\n",
    "    missing_results.append({\n",
    "        'Column_Name': col,\n",
    "        'Missing_Count': missing_count,\n",
    "        'Missing_Percentage': missing_pct,\n",
    "        'Total_Records': len(df),\n",
    "        'Complete_Records': len(df) - missing_count,\n",
    "    })\n",
    "\n",
    "# Add overall summary\n",
    "missing_results.append({\n",
    "    'Column_Name': 'TOTAL_DATASET',\n",
    "    'Missing_Count': total_missing_value,\n",
    "    'Missing_Percentage': round((total_missing_value / (len(df) * len(df.columns))) * 100, 2),\n",
    "    'Total_Records': len(df),\n",
    "    'Complete_Records': len(df) - total_missing_value,\n",
    "})\n",
    "\n",
    "# Create missing values dataframe\n",
    "missing_df = pd.DataFrame(missing_results)\n",
    "\n",
    "# Save both files\n",
    "vehicle_df.to_csv('lab3_vehicle_analysis.csv', index=False)\n",
    "missing_df.to_csv('lab3_missing_values_analysis.csv', index=False)\n",
    "\n",
    "print(\"Vehicle analysis results saved to 'lab3_vehicle_analysis.csv'\")\n",
    "print(\"Missing values analysis saved to 'lab3_missing_values_analysis.csv'\")\n"
   ]
  }
 ],
 "metadata": {
  "kernelspec": {
   "display_name": "Python 3",
   "language": "python",
   "name": "python3"
  },
  "language_info": {
   "codemirror_mode": {
    "name": "ipython",
    "version": 3
   },
   "file_extension": ".py",
   "mimetype": "text/x-python",
   "name": "python",
   "nbconvert_exporter": "python",
   "pygments_lexer": "ipython3",
   "version": "3.13.7"
  }
 },
 "nbformat": 4,
 "nbformat_minor": 5
}
