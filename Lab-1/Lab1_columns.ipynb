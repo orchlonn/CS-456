{
 "cells": [
  {
   "cell_type": "markdown",
   "id": "5366f1d8",
   "metadata": {},
   "source": [
    "My name is Orchlon (50291063). I plan to create my own structured dataset and experiment with it to become more familiar with the process."
   ]
  },
  {
   "cell_type": "code",
   "execution_count": 28,
   "id": "3856f3c4",
   "metadata": {},
   "outputs": [
    {
     "name": "stdout",
     "output_type": "stream",
     "text": [
      "Dataset created successfully!\n",
      "Total students: 50\n",
      "Data types: Student_ID (int), Score (float), Major (str), Graduation_Year (int), Pass/Fail (bool)\n"
     ]
    }
   ],
   "source": [
    "import pandas as pd\n",
    "import random\n",
    "import numpy as np\n",
    "from datetime import datetime, timedelta\n",
    "\n",
    "# Set random seed for reproducibility\n",
    "random.seed(42)\n",
    "np.random.seed(42)\n",
    "\n",
    "# Define the data for 50 students\n",
    "n_students = 50\n",
    "\n",
    "# Generate Student IDs (integers from 10001 to 10050)\n",
    "student_ids = list(range(10001, 10001 + n_students))\n",
    "\n",
    "# Generate Scores (floats between 0.0 and 100.0)\n",
    "scores = [round(random.uniform(0.0, 100.0), 2) for _ in range(n_students)]\n",
    "\n",
    "# Define majors and randomly assign them\n",
    "majors_list = [\"Computer Science\", \"Mathematics\", \"Physics\", \"Chemistry\", \"Biology\", \n",
    "               \"Engineering\", \"Psychology\", \"Economics\", \"Literature\", \"History\"]\n",
    "majors = [random.choice(majors_list) for _ in range(n_students)]\n",
    "\n",
    "# Generate Graduation Years (integers between 2024 and 2027)\n",
    "graduation_years = [random.randint(2024, 2027) for _ in range(n_students)]\n",
    "\n",
    "# Generate Pass/Fail (booleans - True if score >= 60, False otherwise)\n",
    "pass_fail = [score >= 60.0 for score in scores]\n",
    "\n",
    "print(\"Dataset created successfully!\")\n",
    "print(f\"Total students: {len(student_ids)}\")\n",
    "print(f\"Data types: Student_ID (int), Score (float), Major (str), Graduation_Year (int), Pass/Fail (bool)\")\n"
   ]
  },
  {
   "cell_type": "code",
   "execution_count": 30,
   "id": "5fdd0819",
   "metadata": {},
   "outputs": [
    {
     "name": "stdout",
     "output_type": "stream",
     "text": [
      "First 5 rows of the DataFrame:\n",
      "   Student_ID  Score        Major  Graduation_Year  Pass/Fail\n",
      "0       10001  63.94  Engineering             2025       True\n",
      "1       10002   2.50  Engineering             2027      False\n",
      "2       10003  27.50    Chemistry             2024      False\n",
      "3       10004  22.32      Biology             2027      False\n",
      "4       10005  73.65  Mathematics             2027       True\n",
      "\n",
      "================================================================================\n",
      "\n",
      "Last 5 5 of the DataFrame:\n",
      "    Student_ID  Score             Major  Graduation_Year  Pass/Fail\n",
      "45       10046  23.28         Economics             2025      False\n",
      "46       10047  10.10       Mathematics             2025      False\n",
      "47       10048  27.80  Computer Science             2026      False\n",
      "48       10049  63.57       Mathematics             2027       True\n",
      "49       10050  36.48           Physics             2026      False\n",
      "\n",
      "================================================================================\n",
      "\n",
      "DataFrame dtypes:\n",
      "Student_ID           int64\n",
      "Score              float64\n",
      "Major               object\n",
      "Graduation_Year      int64\n",
      "Pass/Fail             bool\n",
      "dtype: object\n"
     ]
    }
   ],
   "source": [
    "# Create a dictionary with all the data\n",
    "data = {\n",
    "    'Student_ID': student_ids,\n",
    "    'Score': scores,\n",
    "    'Major': majors,\n",
    "    'Graduation_Year': graduation_years,\n",
    "    'Pass/Fail': pass_fail\n",
    "}\n",
    "\n",
    "# Convert to pandas DataFrame\n",
    "df = pd.DataFrame(data)\n",
    "\n",
    "# Display the first few rows of the DataFrame\n",
    "print(\"First 5 rows of the DataFrame:\")\n",
    "print(df.head(5))\n",
    "print(\"\\n\" + \"=\"*80 + \"\\n\")\n",
    "\n",
    "# Display the last few rows of the DataFrame\n",
    "print(\"Last 5 5 of the DataFrame:\")\n",
    "print(df.tail(5))\n",
    "print(\"\\n\" + \"=\"*80 + \"\\n\")\n",
    "\n",
    "print(f\"DataFrame dtypes:\")\n",
    "print(df.dtypes)\n"
   ]
  },
  {
   "cell_type": "code",
   "execution_count": 33,
   "id": "94086409",
   "metadata": {},
   "outputs": [
    {
     "name": "stdout",
     "output_type": "stream",
     "text": [
      "\n",
      "Descriptive statistics:\n",
      "        Student_ID     Score  Graduation_Year\n",
      "count     50.00000  50.00000        50.000000\n",
      "mean   10025.50000  45.06760      2025.440000\n",
      "std       14.57738  29.32915         1.109514\n",
      "min    10001.00000   0.65000      2024.000000\n",
      "25%    10013.25000  21.90500      2024.250000\n",
      "50%    10025.50000  46.36500      2025.000000\n",
      "75%    10037.75000  69.27500      2026.000000\n",
      "max    10050.00000  97.31000      2027.000000\n",
      "\n",
      "================================================================================\n",
      "\n",
      "UNIQUE VALUES IN CATEGORICAL COLUMNS:\n",
      "\n",
      "Column: Major\n",
      "Number of unique values: 10\n",
      "Unique values: ['Engineering', 'Chemistry', 'Biology', 'Mathematics', 'History', 'Physics', 'Literature', 'Economics', 'Psychology', 'Computer Science']\n"
     ]
    }
   ],
   "source": [
    "# Get only numeric columns and apply describe()\n",
    "numeric_columns = df.select_dtypes(include=[np.number])\n",
    "print(\"\\nDescriptive statistics:\")\n",
    "print(numeric_columns.describe())\n",
    "\n",
    "print(\"\\n\" + \"=\"*80 + \"\\n\")\n",
    "\n",
    "# Find the number of unique values in categorical columns\n",
    "print(\"UNIQUE VALUES IN CATEGORICAL COLUMNS:\")\n",
    "\n",
    "# Get categorical columns (object type)\n",
    "categorical_columns = df.select_dtypes(include=['object'])\n",
    "\n",
    "for column in categorical_columns.columns:\n",
    "    unique_count = df[column].nunique()\n",
    "    unique_values = df[column].unique()\n",
    "    print(f\"\\nColumn: {column}\")\n",
    "    print(f\"Number of unique values: {unique_count}\")\n",
    "    print(f\"Unique values: {list(unique_values)}\")"
   ]
  },
  {
   "cell_type": "code",
   "execution_count": 37,
   "id": "63ca92fb",
   "metadata": {},
   "outputs": [
    {
     "name": "stdout",
     "output_type": "stream",
     "text": [
      "\n",
      "DataFrame now has 6 columns: ['Student_ID', 'Score', 'Major', 'Graduation_Year', 'Pass/Fail', 'Letter_Grade']\n",
      "Letter_Grade\n",
      "A     2\n",
      "B     7\n",
      "C     3\n",
      "D     7\n",
      "F    31\n",
      "Name: count, dtype: int64\n"
     ]
    }
   ],
   "source": [
    "# Add a computed column: Convert Score to Letter Grade\n",
    "def score_to_letter_grade(score):\n",
    "    \"\"\"\n",
    "    Convert numeric score to letter grade\n",
    "    A: 90-100\n",
    "    B: 80-89\n",
    "    C: 70-79\n",
    "    D: 60-69\n",
    "    F: Below 60\n",
    "    \"\"\"\n",
    "    if score >= 90:\n",
    "        return 'A'\n",
    "    elif score >= 80:\n",
    "        return 'B'\n",
    "    elif score >= 70:\n",
    "        return 'C'\n",
    "    elif score >= 60:\n",
    "        return 'D'\n",
    "    else:\n",
    "        return 'F'\n",
    "\n",
    "# Apply the function to create the new column\n",
    "df['Letter_Grade'] = df['Score'].apply(score_to_letter_grade)\n",
    "print(f\"\\nDataFrame now has {len(df.columns)} columns: {list(df.columns)}\")\n",
    "print(df['Letter_Grade'].value_counts().sort_index())\n"
   ]
  },
  {
   "cell_type": "code",
   "execution_count": 39,
   "id": "828e8d16",
   "metadata": {},
   "outputs": [
    {
     "name": "stdout",
     "output_type": "stream",
     "text": [
      "DataFrame saved to 'student_data_with_grades.csv' successfully!\n",
      "\n",
      "File contains 50 rows and 6 columns\n",
      "Columns: Student_ID, Score, Major, Graduation_Year, Pass/Fail, Letter_Grade\n",
      "\n",
      "The Letter_Grade column is a computed column based on Score values.\n",
      "\n",
      " Verification: Successfully read 50 rows from the CSV file\n"
     ]
    }
   ],
   "source": [
    "# Save the DataFrame to a CSV file\n",
    "csv_filename = 'student_data_with_grades.csv'\n",
    "df.to_csv(csv_filename, index=False)\n",
    "\n",
    "print(f\"DataFrame saved to '{csv_filename}' successfully!\")\n",
    "print(f\"\\nFile contains {len(df)} rows and {len(df.columns)} columns\")\n",
    "print(f\"Columns: {', '.join(df.columns)}\")\n",
    "print(f\"\\nThe Letter_Grade column is a computed column based on Score values.\")\n",
    "\n",
    "# Verify the file was created by reading it back\n",
    "df_verify = pd.read_csv(csv_filename)\n",
    "print(f\"\\n Verification: Successfully read {len(df_verify)} rows from the CSV file\")\n"
   ]
  }
 ],
 "metadata": {
  "kernelspec": {
   "display_name": "Python 3",
   "language": "python",
   "name": "python3"
  },
  "language_info": {
   "codemirror_mode": {
    "name": "ipython",
    "version": 3
   },
   "file_extension": ".py",
   "mimetype": "text/x-python",
   "name": "python",
   "nbconvert_exporter": "python",
   "pygments_lexer": "ipython3",
   "version": "3.13.7"
  }
 },
 "nbformat": 4,
 "nbformat_minor": 5
}
