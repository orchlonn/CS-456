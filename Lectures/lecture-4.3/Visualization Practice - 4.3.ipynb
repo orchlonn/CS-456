{
 "cells": [
  {
   "cell_type": "code",
   "execution_count": 1,
   "metadata": {},
   "outputs": [],
   "source": [
    "import pandas as pd\n",
    "import numpy as np\n",
    "import glob\n",
    "import matplotlib.pyplot as plt"
   ]
  },
  {
   "cell_type": "code",
   "execution_count": 2,
   "metadata": {},
   "outputs": [
    {
     "data": {
      "text/plain": [
       "['New_books.csv']"
      ]
     },
     "execution_count": 2,
     "metadata": {},
     "output_type": "execute_result"
    }
   ],
   "source": [
    "glob.glob('*.csv')"
   ]
  },
  {
   "cell_type": "markdown",
   "metadata": {},
   "source": [
    "## Load data"
   ]
  },
  {
   "cell_type": "code",
   "execution_count": 3,
   "metadata": {},
   "outputs": [
    {
     "data": {
      "text/html": [
       "<div>\n",
       "<style scoped>\n",
       "    .dataframe tbody tr th:only-of-type {\n",
       "        vertical-align: middle;\n",
       "    }\n",
       "\n",
       "    .dataframe tbody tr th {\n",
       "        vertical-align: top;\n",
       "    }\n",
       "\n",
       "    .dataframe thead th {\n",
       "        text-align: right;\n",
       "    }\n",
       "</style>\n",
       "<table border=\"1\" class=\"dataframe\">\n",
       "  <thead>\n",
       "    <tr style=\"text-align: right;\">\n",
       "      <th></th>\n",
       "      <th>Place of Publication</th>\n",
       "      <th>Date of Publication</th>\n",
       "      <th>Publisher</th>\n",
       "      <th>Title</th>\n",
       "      <th>Author</th>\n",
       "      <th>Flickr URL</th>\n",
       "    </tr>\n",
       "  </thead>\n",
       "  <tbody>\n",
       "    <tr>\n",
       "      <th>0</th>\n",
       "      <td>London</td>\n",
       "      <td>1879</td>\n",
       "      <td>S. Tinsley &amp; Co.</td>\n",
       "      <td>Walter Forbes</td>\n",
       "      <td>AA</td>\n",
       "      <td>http://www.flickr.com/photos/britishlibrary/ta...</td>\n",
       "    </tr>\n",
       "    <tr>\n",
       "      <th>1</th>\n",
       "      <td>London</td>\n",
       "      <td>1868</td>\n",
       "      <td>Virtue &amp; Co.</td>\n",
       "      <td>All For Greed</td>\n",
       "      <td>A. A A.</td>\n",
       "      <td>http://www.flickr.com/photos/britishlibrary/ta...</td>\n",
       "    </tr>\n",
       "    <tr>\n",
       "      <th>2</th>\n",
       "      <td>London</td>\n",
       "      <td>1869</td>\n",
       "      <td>Bradbury, Evans &amp; Co.</td>\n",
       "      <td>Love The Avenger</td>\n",
       "      <td>A. A A.</td>\n",
       "      <td>http://www.flickr.com/photos/britishlibrary/ta...</td>\n",
       "    </tr>\n",
       "    <tr>\n",
       "      <th>3</th>\n",
       "      <td>London</td>\n",
       "      <td>1851</td>\n",
       "      <td>James Darling</td>\n",
       "      <td>Welsh Sketches, Chiefly Ecclesiastical, To The...</td>\n",
       "      <td>E. S A.</td>\n",
       "      <td>http://www.flickr.com/photos/britishlibrary/ta...</td>\n",
       "    </tr>\n",
       "    <tr>\n",
       "      <th>4</th>\n",
       "      <td>London</td>\n",
       "      <td>1857</td>\n",
       "      <td>Wertheim &amp; Macintosh</td>\n",
       "      <td>The World In Which I Live, And My Place In It</td>\n",
       "      <td>E. S A.</td>\n",
       "      <td>http://www.flickr.com/photos/britishlibrary/ta...</td>\n",
       "    </tr>\n",
       "  </tbody>\n",
       "</table>\n",
       "</div>"
      ],
      "text/plain": [
       "  Place of Publication Date of Publication              Publisher  \\\n",
       "0               London               1879        S. Tinsley & Co.   \n",
       "1               London                1868           Virtue & Co.   \n",
       "2               London                1869  Bradbury, Evans & Co.   \n",
       "3               London                1851          James Darling   \n",
       "4               London                1857   Wertheim & Macintosh   \n",
       "\n",
       "                                               Title    Author  \\\n",
       "0                                      Walter Forbes        AA   \n",
       "1                                      All For Greed   A. A A.   \n",
       "2                                   Love The Avenger   A. A A.   \n",
       "3  Welsh Sketches, Chiefly Ecclesiastical, To The...   E. S A.   \n",
       "4      The World In Which I Live, And My Place In It   E. S A.   \n",
       "\n",
       "                                          Flickr URL  \n",
       "0  http://www.flickr.com/photos/britishlibrary/ta...  \n",
       "1  http://www.flickr.com/photos/britishlibrary/ta...  \n",
       "2  http://www.flickr.com/photos/britishlibrary/ta...  \n",
       "3  http://www.flickr.com/photos/britishlibrary/ta...  \n",
       "4  http://www.flickr.com/photos/britishlibrary/ta...  "
      ]
     },
     "execution_count": 3,
     "metadata": {},
     "output_type": "execute_result"
    }
   ],
   "source": [
    "cleaned_books_df = pd.read_csv('New_books.csv')\n",
    "cleaned_books_df.head()"
   ]
  },
  {
   "cell_type": "code",
   "execution_count": 4,
   "metadata": {},
   "outputs": [
    {
     "data": {
      "text/html": [
       "<div>\n",
       "<style scoped>\n",
       "    .dataframe tbody tr th:only-of-type {\n",
       "        vertical-align: middle;\n",
       "    }\n",
       "\n",
       "    .dataframe tbody tr th {\n",
       "        vertical-align: top;\n",
       "    }\n",
       "\n",
       "    .dataframe thead th {\n",
       "        text-align: right;\n",
       "    }\n",
       "</style>\n",
       "<table border=\"1\" class=\"dataframe\">\n",
       "  <thead>\n",
       "    <tr style=\"text-align: right;\">\n",
       "      <th></th>\n",
       "      <th>Place of Publication</th>\n",
       "      <th>Date of Publication</th>\n",
       "      <th>Publisher</th>\n",
       "      <th>Title</th>\n",
       "      <th>Author</th>\n",
       "      <th>Flickr URL</th>\n",
       "    </tr>\n",
       "  </thead>\n",
       "  <tbody>\n",
       "    <tr>\n",
       "      <th>count</th>\n",
       "      <td>8287</td>\n",
       "      <td>7320</td>\n",
       "      <td>4092</td>\n",
       "      <td>8274</td>\n",
       "      <td>6509</td>\n",
       "      <td>8287</td>\n",
       "    </tr>\n",
       "    <tr>\n",
       "      <th>unique</th>\n",
       "      <td>1192</td>\n",
       "      <td>403</td>\n",
       "      <td>1989</td>\n",
       "      <td>8031</td>\n",
       "      <td>4949</td>\n",
       "      <td>8287</td>\n",
       "    </tr>\n",
       "    <tr>\n",
       "      <th>top</th>\n",
       "      <td>London</td>\n",
       "      <td>1897</td>\n",
       "      <td>Macmillan &amp; Co.</td>\n",
       "      <td>Poems</td>\n",
       "      <td>William Shakespeare</td>\n",
       "      <td>http://www.flickr.com/photos/britishlibrary/ta...</td>\n",
       "    </tr>\n",
       "    <tr>\n",
       "      <th>freq</th>\n",
       "      <td>4219</td>\n",
       "      <td>174</td>\n",
       "      <td>85</td>\n",
       "      <td>10</td>\n",
       "      <td>48</td>\n",
       "      <td>1</td>\n",
       "    </tr>\n",
       "  </tbody>\n",
       "</table>\n",
       "</div>"
      ],
      "text/plain": [
       "       Place of Publication Date of Publication        Publisher  Title  \\\n",
       "count                  8287                7320             4092   8274   \n",
       "unique                 1192                 403             1989   8031   \n",
       "top                  London                1897  Macmillan & Co.  Poems   \n",
       "freq                   4219                 174               85     10   \n",
       "\n",
       "                      Author  \\\n",
       "count                   6509   \n",
       "unique                  4949   \n",
       "top      William Shakespeare   \n",
       "freq                      48   \n",
       "\n",
       "                                               Flickr URL  \n",
       "count                                                8287  \n",
       "unique                                               8287  \n",
       "top     http://www.flickr.com/photos/britishlibrary/ta...  \n",
       "freq                                                    1  "
      ]
     },
     "execution_count": 4,
     "metadata": {},
     "output_type": "execute_result"
    }
   ],
   "source": [
    "cleaned_books_df.describe()"
   ]
  },
  {
   "cell_type": "markdown",
   "metadata": {},
   "source": [
    "## 1. Get the top 5 publishers and their published number.\n",
    "To understanding Market Dynamics, identifying the top publishers helps understand the publishing market's dynamics during a specific period. It can indicate which publishers were dominant and how the publishing landscape might have been shaped by their activities."
   ]
  },
  {
   "cell_type": "code",
   "execution_count": 5,
   "metadata": {},
   "outputs": [
    {
     "data": {
      "text/plain": [
       "Publisher\n",
       "Macmillan & Co.        85\n",
       "London                 69\n",
       "Privately printed      53\n",
       "Longmans & Co.         52\n",
       "Hurst & Blackett       51\n",
       "                       ..\n",
       "Archibald Constable     1\n",
       "J. Heaton & Son         1\n",
       "Bowen-Merrill Co.       1\n",
       "Robert Triphook         1\n",
       "Mackenzie & Dent        1\n",
       "Name: count, Length: 1989, dtype: int64"
      ]
     },
     "execution_count": 5,
     "metadata": {},
     "output_type": "execute_result"
    }
   ],
   "source": [
    "cleaned_books_df['Publisher'].value_counts()"
   ]
  },
  {
   "cell_type": "code",
   "execution_count": 6,
   "metadata": {},
   "outputs": [
    {
     "data": {
      "text/plain": [
       "Publisher\n",
       "Macmillan & Co.      85\n",
       "London               69\n",
       "Privately printed    53\n",
       "Longmans & Co.       52\n",
       "Hurst & Blackett     51\n",
       "Name: count, dtype: int64"
      ]
     },
     "execution_count": 6,
     "metadata": {},
     "output_type": "execute_result"
    }
   ],
   "source": [
    "n = 5\n",
    "publisher_list = cleaned_books_df['Publisher'].value_counts()[:n]\n",
    "publisher_list"
   ]
  },
  {
   "cell_type": "code",
   "execution_count": 7,
   "metadata": {},
   "outputs": [
    {
     "data": {
      "text/plain": [
       "(Index(['Macmillan & Co.', 'London', 'Privately printed', 'Longmans & Co.',\n",
       "        'Hurst & Blackett'],\n",
       "       dtype='object', name='Publisher'),\n",
       " [85, 69, 53, 52, 51])"
      ]
     },
     "execution_count": 7,
     "metadata": {},
     "output_type": "execute_result"
    }
   ],
   "source": [
    "publisher_list.index, publisher_list.to_list()"
   ]
  },
  {
   "cell_type": "code",
   "execution_count": 8,
   "metadata": {},
   "outputs": [
    {
     "data": {
      "text/plain": [
       "<BarContainer object of 5 artists>"
      ]
     },
     "execution_count": 8,
     "metadata": {},
     "output_type": "execute_result"
    },
    {
     "data": {
      "image/png": "[encoded data removed]",
      "text/plain": [
       "<Figure size 640x480 with 1 Axes>"
      ]
     },
     "metadata": {},
     "output_type": "display_data"
    }
   ],
   "source": [
    "plt.bar(publisher_list.index,publisher_list.to_list())"
   ]
  },
  {
   "cell_type": "code",
   "execution_count": null,
   "metadata": {},
   "outputs": [],
   "source": [
    "# Creating a bar graph\n",
    "plt.figure(figsize=(8,6))\n",
    "\n",
    "#load your data\n",
    "#Your code:\n",
    "\n",
    "# Annotating each bar with the corresponding most publish number of items\n",
    "# Your Code:\n",
    "\n",
    "plt.legend()\n",
    "plt.title('Get the top 5 publishers and their published number.',fontsize=18)\n",
    "plt.xlabel('Publisher',fontsize=17)\n",
    "plt.ylabel('Number of Published Items',fontsize=16)\n",
    "plt.grid(axis='y')\n",
    "\n",
    "plt.show()"
   ]
  },
  {
   "cell_type": "code",
   "execution_count": null,
   "metadata": {},
   "outputs": [],
   "source": []
  },
  {
   "cell_type": "code",
   "execution_count": null,
   "metadata": {},
   "outputs": [],
   "source": []
  },
  {
   "cell_type": "markdown",
   "metadata": {},
   "source": [
    "## Practice 1\n",
    "### 1.1 Identify the top five publishers with the greatest number of books published. \n",
    "### 1.2 Ascertain the year in which each of these publishers achieved their highest sales, along with the total number of books they published in that particular year.\n"
   ]
  },
  {
   "cell_type": "code",
   "execution_count": null,
   "metadata": {},
   "outputs": [],
   "source": [
    "publisher_list"
   ]
  },
  {
   "cell_type": "code",
   "execution_count": null,
   "metadata": {
    "scrolled": true
   },
   "outputs": [],
   "source": [
    "# Selecting the data for the chosen publisher \"Macmillan & Co.\"\n",
    "cleaned_books_df[cleaned_books_df['Publisher'] == 'Macmillan & Co.']"
   ]
  },
  {
   "cell_type": "code",
   "execution_count": null,
   "metadata": {},
   "outputs": [],
   "source": [
    "\n",
    "# Creating a bar graph\n",
    "plt.figure(figsize=(8,6))\n",
    "\n",
    "#Your code:\n",
    "\n",
    "# Annotating each bar with the corresponding most publish number of items\n",
    "# Your code:\n",
    "\n",
    "\n",
    "plt.show()\n",
    "\n"
   ]
  },
  {
   "cell_type": "code",
   "execution_count": null,
   "metadata": {},
   "outputs": [],
   "source": []
  },
  {
   "cell_type": "markdown",
   "metadata": {},
   "source": [
    "## 2. Get the 5 most published place\n",
    "Reason: For contemporary publishers, marketers, and authors, understanding historical publishing centers can provide insights into established markets and potential opportunities for new ventures or expansions."
   ]
  },
  {
   "cell_type": "code",
   "execution_count": null,
   "metadata": {},
   "outputs": [],
   "source": [
    "cleaned_books_df.head()"
   ]
  },
  {
   "cell_type": "code",
   "execution_count": null,
   "metadata": {},
   "outputs": [],
   "source": [
    "cleaned_books_df.describe()"
   ]
  },
  {
   "cell_type": "code",
   "execution_count": null,
   "metadata": {},
   "outputs": [],
   "source": []
  },
  {
   "cell_type": "code",
   "execution_count": null,
   "metadata": {},
   "outputs": [],
   "source": [
    "#create publish_place_data\n",
    "def get_publish_place_data(n,df):\n",
    "    #n: Number of target searches\n",
    "    #df: input dataframe\n",
    "    # Your code:\n",
    "\n",
    "    \n",
    "    return dic\n",
    "    \n",
    "get_publish_place_data(5,cleaned_books_df)"
   ]
  },
  {
   "cell_type": "code",
   "execution_count": null,
   "metadata": {},
   "outputs": [],
   "source": [
    "# Pie Chart Analysis: \n",
    "\n",
    "# Sample data provided earlier (assuming the same structure as the actual dataset)\n",
    "place_of_data = get_publish_place_data(5,cleaned_books_df)\n",
    "\n",
    "# Extracting data for pie chart\n",
    "places = list(place_of_data.keys())\n",
    "publications = [place_of_data[place] for place in places]\n",
    "print(places)\n",
    "print(publications)\n",
    "\n",
    "\n",
    "# Creating a pie chart\n",
    "plt.figure(figsize = (8,8))\n",
    "# Your Pie chart code:\n",
    "\n",
    "\n",
    "plt.title('Distribution of Publications by Top 5 places', fontsize =20)\n",
    "plt.show()\n",
    "\n"
   ]
  },
  {
   "cell_type": "code",
   "execution_count": null,
   "metadata": {},
   "outputs": [],
   "source": []
  },
  {
   "cell_type": "markdown",
   "metadata": {},
   "source": [
    "### 3.1 Demo for  `.groupby`  function"
   ]
  },
  {
   "cell_type": "code",
   "execution_count": null,
   "metadata": {},
   "outputs": [],
   "source": [
    "# Sample DataFrame\n",
    "df = pd.DataFrame({'Category': ['A', 'B', 'A', 'B'],\n",
    "                   'Values': [10, 20, 30, 40]})\n",
    "\n",
    "df"
   ]
  },
  {
   "cell_type": "code",
   "execution_count": null,
   "metadata": {},
   "outputs": [],
   "source": [
    "# Grouping by 'Category' and calculating the size of each group\n",
    "grouped = df.groupby('Category').size()\n",
    "\n",
    "print(grouped)"
   ]
  },
  {
   "cell_type": "code",
   "execution_count": null,
   "metadata": {},
   "outputs": [],
   "source": [
    "# Grouping by 'Category' and calculating the mean of each group\n",
    "grouped = df.groupby('Category').sum()\n",
    "\n",
    "print(grouped)"
   ]
  },
  {
   "cell_type": "markdown",
   "metadata": {},
   "source": [
    "## 3. Show the yearly trend in the number of publications"
   ]
  },
  {
   "cell_type": "markdown",
   "metadata": {},
   "source": [
    "### 3.2 Use `.groupby` on Books data"
   ]
  },
  {
   "cell_type": "code",
   "execution_count": null,
   "metadata": {
    "scrolled": true
   },
   "outputs": [],
   "source": [
    "cleaned_books_df.head()"
   ]
  },
  {
   "cell_type": "code",
   "execution_count": null,
   "metadata": {},
   "outputs": [],
   "source": [
    "cleaned_books_df['Date of Publication']"
   ]
  },
  {
   "cell_type": "code",
   "execution_count": null,
   "metadata": {},
   "outputs": [],
   "source": [
    "yearly_publication_counts = cleaned_books_df.groupby('Date of Publication').size()\n",
    "yearly_publication_counts"
   ]
  },
  {
   "cell_type": "code",
   "execution_count": null,
   "metadata": {
    "scrolled": true
   },
   "outputs": [],
   "source": [
    "for i in yearly_publication_counts.index:\n",
    "    print(i,type(i))"
   ]
  },
  {
   "cell_type": "code",
   "execution_count": null,
   "metadata": {},
   "outputs": [],
   "source": []
  },
  {
   "cell_type": "code",
   "execution_count": null,
   "metadata": {
    "scrolled": true
   },
   "outputs": [],
   "source": [
    "for i in yearly_publication_counts.index:\n",
    "    print(i,clean_year(i))"
   ]
  },
  {
   "cell_type": "code",
   "execution_count": null,
   "metadata": {},
   "outputs": [],
   "source": [
    "def clean_year(year):\n",
    "    \n",
    "    if year == 'nan':\n",
    "        return '0'\n",
    "    if year[0]!='1':\n",
    "        year=year[year.find('1'):]\n",
    "    if ' ' in year:\n",
    "        year=year[:year.find(' ')]\n",
    "    if '/' in year:\n",
    "        year=year[:year.find('/')]\n",
    "    if '?' in year:\n",
    "        year = year[:year.find('?')]\n",
    "    if ']' in year:\n",
    "        year = year[:year.find(']')]\n",
    "    if '.' in year:\n",
    "        year = year[:year.find('.')]\n",
    "\n",
    "    if year.isdigit():\n",
    "        year = int(year)\n",
    "    else:\n",
    "        year = 30\n",
    "\n",
    "    return year\n",
    "\n",
    "cleaned_books_df['Date of Publication'] = cleaned_books_df['Date of Publication'].astype(str)\n",
    "cleaned_books_df['Date of Publication'] = cleaned_books_df['Date of Publication'].apply(clean_year)\n",
    "cleaned_books_df['Date of Publication'] = cleaned_books_df['Date of Publication'].astype(int)\n",
    "cleaned_books_df.head()"
   ]
  },
  {
   "cell_type": "markdown",
   "metadata": {},
   "source": [
    "### Get line plot "
   ]
  },
  {
   "cell_type": "code",
   "execution_count": null,
   "metadata": {},
   "outputs": [],
   "source": [
    "# Scatter Plot Analysis: Year of Publication vs. Number of Publications\n",
    "\n",
    "# Grouping the data by 'Date of Publication' to count the number of publications each year\n",
    "testdata = cleaned_books_df[cleaned_books_df['Date of Publication']>1000]\n",
    "yearly_Publication_count = testdata.groupby('Date of Publication').size()\n",
    "\n",
    "# Sorting the data by year (index of the grouped data)\n",
    "sorted_years = yearly_Publication_count.sort_index()\n",
    "\n",
    "# Creating a scatter plot\n",
    "plt.figure(figsize=(10,6))\n",
    "plt.scatter(sorted_years.index,sorted_years,color='blue')\n",
    "\n",
    "\n",
    "plt.title('Year of Publication vs. Number of Publications',fontsize=18)\n",
    "plt.xlabel('Year of Publication',fontsize=17)\n",
    "plt.ylabel('Number of publications',fontsize=16)\n",
    "plt.grid(axis='y')\n",
    "\n",
    "plt.show()\n",
    "\n",
    "# A line graph to show the yearly trend in the number of publications."
   ]
  },
  {
   "cell_type": "code",
   "execution_count": null,
   "metadata": {},
   "outputs": [],
   "source": []
  },
  {
   "cell_type": "markdown",
   "metadata": {},
   "source": [
    "## Practice 2\n",
    "### Identify the top five publishers with their publicated books during 1800 - 1900. (line graph)\n"
   ]
  },
  {
   "cell_type": "code",
   "execution_count": 13,
   "metadata": {},
   "outputs": [
    {
     "data": {
      "text/plain": [
       "Publisher\n",
       "Macmillan & Co.      85\n",
       "London               69\n",
       "Privately printed    53\n",
       "Longmans & Co.       52\n",
       "Hurst & Blackett     51\n",
       "Name: count, dtype: int64"
      ]
     },
     "execution_count": 13,
     "metadata": {},
     "output_type": "execute_result"
    }
   ],
   "source": [
    "publish_list = cleaned_books_df['Publisher'].value_counts()[:5]\n",
    "publish_list"
   ]
  },
  {
   "cell_type": "code",
   "execution_count": 15,
   "metadata": {
    "scrolled": true
   },
   "outputs": [
    {
     "ename": "TypeError",
     "evalue": "'>=' not supported between instances of 'str' and 'int'",
     "output_type": "error",
     "traceback": [
      "\u001b[31m---------------------------------------------------------------------------\u001b[39m",
      "\u001b[31mTypeError\u001b[39m                                 Traceback (most recent call last)",
      "\u001b[36mCell\u001b[39m\u001b[36m \u001b[39m\u001b[32mIn[15]\u001b[39m\u001b[32m, line 2\u001b[39m\n\u001b[32m      1\u001b[39m dfA = cleaned_books_df[cleaned_books_df[\u001b[33m'\u001b[39m\u001b[33mPublisher\u001b[39m\u001b[33m'\u001b[39m] ==publish_list.index[\u001b[32m0\u001b[39m]]\n\u001b[32m----> \u001b[39m\u001b[32m2\u001b[39m filerdf = dfA[(\u001b[43mdfA\u001b[49m\u001b[43m[\u001b[49m\u001b[33;43m'\u001b[39;49m\u001b[33;43mDate of Publication\u001b[39;49m\u001b[33;43m'\u001b[39;49m\u001b[43m]\u001b[49m\u001b[43m>\u001b[49m\u001b[43m=\u001b[49m\u001b[32;43m1800\u001b[39;49m) & (dfA[\u001b[33m'\u001b[39m\u001b[33mDate of Publication\u001b[39m\u001b[33m'\u001b[39m]<=\u001b[32m1900\u001b[39m)]\n\u001b[32m      3\u001b[39m yearly_counts = filerdf.groupby(\u001b[33m'\u001b[39m\u001b[33mDate of Publication\u001b[39m\u001b[33m'\u001b[39m).size()\n\u001b[32m      5\u001b[39m yearly_counts.sort_index()\n",
      "\u001b[36mFile \u001b[39m\u001b[32m/opt/homebrew/lib/python3.13/site-packages/pandas/core/ops/common.py:76\u001b[39m, in \u001b[36m_unpack_zerodim_and_defer.<locals>.new_method\u001b[39m\u001b[34m(self, other)\u001b[39m\n\u001b[32m     72\u001b[39m             \u001b[38;5;28;01mreturn\u001b[39;00m \u001b[38;5;28mNotImplemented\u001b[39m\n\u001b[32m     74\u001b[39m other = item_from_zerodim(other)\n\u001b[32m---> \u001b[39m\u001b[32m76\u001b[39m \u001b[38;5;28;01mreturn\u001b[39;00m \u001b[43mmethod\u001b[49m\u001b[43m(\u001b[49m\u001b[38;5;28;43mself\u001b[39;49m\u001b[43m,\u001b[49m\u001b[43m \u001b[49m\u001b[43mother\u001b[49m\u001b[43m)\u001b[49m\n",
      "\u001b[36mFile \u001b[39m\u001b[32m/opt/homebrew/lib/python3.13/site-packages/pandas/core/arraylike.py:60\u001b[39m, in \u001b[36mOpsMixin.__ge__\u001b[39m\u001b[34m(self, other)\u001b[39m\n\u001b[32m     58\u001b[39m \u001b[38;5;129m@unpack_zerodim_and_defer\u001b[39m(\u001b[33m\"\u001b[39m\u001b[33m__ge__\u001b[39m\u001b[33m\"\u001b[39m)\n\u001b[32m     59\u001b[39m \u001b[38;5;28;01mdef\u001b[39;00m\u001b[38;5;250m \u001b[39m\u001b[34m__ge__\u001b[39m(\u001b[38;5;28mself\u001b[39m, other):\n\u001b[32m---> \u001b[39m\u001b[32m60\u001b[39m     \u001b[38;5;28;01mreturn\u001b[39;00m \u001b[38;5;28;43mself\u001b[39;49m\u001b[43m.\u001b[49m\u001b[43m_cmp_method\u001b[49m\u001b[43m(\u001b[49m\u001b[43mother\u001b[49m\u001b[43m,\u001b[49m\u001b[43m \u001b[49m\u001b[43moperator\u001b[49m\u001b[43m.\u001b[49m\u001b[43mge\u001b[49m\u001b[43m)\u001b[49m\n",
      "\u001b[36mFile \u001b[39m\u001b[32m/opt/homebrew/lib/python3.13/site-packages/pandas/core/series.py:6130\u001b[39m, in \u001b[36mSeries._cmp_method\u001b[39m\u001b[34m(self, other, op)\u001b[39m\n\u001b[32m   6127\u001b[39m lvalues = \u001b[38;5;28mself\u001b[39m._values\n\u001b[32m   6128\u001b[39m rvalues = extract_array(other, extract_numpy=\u001b[38;5;28;01mTrue\u001b[39;00m, extract_range=\u001b[38;5;28;01mTrue\u001b[39;00m)\n\u001b[32m-> \u001b[39m\u001b[32m6130\u001b[39m res_values = \u001b[43mops\u001b[49m\u001b[43m.\u001b[49m\u001b[43mcomparison_op\u001b[49m\u001b[43m(\u001b[49m\u001b[43mlvalues\u001b[49m\u001b[43m,\u001b[49m\u001b[43m \u001b[49m\u001b[43mrvalues\u001b[49m\u001b[43m,\u001b[49m\u001b[43m \u001b[49m\u001b[43mop\u001b[49m\u001b[43m)\u001b[49m\n\u001b[32m   6132\u001b[39m \u001b[38;5;28;01mreturn\u001b[39;00m \u001b[38;5;28mself\u001b[39m._construct_result(res_values, name=res_name)\n",
      "\u001b[36mFile \u001b[39m\u001b[32m/opt/homebrew/lib/python3.13/site-packages/pandas/core/ops/array_ops.py:344\u001b[39m, in \u001b[36mcomparison_op\u001b[39m\u001b[34m(left, right, op)\u001b[39m\n\u001b[32m    341\u001b[39m     \u001b[38;5;28;01mreturn\u001b[39;00m invalid_comparison(lvalues, rvalues, op)\n\u001b[32m    343\u001b[39m \u001b[38;5;28;01melif\u001b[39;00m lvalues.dtype == \u001b[38;5;28mobject\u001b[39m \u001b[38;5;129;01mor\u001b[39;00m \u001b[38;5;28misinstance\u001b[39m(rvalues, \u001b[38;5;28mstr\u001b[39m):\n\u001b[32m--> \u001b[39m\u001b[32m344\u001b[39m     res_values = \u001b[43mcomp_method_OBJECT_ARRAY\u001b[49m\u001b[43m(\u001b[49m\u001b[43mop\u001b[49m\u001b[43m,\u001b[49m\u001b[43m \u001b[49m\u001b[43mlvalues\u001b[49m\u001b[43m,\u001b[49m\u001b[43m \u001b[49m\u001b[43mrvalues\u001b[49m\u001b[43m)\u001b[49m\n\u001b[32m    346\u001b[39m \u001b[38;5;28;01melse\u001b[39;00m:\n\u001b[32m    347\u001b[39m     res_values = _na_arithmetic_op(lvalues, rvalues, op, is_cmp=\u001b[38;5;28;01mTrue\u001b[39;00m)\n",
      "\u001b[36mFile \u001b[39m\u001b[32m/opt/homebrew/lib/python3.13/site-packages/pandas/core/ops/array_ops.py:129\u001b[39m, in \u001b[36mcomp_method_OBJECT_ARRAY\u001b[39m\u001b[34m(op, x, y)\u001b[39m\n\u001b[32m    127\u001b[39m     result = libops.vec_compare(x.ravel(), y.ravel(), op)\n\u001b[32m    128\u001b[39m \u001b[38;5;28;01melse\u001b[39;00m:\n\u001b[32m--> \u001b[39m\u001b[32m129\u001b[39m     result = \u001b[43mlibops\u001b[49m\u001b[43m.\u001b[49m\u001b[43mscalar_compare\u001b[49m\u001b[43m(\u001b[49m\u001b[43mx\u001b[49m\u001b[43m.\u001b[49m\u001b[43mravel\u001b[49m\u001b[43m(\u001b[49m\u001b[43m)\u001b[49m\u001b[43m,\u001b[49m\u001b[43m \u001b[49m\u001b[43my\u001b[49m\u001b[43m,\u001b[49m\u001b[43m \u001b[49m\u001b[43mop\u001b[49m\u001b[43m)\u001b[49m\n\u001b[32m    130\u001b[39m \u001b[38;5;28;01mreturn\u001b[39;00m result.reshape(x.shape)\n",
      "\u001b[36mFile \u001b[39m\u001b[32mpandas/_libs/ops.pyx:107\u001b[39m, in \u001b[36mpandas._libs.ops.scalar_compare\u001b[39m\u001b[34m()\u001b[39m\n",
      "\u001b[31mTypeError\u001b[39m: '>=' not supported between instances of 'str' and 'int'"
     ]
    }
   ],
   "source": [
    "dfA = cleaned_books_df[cleaned_books_df['Publisher'] ==publish_list.index[0]]\n",
    "filerdf = dfA[(dfA['Date of Publication']>=1800) & (dfA['Date of Publication']<=1900)]\n",
    "yearly_counts = filerdf.groupby('Date of Publication').size()\n",
    "\n",
    "yearly_counts.sort_index()"
   ]
  },
  {
   "cell_type": "code",
   "execution_count": 12,
   "metadata": {
    "scrolled": true
   },
   "outputs": [
    {
     "ename": "TypeError",
     "evalue": "'>=' not supported between instances of 'str' and 'int'",
     "output_type": "error",
     "traceback": [
      "\u001b[31m---------------------------------------------------------------------------\u001b[39m",
      "\u001b[31mTypeError\u001b[39m                                 Traceback (most recent call last)",
      "\u001b[36mCell\u001b[39m\u001b[36m \u001b[39m\u001b[32mIn[12]\u001b[39m\u001b[32m, line 16\u001b[39m\n\u001b[32m     12\u001b[39m         dic_res[publisher] = sorted_years\n\u001b[32m     14\u001b[39m     \u001b[38;5;28;01mreturn\u001b[39;00m dic_res\n\u001b[32m---> \u001b[39m\u001b[32m16\u001b[39m \u001b[43mfilter_topX_publisher_in_1800_1900\u001b[49m\u001b[43m(\u001b[49m\u001b[32;43m5\u001b[39;49m\u001b[43m,\u001b[49m\u001b[43mcleaned_books_df\u001b[49m\u001b[43m)\u001b[49m\n",
      "\u001b[36mCell\u001b[39m\u001b[36m \u001b[39m\u001b[32mIn[12]\u001b[39m\u001b[32m, line 9\u001b[39m, in \u001b[36mfilter_topX_publisher_in_1800_1900\u001b[39m\u001b[34m(n, df)\u001b[39m\n\u001b[32m      7\u001b[39m \u001b[38;5;28;01mfor\u001b[39;00m publisher \u001b[38;5;129;01min\u001b[39;00m publish_list.index:\n\u001b[32m      8\u001b[39m     dfA = cleaned_books_df [cleaned_books_df [\u001b[33m'\u001b[39m\u001b[33mPublisher\u001b[39m\u001b[33m'\u001b[39m] ==publisher]\n\u001b[32m----> \u001b[39m\u001b[32m9\u001b[39m     filerdf = dfA[(\u001b[43mdfA\u001b[49m\u001b[43m[\u001b[49m\u001b[33;43m'\u001b[39;49m\u001b[33;43mDate of Publication\u001b[39;49m\u001b[33;43m'\u001b[39;49m\u001b[43m]\u001b[49m\u001b[43m>\u001b[49m\u001b[43m=\u001b[49m\u001b[32;43m1800\u001b[39;49m) & (dfA[\u001b[33m'\u001b[39m\u001b[33mDate of Publication\u001b[39m\u001b[33m'\u001b[39m]<=\u001b[32m1900\u001b[39m)]\n\u001b[32m     10\u001b[39m     yearly_counts = filerdf.groupby( \u001b[33m'\u001b[39m\u001b[33mDate of Publication\u001b[39m\u001b[33m'\u001b[39m).size()\n\u001b[32m     11\u001b[39m     sorted_years = yearly_counts.sort_index()\n",
      "\u001b[36mFile \u001b[39m\u001b[32m/opt/homebrew/lib/python3.13/site-packages/pandas/core/ops/common.py:76\u001b[39m, in \u001b[36m_unpack_zerodim_and_defer.<locals>.new_method\u001b[39m\u001b[34m(self, other)\u001b[39m\n\u001b[32m     72\u001b[39m             \u001b[38;5;28;01mreturn\u001b[39;00m \u001b[38;5;28mNotImplemented\u001b[39m\n\u001b[32m     74\u001b[39m other = item_from_zerodim(other)\n\u001b[32m---> \u001b[39m\u001b[32m76\u001b[39m \u001b[38;5;28;01mreturn\u001b[39;00m \u001b[43mmethod\u001b[49m\u001b[43m(\u001b[49m\u001b[38;5;28;43mself\u001b[39;49m\u001b[43m,\u001b[49m\u001b[43m \u001b[49m\u001b[43mother\u001b[49m\u001b[43m)\u001b[49m\n",
      "\u001b[36mFile \u001b[39m\u001b[32m/opt/homebrew/lib/python3.13/site-packages/pandas/core/arraylike.py:60\u001b[39m, in \u001b[36mOpsMixin.__ge__\u001b[39m\u001b[34m(self, other)\u001b[39m\n\u001b[32m     58\u001b[39m \u001b[38;5;129m@unpack_zerodim_and_defer\u001b[39m(\u001b[33m\"\u001b[39m\u001b[33m__ge__\u001b[39m\u001b[33m\"\u001b[39m)\n\u001b[32m     59\u001b[39m \u001b[38;5;28;01mdef\u001b[39;00m\u001b[38;5;250m \u001b[39m\u001b[34m__ge__\u001b[39m(\u001b[38;5;28mself\u001b[39m, other):\n\u001b[32m---> \u001b[39m\u001b[32m60\u001b[39m     \u001b[38;5;28;01mreturn\u001b[39;00m \u001b[38;5;28;43mself\u001b[39;49m\u001b[43m.\u001b[49m\u001b[43m_cmp_method\u001b[49m\u001b[43m(\u001b[49m\u001b[43mother\u001b[49m\u001b[43m,\u001b[49m\u001b[43m \u001b[49m\u001b[43moperator\u001b[49m\u001b[43m.\u001b[49m\u001b[43mge\u001b[49m\u001b[43m)\u001b[49m\n",
      "\u001b[36mFile \u001b[39m\u001b[32m/opt/homebrew/lib/python3.13/site-packages/pandas/core/series.py:6130\u001b[39m, in \u001b[36mSeries._cmp_method\u001b[39m\u001b[34m(self, other, op)\u001b[39m\n\u001b[32m   6127\u001b[39m lvalues = \u001b[38;5;28mself\u001b[39m._values\n\u001b[32m   6128\u001b[39m rvalues = extract_array(other, extract_numpy=\u001b[38;5;28;01mTrue\u001b[39;00m, extract_range=\u001b[38;5;28;01mTrue\u001b[39;00m)\n\u001b[32m-> \u001b[39m\u001b[32m6130\u001b[39m res_values = \u001b[43mops\u001b[49m\u001b[43m.\u001b[49m\u001b[43mcomparison_op\u001b[49m\u001b[43m(\u001b[49m\u001b[43mlvalues\u001b[49m\u001b[43m,\u001b[49m\u001b[43m \u001b[49m\u001b[43mrvalues\u001b[49m\u001b[43m,\u001b[49m\u001b[43m \u001b[49m\u001b[43mop\u001b[49m\u001b[43m)\u001b[49m\n\u001b[32m   6132\u001b[39m \u001b[38;5;28;01mreturn\u001b[39;00m \u001b[38;5;28mself\u001b[39m._construct_result(res_values, name=res_name)\n",
      "\u001b[36mFile \u001b[39m\u001b[32m/opt/homebrew/lib/python3.13/site-packages/pandas/core/ops/array_ops.py:344\u001b[39m, in \u001b[36mcomparison_op\u001b[39m\u001b[34m(left, right, op)\u001b[39m\n\u001b[32m    341\u001b[39m     \u001b[38;5;28;01mreturn\u001b[39;00m invalid_comparison(lvalues, rvalues, op)\n\u001b[32m    343\u001b[39m \u001b[38;5;28;01melif\u001b[39;00m lvalues.dtype == \u001b[38;5;28mobject\u001b[39m \u001b[38;5;129;01mor\u001b[39;00m \u001b[38;5;28misinstance\u001b[39m(rvalues, \u001b[38;5;28mstr\u001b[39m):\n\u001b[32m--> \u001b[39m\u001b[32m344\u001b[39m     res_values = \u001b[43mcomp_method_OBJECT_ARRAY\u001b[49m\u001b[43m(\u001b[49m\u001b[43mop\u001b[49m\u001b[43m,\u001b[49m\u001b[43m \u001b[49m\u001b[43mlvalues\u001b[49m\u001b[43m,\u001b[49m\u001b[43m \u001b[49m\u001b[43mrvalues\u001b[49m\u001b[43m)\u001b[49m\n\u001b[32m    346\u001b[39m \u001b[38;5;28;01melse\u001b[39;00m:\n\u001b[32m    347\u001b[39m     res_values = _na_arithmetic_op(lvalues, rvalues, op, is_cmp=\u001b[38;5;28;01mTrue\u001b[39;00m)\n",
      "\u001b[36mFile \u001b[39m\u001b[32m/opt/homebrew/lib/python3.13/site-packages/pandas/core/ops/array_ops.py:129\u001b[39m, in \u001b[36mcomp_method_OBJECT_ARRAY\u001b[39m\u001b[34m(op, x, y)\u001b[39m\n\u001b[32m    127\u001b[39m     result = libops.vec_compare(x.ravel(), y.ravel(), op)\n\u001b[32m    128\u001b[39m \u001b[38;5;28;01melse\u001b[39;00m:\n\u001b[32m--> \u001b[39m\u001b[32m129\u001b[39m     result = \u001b[43mlibops\u001b[49m\u001b[43m.\u001b[49m\u001b[43mscalar_compare\u001b[49m\u001b[43m(\u001b[49m\u001b[43mx\u001b[49m\u001b[43m.\u001b[49m\u001b[43mravel\u001b[49m\u001b[43m(\u001b[49m\u001b[43m)\u001b[49m\u001b[43m,\u001b[49m\u001b[43m \u001b[49m\u001b[43my\u001b[49m\u001b[43m,\u001b[49m\u001b[43m \u001b[49m\u001b[43mop\u001b[49m\u001b[43m)\u001b[49m\n\u001b[32m    130\u001b[39m \u001b[38;5;28;01mreturn\u001b[39;00m result.reshape(x.shape)\n",
      "\u001b[36mFile \u001b[39m\u001b[32mpandas/_libs/ops.pyx:107\u001b[39m, in \u001b[36mpandas._libs.ops.scalar_compare\u001b[39m\u001b[34m()\u001b[39m\n",
      "\u001b[31mTypeError\u001b[39m: '>=' not supported between instances of 'str' and 'int'"
     ]
    }
   ],
   "source": [
    "def filter_topX_publisher_in_1800_1900(n,df):\n",
    "    #n: Number of target searches\n",
    "    #df: input dataframe\n",
    "    #Your code:\n",
    "    dic_res = {}\n",
    "    publish_list = cleaned_books_df ['Publisher']. value_counts () [:n]\n",
    "    for publisher in publish_list.index:\n",
    "        dfA = cleaned_books_df [cleaned_books_df ['Publisher'] ==publisher]\n",
    "        filerdf = dfA[(dfA['Date of Publication']>=1800) & (dfA['Date of Publication']<=1900)]\n",
    "        yearly_counts = filerdf.groupby( 'Date of Publication').size()\n",
    "        sorted_years = yearly_counts.sort_index()\n",
    "        dic_res[publisher] = sorted_years\n",
    "\n",
    "    return dic_res\n",
    "\n",
    "filter_topX_publisher_in_1800_1900(5,cleaned_books_df)"
   ]
  },
  {
   "cell_type": "code",
   "execution_count": null,
   "metadata": {},
   "outputs": [],
   "source": [
    "# Extracting publishers, publish years, and publish items\n",
    "publisher_data_dic = filter_topX_publisher_in_1800_1900(5,cleaned_books_df)\n",
    "\n",
    "# Creating a line graph\n",
    "plt.figure(figsize=(10, 6))\n",
    "\n",
    "for pub,years_data in publisher_data_dic.items():\n",
    "#     print(pub,years_data)\n",
    "    plt.plot(years_data.index, years_data, '-', label=pub)\n",
    "\n",
    "# plt.plot(yearly_publication_counts.index, yearly_publication_counts, color='blue')\n",
    "plt.title('Year of Publication vs. Number of Publications')\n",
    "plt.xlabel('Year of Publication')\n",
    "plt.ylabel('Number of Publications')\n",
    "# plt.xticks([1500,1550,1600,1650,1700,1750,1800,1850,1900],\n",
    "#            ['1890','1891','1892','1893','1894','1895','1896','1897','1898',],fontsize = 15)\n",
    "plt.legend()\n",
    "plt.grid(axis='y')\n",
    "plt.show()"
   ]
  },
  {
   "cell_type": "markdown",
   "metadata": {},
   "source": [
    "### Compute the cumulative sum of Publications. (Please watch the tutorial)"
   ]
  },
  {
   "cell_type": "code",
   "execution_count": null,
   "metadata": {},
   "outputs": [],
   "source": []
  }
 ],
 "metadata": {
  "kernelspec": {
   "display_name": "Python 3",
   "language": "python",
   "name": "python3"
  },
  "language_info": {
   "codemirror_mode": {
    "name": "ipython",
    "version": 3
   },
   "file_extension": ".py",
   "mimetype": "text/x-python",
   "name": "python",
   "nbconvert_exporter": "python",
   "pygments_lexer": "ipython3",
   "version": "3.13.7"
  }
 },
 "nbformat": 4,
 "nbformat_minor": 4
}
