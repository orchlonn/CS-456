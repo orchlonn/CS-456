{
 "cells": [
  {
   "cell_type": "markdown",
   "metadata": {
    "slideshow": {
     "slide_type": "slide"
    }
   },
   "source": [
    "# Visualizing data in Python: an overview\n",
    "Visualization is an important part of every scientist's skill set. The primary goal of scientific visualization is, of course, to make publication figures so beautiful that they cause reviewers to completely overlook all of the warts and blemishes that pervade the rest of the manuscript.\n",
    "\n",
    "Less cynically, we could say that the goal of visualization is to facilitate better understanding of one's data. The adage that a picture is worth a thousand words has some truth to it. A good visualization can enlighten readers, suggest novel hypotheses, identify problems with the data or one's mental model of the data, and generally make it easier to understand what's going on in the system under investigation.\n"
   ]
  },
  {
   "cell_type": "markdown",
   "metadata": {
    "slideshow": {
     "slide_type": "slide"
    }
   },
   "source": [
    "## Plotting in matplotlib\n",
    "The easiest way to get a sense of how plotting works in Python is to dive right in. We'll start out by working with the `matplotlib` package, which, at least for the time being, remains the workhorse plotting package in Python. As we'll see later, many other Python plotting tools are built on top of matplotlib, so even in cases where you're not *explicitly* interacting with your plots through matplotlib, there's a good chance you're doing so implicitly.\n",
    "\n",
    "Although matplotlib contains a large number of modules, in most cases, users end up working primarily through the `pyplot` module, which provides a high-level interface to a large variety of plotting tools in matplotlib. We can import pyplot just like any other Python model (i.e., with `import`). By convention, it's abbreviated to `plt`:"
   ]
  },
  {
   "cell_type": "code",
   "execution_count": null,
   "metadata": {},
   "outputs": [],
   "source": [
    "import matplotlib.pyplot as plt"
   ]
  },
  {
   "cell_type": "markdown",
   "metadata": {},
   "source": [
    "We also probably want to make sure all of the plots we generate are displayed in-line in the notebook--otherwise each matplotlib figure may start popping up in a new OS window."
   ]
  },
  {
   "cell_type": "code",
   "execution_count": null,
   "metadata": {},
   "outputs": [],
   "source": [
    "%matplotlib inline"
   ]
  },
  {
   "cell_type": "markdown",
   "metadata": {},
   "source": [
    "Out of the box, pyplot provides a high-level interface for a wide range of common plots. By \"high-level\", I just mean that we can specify an entire plot using a very compact set of instructions--often just a single function call. We'll take a look at how this works in just a moment; but first, we need to generate some data to plot. Without data, visualization is a fairly difficult proposition."
   ]
  },
  {
   "cell_type": "code",
   "execution_count": null,
   "metadata": {},
   "outputs": [],
   "source": [
    "y = [1, 2, 3, 5, 8, 13, 21]"
   ]
  },
  {
   "cell_type": "markdown",
   "metadata": {},
   "source": [
    "There, that was easy. Our data consists of a single list containing 7 integer values.\n",
    "\n",
    "Now we can start plotting. Let's start with something very simple. We'll plot our data points as a single line. "
   ]
  },
  {
   "cell_type": "code",
   "execution_count": null,
   "metadata": {},
   "outputs": [],
   "source": [
    "plt.plot(y);"
   ]
  },
  {
   "cell_type": "markdown",
   "metadata": {},
   "source": [
    "We generated the above plot using just about the simplest code one can imagine: we just called the `plot()` function in matplotlib (technically, in matplotlib's pyplot module, but I'll use the terms interchangeably), and passed it our list of values as the only parameter. We didn't explicitly tell matplotlib *how* to plot the values; we just gave it the list and hoped for the best. As it turns out, if you call `plot()` with a single list of values, matplotlib assumes you want a line plot, and generates a simple plot that connects each consecutive pair of values with a line segment.\n",
    "\n",
    "Notice that matplotlib interpreted the values we passed in as the y-axis values. If we don't explicitly specify x-axis values, matplotlib assumes that the y-values map serially onto x-values in a one-to-one fashion, such that the first y value corresponds to x=0, the second to x=1, and so on. Of course, often, the data we want to plot isn't sequential like this. What if we had pairs of x-y values? Let's try it out..."
   ]
  },
  {
   "cell_type": "code",
   "execution_count": null,
   "metadata": {},
   "outputs": [],
   "source": [
    "x = [1, 6, 3, 9, 4, 16, 2]\n",
    "# y's copied from above for easier reading\n",
    "y = [1, 2, 3, 5, 8, 13, 21]"
   ]
  },
  {
   "cell_type": "code",
   "execution_count": null,
   "metadata": {},
   "outputs": [],
   "source": [
    "plt.bar(x,y)\n",
    "plt.show()"
   ]
  },
  {
   "cell_type": "markdown",
   "metadata": {},
   "source": [
    "Now we have a fairly random-looking set of 2D points. The first point is at coordinates [1, 1]; the second is at [6, 2]; the third at [3, 3]; and so on. What happens if we pass *both* lists of values to `plot()`?"
   ]
  },
  {
   "cell_type": "code",
   "execution_count": null,
   "metadata": {},
   "outputs": [],
   "source": [
    "plt.plot(x, y,'-o')"
   ]
  },
  {
   "cell_type": "markdown",
   "metadata": {},
   "source": [
    "When we explicitly pass in two sets of values, matplotlib interprets the first list as the x coordinates and the second as the y coordinates. It still assumes we want a line plot, so it's still connecting each pair of points with a line segment. This may not be exactly what we expect: in most cases where want to plot non-sequential pairs of values, we probably intend to display the values as a scatter plot rather than a line plot. That is, we don't assume that there's any continuity between data points that justifies connecting them with lines.\n",
    "\n",
    "How do we tell matplotlib to give us a scatter plot rather than a line plot? We have two basic options. First, we could explicitly call pyplot's `scatter()` function:"
   ]
  },
  {
   "cell_type": "code",
   "execution_count": null,
   "metadata": {},
   "outputs": [],
   "source": [
    "plt.scatter(x, y);"
   ]
  },
  {
   "cell_type": "markdown",
   "metadata": {},
   "source": [
    "By calling `scatter()` rather than `plot()`, we're explicitly telling matplotlib to display our data points as disconnected points rather than using the default line plot found in `plot()`.\n",
    "\n",
    "Alternatively, we could have kept using `plot()`, but taken advantage of the many arguments `plot()` supports by explicitly indicating how we want our data points styled:"
   ]
  },
  {
   "cell_type": "code",
   "execution_count": null,
   "metadata": {},
   "outputs": [],
   "source": [
    "plt.plot(x, y, '--o');"
   ]
  },
  {
   "cell_type": "markdown",
   "metadata": {},
   "source": [
    "Notice the new positional argument `'o'` we pass to `plot()`. If we consult [the documentation](https://matplotlib.org/api/_as_gen/matplotlib.pyplot.plot.html) for `plot()`, it turns out that the third optional parameter to `plot()`--named `fmt` (for format)--specifies basic formatting options. `fmt` is actually quite powerful, in that it allows us to control marker and/or line color and style in one shot. For example, let's say we want to show both dashed lines between segments and X's for point markers. And let's say we want to replace the default blue color with red. Here's how we can do that:"
   ]
  },
  {
   "cell_type": "code",
   "execution_count": null,
   "metadata": {},
   "outputs": [],
   "source": [
    "plt.plot(x, y, 'rx--');"
   ]
  },
  {
   "cell_type": "markdown",
   "metadata": {},
   "source": [
    "You might be thinking that, while the `fmt` argument is pretty powerful, it's also quite terse, and seems pretty hard to learn and remember. Fortunately, you don't *have* to control style with `fmt`; it just provides a convenient shorthand notation. If you prefer to be explicit, you can independently control each of the options that `fmt` allows you to manipulate:"
   ]
  },
  {
   "cell_type": "code",
   "execution_count": null,
   "metadata": {},
   "outputs": [],
   "source": [
    "plt.plot(x, y, color='red', marker='x', linestyle='dashed')"
   ]
  },
  {
   "cell_type": "code",
   "execution_count": null,
   "metadata": {},
   "outputs": [],
   "source": [
    "#figure size\n",
    "plt.figure(figsize=(8,6))\n",
    "#plot figure\n",
    "plt.plot(x, y, color='red', marker='x', linestyle='dashed')\n",
    "\n",
    "#plot title\n",
    "plt.title('test title', fontsize=30)\n",
    "\n",
    "#set x label\n",
    "plt.xlabel('index', fontsize=21)\n",
    "\n",
    "#set y label\n",
    "plt.ylabel('value', fontsize=21)\n",
    "\n",
    "#set y yticks\n",
    "plt.yticks(fontsize=16)\n",
    "\n",
    "#set x yticks\n",
    "plt.xticks(fontsize=16)\n",
    "\n",
    "plt.grid(True)\n",
    "\n",
    "plt.show()"
   ]
  },
  {
   "cell_type": "markdown",
   "metadata": {},
   "source": [
    "The above command produces exactly the same result as the previous one, but is much more explicit.\n",
    "\n",
    "At this point you might be wondering how many other parameters the `plot()` function accepts. The answer is \"a lot\". Here's another example illustrating just some of the parameters at your disposal. We'll also take the opportunity to replace our collection of random data points with something a little more orderly."
   ]
  },
  {
   "cell_type": "code",
   "execution_count": null,
   "metadata": {},
   "outputs": [],
   "source": [
    "import numpy as np\n",
    "\n",
    "# y = x^2 in the range of -10 to 10\n",
    "x = np.linspace(-10, 10, 100)\n",
    "y = x**2\n",
    "\n",
    "plt.plot(x, y, color='#c26603', marker='*', markersize=16, markeredgecolor='black',\n",
    "         markerfacecolor='#3333fc', linewidth=3, linestyle=':', alpha=0.8, markevery=10);"
   ]
  },
  {
   "cell_type": "markdown",
   "metadata": {},
   "source": [
    "\n",
    "### Bar graph in matplotlib\n",
    "Bar charts, also called bar graphs, or bar plots are constructed with Matplotlib's pyplot library. To construct a bar chart with Matplotlib, first import Matplotlib. \n",
    "To build the bar chart, we create a list of bar heights. The bar heights are the tensile strengths of the three metals. We also need a list of bar positions. Specifying bar positions seems strange, but the plt.bar() method needs to know where along the x-axis to put the bars. The plt.bar() method requires two positional arguments:\n",
    "\n",
    "plt.bar([list of bar positions], [list of bar heights])"
   ]
  },
  {
   "cell_type": "code",
   "execution_count": null,
   "metadata": {},
   "outputs": [],
   "source": [
    "# define bar heights and bar positions\n",
    "heights = [125, 276, 345]\n",
    "x_pos = [1, 2, 3]"
   ]
  },
  {
   "cell_type": "markdown",
   "metadata": {},
   "source": [
    "Next, build the plot by passing in the list of bar position x_pos and list of bar heights heights as positional arguments to the plt.bar() function. These positional arguments must be specified in the proper order."
   ]
  },
  {
   "cell_type": "code",
   "execution_count": null,
   "metadata": {},
   "outputs": [],
   "source": [
    "# Build the plot\n",
    "plt.bar(x_pos,heights)\n",
    "\n",
    "plt.show()"
   ]
  },
  {
   "cell_type": "code",
   "execution_count": null,
   "metadata": {},
   "outputs": [],
   "source": [
    "np.array(x_pos)+0.2, np.array(heights)+50"
   ]
  },
  {
   "cell_type": "code",
   "execution_count": null,
   "metadata": {},
   "outputs": [],
   "source": [
    "import numpy as np\n",
    "plt.bar(x_pos,heights,width=0.2,color='blue',align='center',label='original')\n",
    "plt.bar(np.array(x_pos)+0.2, np.array(heights)+50,width=0.2,color='red',align='center', label='Shifting')\n",
    "plt.legend()\n",
    "plt.grid(True)\n",
    "plt.show()"
   ]
  },
  {
   "cell_type": "markdown",
   "metadata": {},
   "source": [
    "### Bar in pandas\n",
    "1. Providing multiple columns in y parameter.\n",
    "\n",
    "The trick here is to pass all the data that has to be plotted together as a value to ‘y’ parameter of plot function."
   ]
  },
  {
   "cell_type": "code",
   "execution_count": null,
   "metadata": {},
   "outputs": [],
   "source": [
    "import pandas as pd\n",
    "# creating dataframe \n",
    "df = pd.DataFrame({ \n",
    "    'Name': ['John', 'Sammy', 'Joe'], \n",
    "    'Age': [45, 38, 90], \n",
    "    'Height(in cm)': [150, 180, 160] \n",
    "}) \n",
    "  \n",
    "df"
   ]
  },
  {
   "cell_type": "code",
   "execution_count": null,
   "metadata": {},
   "outputs": [],
   "source": [
    "# plotting graph \n",
    "df.plot(x=\"Name\", y=[\"Age\", \"Height(in cm)\"], kind=\"bar\") "
   ]
  },
  {
   "cell_type": "markdown",
   "metadata": {},
   "source": [
    "2. By plotting on the same axis\n",
    "\n",
    "Plotting all separate graph on the same axes, differentiated by color can be one alternative. Here again plot() function is employed."
   ]
  },
  {
   "cell_type": "code",
   "execution_count": null,
   "metadata": {},
   "outputs": [],
   "source": [
    "# creating dataframe \n",
    "df = pd.DataFrame({ \n",
    "    'Name': ['John', 'Sammy', 'Joe'], \n",
    "    'Age': [45, 38, 90], \n",
    "    'Height(in cm)': [150, 180, 160] \n",
    "}) \n",
    "  \n",
    "# plotting Height \n",
    "ax = df.plot(x=\"Name\", y=\"Height(in cm)\", kind=\"bar\") \n",
    "# plotting age on the same axis \n",
    "df.plot(x=\"Name\", y=\"Age\", kind=\"bar\",ax=ax, color=\"red\") \n",
    "\n"
   ]
  },
  {
   "cell_type": "markdown",
   "metadata": {},
   "source": [
    "\n",
    "\n",
    "### High-level plots in matplotlib\n",
    "Matplotlib is a very rich package. One of its notable features is that it provides plotting interfaces at both high and low levels. At the high level, matplotlib's pyplot module includes [a large number of functions](https://matplotlib.org/api/pyplot_summary.html) that can construct common types of plots in a single call. We've already seen the `plot()` and `scatter()` functions, which by default produce line plots and scatter plots, respectively. But matplotlib also has things like `bar()`, `contour()`, `hist()`, and `hlines()`, which respectively produce bar plots, contour plots, histograms, and horizontal lines. It also has support for less common plots--some of which are widely used in specific domains of analysis--like `barbs()`, `hexbin()`, `magnitude_spectrum()`, and so on. For example:"
   ]
  },
  {
   "cell_type": "code",
   "execution_count": null,
   "metadata": {},
   "outputs": [],
   "source": [
    "# Set the figure to a fixed size (6 x 6 inches)\n",
    "plt.figure(figsize=(6, 6))\n",
    "\n",
    "# Yes, it's a pie chart.\n",
    "plt.pie([4, 1, 6, 9], labels=[\"Cherry Pie\", \"Apple Pie\", \"Blueberry Pie\", \"Rhubarb Pie\"],\n",
    "        colors=[\"red\", \"green\", \"blue\", \"orange\"],startangle=45, textprops={'fontsize': 20});"
   ]
  },
  {
   "cell_type": "code",
   "execution_count": null,
   "metadata": {},
   "outputs": [],
   "source": [
    "\n",
    "plt.figure(figsize=(6, 6))\n",
    "\n",
    "plt.pie([4, 1, 6, 9], explode=[0, 0.2, 0, 0], labels=[\"Cherry Pie\", \"Apple Pie\", \"Blueberry Pie\", \"Rhubarb Pie\"],\n",
    "        colors=[\"red\", \"green\", \"blue\", \"orange\"], startangle=45, textprops={'fontsize': 20});"
   ]
  },
  {
   "cell_type": "markdown",
   "metadata": {},
   "source": [
    "And just like that, in a single line of code, we have an elegant-looking pie chart. I mean, sure, it's still a pie chart. But as pie charts go, it's quite lovely."
   ]
  },
  {
   "cell_type": "markdown",
   "metadata": {},
   "source": [
    "## Composing multi-plot figures\n",
    "So far we've only dealt with figures that have a single plot. But it's very common to want to construct more complex figures made up of multiple panels--often in irregular arrangements (e.g., a single left column, and a right column broken up into 3 separate cells). Matplotlib provides a variety of tools for working with multi-plot layouts. Here we'll illustrate a couple of the more accessible ones. In general, we can think of a `Figure` in matplotlib as a container for one or more `Axes` objects, where the position of the `Axes` in relation to the `Figure` is specified when the former is attached to the latter.\n",
    "\n",
    "Let's first consider the case where we're working with a regular layout--meaning, we want to divide our figure into a fixed number of rows and/or columns. Say we want to generate the same basic plot for multiple discrete groups or bins of data. The easiest way to deal with this kind of situation in matplotlib is using the `subplots()` function. We'll take a look at `subplots()` in a moment; but before we do that, let's start looking at some real data, instead of working with random numbers. We'll use the `load_dataset` utility in a plotting library called `seaborn` to import the famous \"iris\" dataset:"
   ]
  },
  {
   "cell_type": "code",
   "execution_count": null,
   "metadata": {},
   "outputs": [],
   "source": [
    "# We're not going to talk about seaborn just yet;\n",
    "# we're just using its data loading utility to retrieve\n",
    "# the iris dataset.\n",
    "import seaborn as sns\n",
    "iris = pd.read_csv('IRIS.csv')"
   ]
  },
  {
   "cell_type": "markdown",
   "metadata": {},
   "source": [
    "Here's what the Iris dataset looks like:"
   ]
  },
  {
   "cell_type": "code",
   "execution_count": null,
   "metadata": {},
   "outputs": [],
   "source": [
    "iris.head(5)"
   ]
  },
  {
   "cell_type": "markdown",
   "metadata": {},
   "source": [
    "Now let's look at how we can go about composing a figure made up of many different subplots in matplotlib. We'll capitalize on the fact that the Iris dataset contains observations for 4 different attributes measured in 3 different Iris species to generate a 4 x 3 plot, where each cell shows a histogram of observations."
   ]
  },
  {
   "cell_type": "code",
   "execution_count": null,
   "metadata": {},
   "outputs": [],
   "source": [
    "# Set up the figure and axes--a 4 x 3 grid.\n",
    "# We share both the x and y axes so it's easy to compare values.\n",
    "fig, axes = plt.subplots(4, 3, figsize=(6, 6))\n",
    "\n",
    "\n",
    "# We'll plot each species of iris in a different column\n",
    "species = ['Iris-setosa', 'Iris-versicolor', 'Iris-virginica']\n",
    "\n",
    "# ..and a histogram of each attribute in a separate row\n",
    "attrs = ['sepal_length', 'sepal_width', 'petal_length', 'petal_width']\n",
    "\n",
    "for i in range(len(species)):\n",
    "    sp = species[i]\n",
    "    sp_data = iris.query('species == @sp')\n",
    "    # Show column names\n",
    "    axes[0, i].set_title(sp, fontsize=\"16\")\n",
    "    for j in range(len(attrs)):\n",
    "        attr = attrs[j]\n",
    "        values = sp_data[attr]\n",
    "        # plot separately on each Axes\n",
    "        axes[j, i].hist(values)\n",
    "        \n",
    "        # Only plot y-axis label for first column\n",
    "        if i == 0:\n",
    "            axes[j, i].set_ylabel(attr, fontsize=12)\n",
    "\n",
    "# A fairly magical layout manager that tends to clean up\n",
    "# figures well and prevent overlap between elements.\n",
    "plt.tight_layout()"
   ]
  },
  {
   "cell_type": "markdown",
   "metadata": {},
   "source": [
    "Notice that, in the above example, most of the code is concerned with manipulating the data and tweaking the plot aesthetics. The code to set up the multi-panel layout is relatively trivial: it takes one line to set up an array of `Axes` objects (using the `subplots()` function, which we politely ask for `4` rows and `3` columns), and after that, we simply loop over elements of the `axes` list and call our plotting functions directly on each `Axes` object."
   ]
  },
  {
   "cell_type": "markdown",
   "metadata": {},
   "source": [
    "## Beyond base matplotlib\n",
    "Matplotlib is a very powerful library, and remains the dominant visualization package in Python. Its strengths include near-limitless customizability and control, a comprehensive object-oriented API, close integration with the numpy library for numerical computing, and extremely active developer and user communities.\n",
    "\n",
    "That said, matplotlib also has some significant weaknesses: its learning curve is steep; the object-oriented API is often unpredictable, inconsistent, or redundant; the default style is arguably somewhat ugly; and the documentation remains a bit confusing (though it's improved considerably in recent years). Perhaps most importantly, some seemingly simple plot adjustments can require a surprisingly large amount of code, so that in practice, generating relatively common types of plots in matplotlib is often somewhat inefficient.\n",
    "\n",
    "Fortunately, matplotlib's modular, object-oriented API has enabled many developers to build higher-level visualization packages that sit directly on top of matplotlib, but abstract away many of matplotlib's annoying details. Let's briefly review a number of Python plotting libraries that rely internally on matplotlib, but often present users with a much more pleasant experience."
   ]
  },
  {
   "cell_type": "markdown",
   "metadata": {},
   "source": [
    "### pandas\n",
    "Pandas is the de facto package for data manipulation in Python. Recent versions of pandas have introduced a fairly broad set of plotting tools that make it easy to generate a wide range of matplotlib plots from within pandas itself--typically by calling plotting methods on pandas `DataFrame` objects. In fact, pandas' plotting functionality is a bit reminiscent of matplotlib's pyplot module in that much of the plotting functionality can be accessed through a single `.plot()` method implemented in the `DataFrame` class.\n",
    "\n",
    "Let's take advantage of the Iris dataset we've already loaded--which, conveniently, is already represented as a pandas `DataFrame`. What happens if we call `.plot()` on our `iris` object?"
   ]
  },
  {
   "cell_type": "code",
   "execution_count": null,
   "metadata": {},
   "outputs": [],
   "source": [
    "# KDE plot of all iris attributes, collapsing over species\n",
    "iris.plot();"
   ]
  },
  {
   "cell_type": "markdown",
   "metadata": {},
   "source": [
    "Much like pyplot, if we don't give the `plot()` method any further arguments, it assumes that we want to generate line plots. Notice that because our dataset contains 4 numerical columns (`'sepal_length'`, `'sepal_width'`, etc.), `plot()` automatically adds a new line for each column.\n",
    "\n",
    "In this case, because each row of the dataset is a different observation (i.e., a single Iris flower), a line plot is not a meaningful way to represent the data. A more sensible thing to do might be to plot a smoothed histogram of each variable. We can take advantage of the `kind` argument, which allows us to construct a range of common plots:"
   ]
  },
  {
   "cell_type": "code",
   "execution_count": null,
   "metadata": {},
   "outputs": [],
   "source": [
    "iris.plot(kind='kde'); #‘kde’ : Kernel Density Estimation plot"
   ]
  },
  {
   "cell_type": "markdown",
   "metadata": {},
   "source": [
    "This plot is still not terribly compelling. For one thing, we're implicitly collapsing over three different species of Iris that may have largely separable distributions. For another, it probably doesn't make sense to plot all four attributes on the same scale, seeing as they measure qualitatively different things (even if they're all nominally measured in centimeters).\n",
    "\n",
    "To address this, we can take advantage of some of pandas other plotting tools. For example, in addition to the convenient `plot()` method, every pandas `DataFrame` exposes a number of other plotting methods that offer more flexibility. In this case, we'll use the `boxplot()` method, which wraps pyplot's own function of the same name (enabling us to pass any arguments that the pyplot version recognizes)."
   ]
  },
  {
   "cell_type": "code",
   "execution_count": null,
   "metadata": {},
   "outputs": [],
   "source": [
    "# Separate boxplot of iris attributes for each species\n",
    "iris.boxplot(by='species', figsize=(16, 4), layout=(1, 4));"
   ]
  },
  {
   "cell_type": "markdown",
   "metadata": {},
   "source": [
    "The resulting figure is clean enough, and lets us construct useful data displays very quickly. It's probably not the most aesthetically appealing plot we've ever seen, but remember: plotting functionality in pandas is built on top of matplotlib. This means that most pandas plots will return references to matplotlib objects when called, enabling us to use matplotlib to tweak the figure to our heart's content once we've generated the basic layout. For example, we can clean up and beautify our boxplot like so:"
   ]
  },
  {
   "cell_type": "markdown",
   "metadata": {},
   "source": [
    "### Seaborn\n",
    "The plotting tools in pandas are very useful for rapid data exploration. But as we saw above, the plotting functionality in pandas is mostly focused on creating a tight, easy-to-use coupling between pandas data structures like the `DataFrame` and common pyplot plots. If we want to create more complex plots, or mess with the aesthetics of our plots, we usually still end up doing a bunch of work in base matplotlib.\n",
    "\n",
    "Fortunately, there's another Python package called `seaborn` that also leverages matplotlib and pandas structures, but provides an even higher-level plotting interface, and produces plots that usually look beautiful with almost no tweaking required. Seaborn also has exceptional [documentation](https://seaborn.pydata.org/index.html), including an excellent set of [tutorials](https://seaborn.pydata.org/tutorial.html).\n",
    "\n",
    "Let's try to generate something very similar to the boxplot we made above, but using seaborn rather than pandas. Our first, naive attempt, might be to simply pass the `iris` dataset to seaborn's `boxplot()` function:"
   ]
  },
  {
   "cell_type": "code",
   "execution_count": null,
   "metadata": {},
   "outputs": [],
   "source": [
    "# Set to one of seaborn's built-in plotting styles\n",
    "sns.set_style('darkgrid')\n",
    "\n",
    "# Plot a boxplot for the iris dataset with all default parameters \n",
    "sns.boxplot(data=iris)"
   ]
  },
  {
   "cell_type": "markdown",
   "metadata": {},
   "source": [
    "This plot certainly looks nicer than what pyplot or pandas give us out of the box, and seaborn's `boxplot` it's smart enough to figure out that we probably want to plot each variable in the `DataFrame` separately. But we still have the same problem we had earlier, in that we're collapsing over species that probably look quite different.\n",
    "\n",
    "How would we go about splitting the plot into 4 subplots, like we did before? We have several options. One is to use matplotlib to set up the figure ourselves, and then call seaborn separately within each `Axes`:"
   ]
  },
  {
   "cell_type": "code",
   "execution_count": null,
   "metadata": {},
   "outputs": [],
   "source": [
    "fig, axes = plt.subplots(1, 4, figsize=(16, 4), sharey=False)\n",
    "\n",
    "# Explicitly list the variables to map onto subplots\n",
    "variables = ['sepal_length', 'sepal_width', 'petal_length', 'petal_width']\n",
    "\n",
    "# For each of the variables, use a different subplot\n",
    "for i, var in enumerate(variables):\n",
    "    species_data = iris[[var, 'species']]\n",
    "    sns.boxplot(x='species', y=var, data=species_data, ax=axes[i], palette='Set2',\n",
    "                notch=True, bootstrap=10000)"
   ]
  },
  {
   "cell_type": "code",
   "execution_count": null,
   "metadata": {},
   "outputs": [],
   "source": []
  }
 ],
 "metadata": {
  "kernelspec": {
   "display_name": "Python 3 (ipykernel)",
   "language": "python",
   "name": "python3"
  },
  "language_info": {
   "codemirror_mode": {
    "name": "ipython",
    "version": 3
   },
   "file_extension": ".py",
   "mimetype": "text/x-python",
   "name": "python",
   "nbconvert_exporter": "python",
   "pygments_lexer": "ipython3",
   "version": "3.9.13"
  }
 },
 "nbformat": 4,
 "nbformat_minor": 2
}
